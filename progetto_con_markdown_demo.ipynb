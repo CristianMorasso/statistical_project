{
  "cells": [
    {
      "cell_type": "markdown",
      "metadata": {
        "colab_type": "text",
        "id": "view-in-github"
      },
      "source": [
        "<a href=\"https://colab.research.google.com/github/CristianMorasso/statistical_project/blob/master/Copia_di_statiscal_learning.ipynb\" target=\"_parent\"><img src=\"https://colab.research.google.com/assets/colab-badge.svg\" alt=\"Open In Colab\"/></a>"
      ]
    },
    {
      "cell_type": "markdown",
      "metadata": {
        "id": "DFS000cMNXMb"
      },
      "source": [
        "# Statistical Learning Project: ALFA Dataset Analysis\n"
      ]
    },
    {
      "cell_type": "code",
      "execution_count": 1,
      "metadata": {
        "colab": {
          "base_uri": "https://localhost:8080/"
        },
        "id": "AYUOovxy7XZ8",
        "outputId": "b15df9d8-7934-484b-ff28-b5ceda802dce"
      },
      "outputs": [
        {
          "name": "stdout",
          "output_type": "stream",
          "text": [
            "Requirement already satisfied: sktime in c:\\users\\fvirg\\appdata\\local\\programs\\python\\python39\\lib\\site-packages (0.30.1)\n",
            "Requirement already satisfied: scikit-learn in c:\\users\\fvirg\\appdata\\local\\programs\\python\\python39\\lib\\site-packages (1.3.2)\n",
            "Requirement already satisfied: polars in c:\\users\\fvirg\\appdata\\local\\programs\\python\\python39\\lib\\site-packages (0.20.31)\n",
            "Requirement already satisfied: numpy in c:\\users\\fvirg\\appdata\\local\\programs\\python\\python39\\lib\\site-packages (1.25.0)\n",
            "Requirement already satisfied: joblib<1.5,>=1.2.0 in c:\\users\\fvirg\\appdata\\local\\programs\\python\\python39\\lib\\site-packages (from sktime) (1.3.2)\n",
            "Requirement already satisfied: packaging in c:\\users\\fvirg\\appdata\\local\\programs\\python\\python39\\lib\\site-packages (from sktime) (23.1)\n",
            "Requirement already satisfied: pandas<2.3.0,>=1.1 in c:\\users\\fvirg\\appdata\\local\\programs\\python\\python39\\lib\\site-packages (from sktime) (2.0.2)\n",
            "Requirement already satisfied: scikit-base<0.9.0,>=0.6.1 in c:\\users\\fvirg\\appdata\\local\\programs\\python\\python39\\lib\\site-packages (from sktime) (0.8.0)\n",
            "Requirement already satisfied: scipy<2.0.0,>=1.2 in c:\\users\\fvirg\\appdata\\local\\programs\\python\\python39\\lib\\site-packages (from sktime) (1.11.4)\n",
            "Requirement already satisfied: threadpoolctl>=2.0.0 in c:\\users\\fvirg\\appdata\\local\\programs\\python\\python39\\lib\\site-packages (from scikit-learn) (3.1.0)\n",
            "Requirement already satisfied: python-dateutil>=2.8.2 in c:\\users\\fvirg\\appdata\\local\\programs\\python\\python39\\lib\\site-packages (from pandas<2.3.0,>=1.1->sktime) (2.8.2)\n",
            "Requirement already satisfied: pytz>=2020.1 in c:\\users\\fvirg\\appdata\\local\\programs\\python\\python39\\lib\\site-packages (from pandas<2.3.0,>=1.1->sktime) (2023.3)\n",
            "Requirement already satisfied: tzdata>=2022.1 in c:\\users\\fvirg\\appdata\\local\\programs\\python\\python39\\lib\\site-packages (from pandas<2.3.0,>=1.1->sktime) (2023.3)\n",
            "Requirement already satisfied: six>=1.5 in c:\\users\\fvirg\\appdata\\local\\programs\\python\\python39\\lib\\site-packages (from python-dateutil>=2.8.2->pandas<2.3.0,>=1.1->sktime) (1.15.0)\n"
          ]
        },
        {
          "name": "stderr",
          "output_type": "stream",
          "text": [
            "DEPRECATION: beakerx-base 2.0.1 has a non-standard dependency specifier ipywidgets<8pandas,>=7.5.1. pip 24.1 will enforce this behaviour change. A possible replacement is to upgrade to a newer version of beakerx-base or contact the author to suggest that they release a version with a conforming dependency specifiers. Discussion can be found at https://github.com/pypa/pip/issues/12063\n"
          ]
        }
      ],
      "source": [
        "# Download the dataset from our git repository hosted on Github\n",
        "! pip install sktime scikit-learn polars numpy\n",
        "# !rm -rf statiscal_project\n",
        "# !git clone https://github.com/CristianMorasso/statistical_project.git\n",
        "\n",
        "LEN_DATASET = 45"
      ]
    },
    {
      "cell_type": "markdown",
      "metadata": {},
      "source": [
        "# Intro\n"
      ]
    },
    {
      "cell_type": "markdown",
      "metadata": {},
      "source": [
        "The project concerns the comparison of 3 different models (K-Nearest Neighbour, Convolutional Neural Network, Recurrent Neural Network) for a classification problem applied to the ALFA dataset.\n",
        "\n",
        "**Project Outline**\n",
        "1. Filling empty values with neighbors mean.\n",
        "2. Split in windows, choose Dims and step (jump)\n",
        "3. Split Train and Test\n",
        "4. Feature selection\n",
        "    1. RandomForest on Train\n",
        "        * With error features\n",
        "        * Without error features\n",
        "    2. SelectKBest form SKLearn\n",
        "5. Rebalancing of the train dataset using SMOTE\n",
        "6. Pipeline Models\n",
        "    * KNeighborsTimeSeriesClassifier\n",
        "    * Convolutional Neural Network (CNN)\n",
        "    * Recurrent Neural Network (RNN)\n",
        "7. Model comparison\n",
        "    * Learning Curve (?)\n",
        "    * Confusion Matrix -> Accuracy, Recall, Precision, F1 \n",
        "\n"
      ]
    },
    {
      "cell_type": "markdown",
      "metadata": {},
      "source": [
        "# Dataset"
      ]
    },
    {
      "cell_type": "markdown",
      "metadata": {},
      "source": [
        "\n",
        "<img title=\"Autonomous flight example\" width=\"500\" src=\"./imgs/UAV.png\">\n",
        "\n",
        "The [ALFA Dataset](https://theairlab.org/alfa-dataset/) concerns several fault types in control surfaces of a fixed-wing Unmanned Aerial Vehicle (UAV) for use in Fault Detection and Isolation.\n",
        "\n",
        "The data is collected using sensors, like GPS or wind estimation, local and global state (internal state of UAV).\n",
        "\n",
        "The failures can be:\n",
        "* Engine\n",
        "* Aileron (can be used as specific or generic)\n",
        "* Ruddler (can be used as specific or generic)\n",
        "* Elevator (can be used as specific or generic)\n",
        "\n",
        "[Img Traiettoria/esempio dati]()\n",
        "\n",
        "*Mettere hist con distribuzioni classi*\n",
        "\n",
        "\n",
        "DESCRIZIONE DATASET DEL PROF:\n",
        "This dataset presents several fault types in control surfaces of a fixed-wing UAV for use in Fault Detection and Isolation (FDI) and Anomaly Detection (AD) research.\n",
        "The dataset includes processed data for 47 autonomous flights with 23 sudden full engine failure scenarios and 24 scenarios for seven other types of sudden control surface (actuator) faults, with a total of 66 minutes of flight in normal conditions and 13 minutes of post-fault flight time. The platform used for collecting data is a custom modification of the Carbon Z\n",
        "T-28 model plane"
      ]
    },
    {
      "cell_type": "code",
      "execution_count": 2,
      "metadata": {},
      "outputs": [
        {
          "name": "stdout",
          "output_type": "stream",
          "text": [
            "features is not a dir or not useful!\n",
            "Error for no_failure\n",
            "Error for no_failure\n",
            "Error for no_failure\n",
            "Error for no_failure\n",
            "Error for no_failure\n",
            "Error for no_failure\n",
            "Error for no_failure\n",
            "Error for no_failure\n",
            "Error for no_failure\n",
            "README.md is not a dir or not useful!\n",
            "__init__.py is not a dir or not useful!\n",
            "\n",
            "Number of Time Series: 45\n"
          ]
        }
      ],
      "source": [
        "# Read the data from the csv files\n",
        "import numpy as np\n",
        "import pandas  as pd\n",
        "import os\n",
        "from random import shuffle\n",
        "\n",
        "dataset_dir = \"data\"\n",
        "dfs = [] # dataframe list\n",
        "\n",
        "classToString= {0:\"no_failure\", 1:\"elevator\", 2:\"engine\", 3:\"rudder\",4:\"ailerons\"}\n",
        "Y_fly = []\n",
        "stringToClass = {}\n",
        "for key, value in classToString.items():\n",
        "  stringToClass[value] = key\n",
        "\n",
        "series_counter = 0\n",
        "\n",
        "for _, cl  in enumerate(os.listdir(dataset_dir)):\n",
        "  path1 = os.path.join(dataset_dir, cl)\n",
        "\n",
        "  # Get rid of files or bad dirs\n",
        "  if not os.path.isdir(path1) or cl == \"features\":\n",
        "    print(f\"{cl} is not a dir or not useful!\")\n",
        "    continue\n",
        "  \n",
        "  for f in  os.listdir(path1):\n",
        "    pathf = os.path.join(path1, f)\n",
        "    df = pd.read_csv(pathf)\n",
        "\n",
        "    # Fix the label field\n",
        "    try:\n",
        "      df[\"field.data\"] = df[\"field.data\"].apply(func=lambda x: stringToClass[cl] if int(x)>0 else 0)\n",
        "      df = df.rename(columns={\"field.data\": \"Y\"})\n",
        "    except:\n",
        "      print(f\"Error for {cl}\")\n",
        "      df[\"Y\"]  = pd.Series([ 0 for _ in range(df.shape[0])])\n",
        "\n",
        "    # Drop the time column!\n",
        "    df = df.drop(\"%time\", axis=1)\n",
        "\n",
        "    # Save it\n",
        "    Y_fly.append(stringToClass[cl])\n",
        "    dfs.append(df)\n",
        "    series_counter+=1\n",
        "\n",
        "print(f\"\\nNumber of Time Series: {len(dfs)}\")\n",
        "assert len(dfs) == LEN_DATASET # We know the exact number from the repo\n"
      ]
    },
    {
      "cell_type": "code",
      "execution_count": 3,
      "metadata": {},
      "outputs": [
        {
          "data": {
            "text/plain": [
              "Index(['field.orientation.x', 'field.orientation.y', 'field.orientation.z',\n",
              "       'field.angular_velocity.x', 'field.angular_velocity.y',\n",
              "       'field.angular_velocity.z', 'field.linear_acceleration.x',\n",
              "       'field.linear_acceleration.y', 'field.linear_acceleration.z', 'Y',\n",
              "       'field.twist.linear.x', 'field.twist.linear.y', 'field.twist.linear.z',\n",
              "       'field.twist.angular.x', 'field.twist.angular.y',\n",
              "       'field.twist.angular.z', 'field.alt_error', 'field.aspd_error',\n",
              "       'field.xtrack_error', 'delta_yaw', 'delta_pitch', 'delta_roll',\n",
              "       'delta_x', 'delta_y', 'delta_z', 'delta_roll_airspeed'],\n",
              "      dtype='object')"
            ]
          },
          "execution_count": 3,
          "metadata": {},
          "output_type": "execute_result"
        }
      ],
      "source": [
        "df.columns"
      ]
    },
    {
      "cell_type": "code",
      "execution_count": 4,
      "metadata": {},
      "outputs": [
        {
          "data": {
            "text/plain": [
              "Text(0.5, 0.98, 'Showing dataset')"
            ]
          },
          "execution_count": 4,
          "metadata": {},
          "output_type": "execute_result"
        },
        {
          "data": {
            "image/png": "[encoded data removed]",
            "text/plain": [
              "<Figure size 1152x576 with 2 Axes>"
            ]
          },
          "metadata": {
            "needs_background": "light"
          },
          "output_type": "display_data"
        }
      ],
      "source": [
        "import matplotlib.pylab as plt\n",
        "import seaborn as sns\n",
        "Y_fly = np.array(Y_fly)\n",
        "sns.set_theme()\n",
        "sns.set_style()\n",
        "fig, (left, right) = plt.subplots(1,2, figsize=(16,8))\n",
        "\n",
        "left.plot(np.arange(dfs[np.where(Y_fly == 0)[0][0]][\"delta_x\"].shape[0]),dfs[np.where(Y_fly == 0)[0][0]][\"field.linear_acceleration.x\"] )\n",
        "left.plot(np.arange(dfs[np.where(Y_fly == 2)[0][0]][\"delta_x\"].shape[0]),dfs[np.where(Y_fly == 2)[0][0]][\"field.linear_acceleration.x\"])\n",
        "left.plot(np.arange(dfs[np.where(Y_fly == 4)[0][1]][\"delta_x\"].shape[0]),dfs[np.where(Y_fly == 4)[0][1]][\"field.linear_acceleration.x\"])\n",
        "# plt.legend()\n",
        "left.set_title(\"Variable: field.linear_acceleration.x\")\n",
        "right.plot(np.arange(dfs[np.where(Y_fly == 0)[0][2]][\"delta_x\"].shape[0]),dfs[np.where(Y_fly == 0)[0][2]][\"delta_pitch\"],label=classToString[0] )\n",
        "right.plot(np.arange(dfs[np.where(Y_fly == 2)[0][2]][\"delta_x\"].shape[0]),dfs[np.where(Y_fly == 2)[0][2]][\"delta_pitch\"],label=classToString[2])\n",
        "right.plot(np.arange(dfs[np.where(Y_fly == 4)[0][5]][\"delta_x\"].shape[0]),dfs[np.where(Y_fly == 4)[0][5]][\"delta_pitch\"],label=classToString[4])\n",
        "right.set_title(\"Variable: delta_x\")\n",
        "fig.legend(loc=\"upper center\", bbox_to_anchor=(0.5, .95),fancybox=True, shadow=True, ncol=3)\n",
        "fig.suptitle(\"Showing dataset\")\n",
        "#trovare lunghezze corrette"
      ]
    },
    {
      "cell_type": "code",
      "execution_count": 5,
      "metadata": {},
      "outputs": [],
      "source": [
        "# Shuffle the array of dataframes for so that classes are not contiguous\n",
        "shuffle(dfs)"
      ]
    },
    {
      "cell_type": "markdown",
      "metadata": {},
      "source": [
        "# Preprocessing"
      ]
    },
    {
      "cell_type": "markdown",
      "metadata": {},
      "source": [
        "### Outline\n",
        "* Removing not complitly shared features \n",
        "* Imputing of missing values\n",
        "* Feature selection: SimpleKBest (from [SK-Learn](https://scikit-learn.org/stable/modules/generated/sklearn.feature_selection.SelectKBest.html)) and RandomForest\n",
        "* Splitting in Windows\n",
        "* Splitting in Train and Test\n",
        "* Rebalancing of the dataset for the training"
      ]
    },
    {
      "cell_type": "markdown",
      "metadata": {
        "id": "yYKZSxKI3cUq"
      },
      "source": [
        "### Remove not usable features"
      ]
    },
    {
      "cell_type": "code",
      "execution_count": 6,
      "metadata": {
        "colab": {
          "base_uri": "https://localhost:8080/"
        },
        "id": "D0A2_VkK3b_G",
        "outputId": "1527288e-f85b-44e7-b767-0bb606c9a0e8"
      },
      "outputs": [
        {
          "name": "stdout",
          "output_type": "stream",
          "text": [
            "26\n"
          ]
        }
      ],
      "source": [
        "from sklearn.impute import SimpleImputer\n",
        "import numpy as np\n",
        "\n",
        "# Remove useless features and inpute missing values\n",
        "#\n",
        "# finally use the mask on every timeseries of the OG dataframes list\n",
        "\n",
        "# Remove all the features that are not shared by all Time Series\n",
        "#\n",
        "# Only use the variables that can be found in all the dataframes\n",
        "features = []\n",
        "# Get the biggest set:\n",
        "# (We are considering that that the bigger set is just a superset and has all the other base features)\n",
        "for df in dfs:\n",
        "   features = max(features, df.columns.values, key=lambda x: len(x))\n",
        "# Then get the set intersection of all of the features sets\n",
        "features = set(features)\n",
        "for df in dfs:\n",
        "  features = features.intersection(set(df.columns.values))\n",
        "\n",
        "# Apply the feature mask\n",
        "print(len(features))\n",
        "dfs = list(map(lambda x: x[list(features)] , dfs))\n",
        "\n",
        "# Concat all the time series in as single dataframe for later :)\n",
        "concatted_dfs = pd.concat(dfs)\n",
        "concatted_y = concatted_dfs[\"Y\"]\n",
        "concatted_dfs = concatted_dfs.drop(\"Y\", axis=1)"
      ]
    },
    {
      "cell_type": "code",
      "execution_count": 7,
      "metadata": {
        "id": "yggA7T17lyLe"
      },
      "outputs": [],
      "source": [
        "from sklearn.impute import SimpleImputer\n",
        "import numpy as np\n",
        "\n",
        "# Inpute the missing values first\n",
        "dfs = list(map(lambda x: SimpleImputer(missing_values=np.nan, strategy='mean').fit_transform(x) , dfs))"
      ]
    },
    {
      "cell_type": "markdown",
      "metadata": {
        "id": "TygVNz4Q6jDl"
      },
      "source": [
        "### Feature Selection"
      ]
    },
    {
      "cell_type": "markdown",
      "metadata": {
        "id": "hB0vZWpw3FLP"
      },
      "source": [
        "##### With SelectKBest\n",
        "(Link [Here](https://scikit-learn.org/stable/modules/generated/sklearn.feature_selection.SelectKBest.html))\n",
        "\n",
        "Descrizione "
      ]
    },
    {
      "cell_type": "code",
      "execution_count": 8,
      "metadata": {
        "colab": {
          "base_uri": "https://localhost:8080/"
        },
        "id": "gTeZ6pSyXGWC",
        "outputId": "efe0008d-00c7-4059-ca2e-0de138a36496"
      },
      "outputs": [
        {
          "name": "stdout",
          "output_type": "stream",
          "text": [
            "field.orientation.x            291\n",
            "field.twist.angular.x          143\n",
            "delta_yaw                       57\n",
            "field.orientation.y            291\n",
            "field.linear_acceleration.y    291\n",
            "field.linear_acceleration.x    291\n",
            "field.angular_velocity.x       291\n",
            "field.alt_error                 57\n",
            "field.twist.angular.y          143\n",
            "field.xtrack_error              57\n",
            "delta_x                         59\n",
            "delta_y                         59\n",
            "field.angular_velocity.z       291\n",
            "field.twist.linear.y           143\n",
            "delta_roll_airspeed             60\n",
            "field.twist.angular.z          143\n",
            "delta_pitch                     57\n",
            "delta_z                         59\n",
            "field.linear_acceleration.z    291\n",
            "field.orientation.z            291\n",
            "field.twist.linear.x           143\n",
            "field.angular_velocity.y       291\n",
            "field.twist.linear.z           143\n",
            "field.aspd_error                57\n",
            "delta_roll                      59\n",
            "dtype: int64\n",
            "Length of Concatted Dataframes: 93670\n"
          ]
        }
      ],
      "source": [
        "# Print the number of nans per per each columns\n",
        "print(concatted_dfs.isnull().sum())\n",
        "print(f\"Length of Concatted Dataframes: {len(concatted_dfs)}\")"
      ]
    },
    {
      "cell_type": "code",
      "execution_count": 9,
      "metadata": {
        "colab": {
          "base_uri": "https://localhost:8080/"
        },
        "id": "X7tiW05ZEoPU",
        "outputId": "3c281988-2c7b-4920-f7ad-c40538ced177"
      },
      "outputs": [
        {
          "name": "stdout",
          "output_type": "stream",
          "text": [
            "Feature Mask:\n",
            "['field.orientation.x' 'delta_yaw' 'field.orientation.y'\n",
            " 'field.linear_acceleration.y' 'field.linear_acceleration.x'\n",
            " 'field.alt_error' 'field.xtrack_error' 'delta_y'\n",
            " 'field.angular_velocity.z' 'field.twist.linear.y' 'delta_roll_airspeed'\n",
            " 'field.twist.angular.z' 'delta_pitch' 'delta_z'\n",
            " 'field.linear_acceleration.z' 'field.orientation.z'\n",
            " 'field.twist.linear.x' 'field.twist.linear.z' 'field.aspd_error'\n",
            " 'delta_roll']\n",
            "Length of Feature Mask: 20\n"
          ]
        }
      ],
      "source": [
        "from sklearn.feature_selection import SelectKBest\n",
        "import numpy as np\n",
        "\n",
        "# Inpute the nan values to the mean of the other entries value of the same column\n",
        "imp = SimpleImputer(missing_values=np.nan, strategy='mean')\n",
        "imp.fit(concatted_dfs)\n",
        "inp_out = imp.transform(concatted_dfs)\n",
        "\n",
        "# Get the best 20 features of the dataset\n",
        "columns_ = concatted_dfs.columns.values\n",
        "feature_mask= SelectKBest(k=20).fit(inp_out, concatted_y).get_feature_names_out(columns_)\n",
        "\n",
        "# ( Uses sklearn.feature_selection.f_classify )\n",
        "print(\"Feature Mask:\")\n",
        "print(feature_mask)\n",
        "print(f\"Length of Feature Mask: {len(feature_mask)}\")"
      ]
    },
    {
      "cell_type": "markdown",
      "metadata": {
        "id": "1pHOsLRJ6twX"
      },
      "source": [
        "#### With randomForest scores:\n",
        "\n",
        "**Random Forest** is a powerful ensemble learning method used in machine learning for classification and regression tasks. It operates by constructing multiple decision trees during training and outputting the class that is the mode of the classes (classification) or mean prediction (regression) of the individual trees. This approach enhances the accuracy and robustness of the model by reducing overfitting and variance. Random Forest is also valuable for *feature selection*, as it provides a measure of feature importance, helping to identify the most relevant features in a dataset."
      ]
    },
    {
      "cell_type": "code",
      "execution_count": 10,
      "metadata": {
        "id": "Tgkzto3V2F0f"
      },
      "outputs": [],
      "source": [
        "import matplotlib.pyplot as plt\n",
        "from sklearn.ensemble import RandomForestClassifier\n",
        "\n",
        "def plot_feature_importances(model):\n",
        "    fig_scale = 0.9\n",
        "    n_features = len(concatted_dfs.columns) # take the features names from the Concatted DataFrame\n",
        "    plt.figure(figsize=(7*fig_scale,5.4*fig_scale))\n",
        "    plt.barh(range(n_features), model.feature_importances_, align='center')\n",
        "    plt.yticks(np.arange(n_features), concatted_dfs.columns)\n",
        "    plt.xlabel(\"Feature importance\")\n",
        "    plt.ylabel(\"Feature\")\n",
        "    plt.ylim(-1, n_features)"
      ]
    },
    {
      "cell_type": "markdown",
      "metadata": {},
      "source": [
        "Valutare se proporre entrambe le opzioni o solo una"
      ]
    },
    {
      "cell_type": "code",
      "execution_count": 11,
      "metadata": {
        "colab": {
          "base_uri": "https://localhost:8080/",
          "height": 454
        },
        "id": "LChQqhIZrlrh",
        "outputId": "e6838f0d-fac0-4fe7-a8ba-e24c4cb8f2f2"
      },
      "outputs": [
        {
          "data": {
            "image/png": "[encoded data removed]",
            "text/plain": [
              "<Figure size 453.6x349.92 with 1 Axes>"
            ]
          },
          "metadata": {
            "needs_background": "light"
          },
          "output_type": "display_data"
        }
      ],
      "source": [
        "# WITH ERROR COLUMNS:\n",
        "#\n",
        "concatted_ndarray = SimpleImputer(missing_values=np.nan, strategy='mean').fit_transform(concatted_dfs)\n",
        "rf = RandomForestClassifier()\n",
        "rf.fit(concatted_ndarray, concatted_y)\n",
        "# Plot the feature importances\n",
        "plot_feature_importances(rf)\n",
        "\n",
        "# Select the n best features\n",
        "n = 20\n",
        "feature_mask = list(zip(concatted_dfs.columns, rf.feature_importances_))\n",
        "feature_mask.sort(key=lambda x: x[1])\n",
        "feature_mask = list(map(lambda x: x[0], feature_mask[:n]))"
      ]
    },
    {
      "cell_type": "code",
      "execution_count": 12,
      "metadata": {
        "colab": {
          "base_uri": "https://localhost:8080/",
          "height": 454
        },
        "id": "JEruSVZgoQaa",
        "outputId": "8e386e4f-39e5-41e5-94ef-13522b2a7374"
      },
      "outputs": [
        {
          "data": {
            "image/png": "[encoded data removed]",
            "text/plain": [
              "<Figure size 453.6x349.92 with 1 Axes>"
            ]
          },
          "metadata": {
            "needs_background": "light"
          },
          "output_type": "display_data"
        }
      ],
      "source": [
        "# WITHOUT ERROR COLUMNS:\n",
        "#\n",
        "concatted_dfs = concatted_dfs.drop([\"field.alt_error\", \"field.xtrack_error\", \"field.aspd_error\"], axis=1)\n",
        "concatted_ndarray = SimpleImputer(missing_values=np.nan, strategy='mean').fit_transform(concatted_dfs)\n",
        "rf = RandomForestClassifier()\n",
        "rf.fit(concatted_ndarray, concatted_y)\n",
        "# Plot the feature importances\n",
        "plot_feature_importances(rf)\n",
        "# Select the n best features\n",
        "n = 20 # Removing 7 (the ones that are clearly not performing (sub 0.03))\n",
        "feature_mask = list(zip(concatted_dfs.columns, rf.feature_importances_))\n",
        "feature_mask.sort(key=lambda x: x[1])\n",
        "feature_mask = list(map(lambda x: x[0], feature_mask[:n]))"
      ]
    },
    {
      "cell_type": "markdown",
      "metadata": {
        "id": "tZORfFeIsTJz"
      },
      "source": [
        "### Split the dataset into windows\n",
        "\n",
        "We decided to split the time series in windows with size `window_length`, to increase the number of samples but mainly to produce online methods, widely used in Time series analysis. "
      ]
    },
    {
      "cell_type": "code",
      "execution_count": 13,
      "metadata": {
        "colab": {
          "base_uri": "https://localhost:8080/"
        },
        "id": "dFN8Sg2KTYSE",
        "outputId": "8e5299e8-1229-4a95-cc20-1f3993adebc7"
      },
      "outputs": [
        {
          "name": "stdout",
          "output_type": "stream",
          "text": [
            "Length of windowed dataset: 45\n"
          ]
        }
      ],
      "source": [
        "from sktime.split import SlidingWindowSplitter\n",
        "\n",
        "splitted_ndarrays, window_length, step_length = [], 10, 10\n",
        "splitter = SlidingWindowSplitter(window_length=window_length, step_length=step_length)\n",
        "splitted_ndarrays = [ list(map(lambda x: x[0], splitter.split_series(df))) for df in dfs] # We are ignoring the forecasting horizon\n",
        "\n",
        "print(f\"Length of windowed dataset: {len(splitted_ndarrays)}\")\n",
        "assert len(splitted_ndarrays) == LEN_DATASET"
      ]
    },
    {
      "cell_type": "code",
      "execution_count": 14,
      "metadata": {
        "colab": {
          "base_uri": "https://localhost:8080/"
        },
        "id": "klkac66I5oyA",
        "outputId": "7222036e-85f6-4bd0-e893-fada156bf28f"
      },
      "outputs": [
        {
          "name": "stdout",
          "output_type": "stream",
          "text": [
            "n_windows:  9342\n"
          ]
        }
      ],
      "source": [
        "# Split into windows\n",
        "_splitted_ndarrays = []\n",
        "_splitted_ys = []\n",
        "features = list(features)\n",
        "y_index = features.index(\"Y\") # Index of the Y column\n",
        "features.pop(y_index)\n",
        "#features = [\"flight\", \"step\", *features]\n",
        "\n",
        "i = 0 # Number of windows\n",
        "\n",
        "for sa in splitted_ndarrays:\n",
        "  for a in sa:\n",
        "\n",
        "    # Retrieve the label and save it separately\n",
        "    _splitted_ys.append(np.max(a[:,y_index]))\n",
        "    # And then delete it\n",
        "    a = np.delete(a, y_index, axis=1)\n",
        "\n",
        "    # np.concatenate([flight, step, a], axis=1)\n",
        "    _splitted_ndarrays.append(a)\n",
        "    i+=1 # Increase window counter\n",
        "\n",
        "assert len(_splitted_ys) == len(_splitted_ndarrays)\n",
        "print(\"n_windows: \", len(_splitted_ndarrays))"
      ]
    },
    {
      "cell_type": "markdown",
      "metadata": {
        "id": "E7mUlWl_beM2"
      },
      "source": [
        "### Split in Train and set:"
      ]
    },
    {
      "cell_type": "code",
      "execution_count": 15,
      "metadata": {
        "id": "BSTv_sbrbcBi"
      },
      "outputs": [],
      "source": [
        "import math\n",
        "from random import shuffle\n",
        "\n",
        "train_size = int(math.floor(len(_splitted_ndarrays)*0.8))\n",
        "zipped = list(zip(_splitted_ndarrays, _splitted_ys))\n",
        "shuffle(zipped)\n",
        "\n",
        "X_train, X_test = list(map(lambda x: x[0], zipped[:train_size])), list(map(lambda x: x[0], zipped[train_size:]))\n",
        "y_train, y_test = np.array(list(map(lambda x: x[1], zipped[:train_size]))), np.array(list(map(lambda x: x[1], zipped[train_size:])))"
      ]
    },
    {
      "cell_type": "markdown",
      "metadata": {
        "id": "N1_zSKdKrybu"
      },
      "source": [
        "### Multi-Indexed Pandas Dataframe (sktime Panel)"
      ]
    },
    {
      "cell_type": "code",
      "execution_count": 16,
      "metadata": {
        "id": "m0BsGLcFtA_q"
      },
      "outputs": [],
      "source": [
        "# Finally let's create a multiIndexed pandas.Dataframe so that we can use our data with the sktime library\n",
        "def toMultiIndexed(windows, feature_mask):\n",
        "  _dfs = []\n",
        "  for i, npVals in enumerate(windows):\n",
        "    d = pd.DataFrame(npVals,columns=feature_mask)\n",
        "    # The two columns for the multi-indexed Dataframe\n",
        "    d.insert(0, \"flight\", [i for _ in range(int(npVals.shape[0]))], True)\n",
        "    d.insert(1, \"step\", pd.RangeIndex(int(npVals.shape[0])), True)\n",
        "    _dfs.append(d)\n",
        "\n",
        "  _dfs = pd.concat(_dfs)\n",
        "  # Set the 2 Indexes (onl  y flight is unique)\n",
        "  _dfs = _dfs.drop_duplicates(subset=['flight', 'step'], keep='last')\n",
        "  _dfs = _dfs.set_index([\"flight\", \"step\"])\n",
        "\n",
        "  return _dfs\n",
        "\n",
        "X_train, X_test = toMultiIndexed(X_train, features), toMultiIndexed(X_test, features)"
      ]
    },
    {
      "cell_type": "code",
      "execution_count": 17,
      "metadata": {
        "colab": {
          "base_uri": "https://localhost:8080/",
          "height": 827
        },
        "id": "LGgF9HRt4sav",
        "outputId": "19f8a275-9457-433d-cafb-99936ab46275"
      },
      "outputs": [
        {
          "name": "stdout",
          "output_type": "stream",
          "text": [
            "X_train: (74730, 25)\n",
            "X_test: (18690, 25)\n",
            "y_train: (7473,)\n",
            "y_test: (1869,)\n"
          ]
        },
        {
          "data": {
            "text/html": [
              "<div>\n",
              "<style scoped>\n",
              "    .dataframe tbody tr th:only-of-type {\n",
              "        vertical-align: middle;\n",
              "    }\n",
              "\n",
              "    .dataframe tbody tr th {\n",
              "        vertical-align: top;\n",
              "    }\n",
              "\n",
              "    .dataframe thead th {\n",
              "        text-align: right;\n",
              "    }\n",
              "</style>\n",
              "<table border=\"1\" class=\"dataframe\">\n",
              "  <thead>\n",
              "    <tr style=\"text-align: right;\">\n",
              "      <th></th>\n",
              "      <th></th>\n",
              "      <th>field.orientation.x</th>\n",
              "      <th>field.twist.angular.x</th>\n",
              "      <th>delta_yaw</th>\n",
              "      <th>field.orientation.y</th>\n",
              "      <th>field.linear_acceleration.y</th>\n",
              "      <th>field.linear_acceleration.x</th>\n",
              "      <th>field.angular_velocity.x</th>\n",
              "      <th>field.alt_error</th>\n",
              "      <th>field.twist.angular.y</th>\n",
              "      <th>field.xtrack_error</th>\n",
              "      <th>...</th>\n",
              "      <th>field.twist.angular.z</th>\n",
              "      <th>delta_pitch</th>\n",
              "      <th>delta_z</th>\n",
              "      <th>field.linear_acceleration.z</th>\n",
              "      <th>field.orientation.z</th>\n",
              "      <th>field.twist.linear.x</th>\n",
              "      <th>field.angular_velocity.y</th>\n",
              "      <th>field.twist.linear.z</th>\n",
              "      <th>field.aspd_error</th>\n",
              "      <th>delta_roll</th>\n",
              "    </tr>\n",
              "    <tr>\n",
              "      <th>flight</th>\n",
              "      <th>step</th>\n",
              "      <th></th>\n",
              "      <th></th>\n",
              "      <th></th>\n",
              "      <th></th>\n",
              "      <th></th>\n",
              "      <th></th>\n",
              "      <th></th>\n",
              "      <th></th>\n",
              "      <th></th>\n",
              "      <th></th>\n",
              "      <th></th>\n",
              "      <th></th>\n",
              "      <th></th>\n",
              "      <th></th>\n",
              "      <th></th>\n",
              "      <th></th>\n",
              "      <th></th>\n",
              "      <th></th>\n",
              "      <th></th>\n",
              "      <th></th>\n",
              "      <th></th>\n",
              "    </tr>\n",
              "  </thead>\n",
              "  <tbody>\n",
              "    <tr>\n",
              "      <th rowspan=\"10\" valign=\"top\">0</th>\n",
              "      <th>0</th>\n",
              "      <td>0.026795</td>\n",
              "      <td>-0.147277</td>\n",
              "      <td>7.603027</td>\n",
              "      <td>-0.033842</td>\n",
              "      <td>0.549172</td>\n",
              "      <td>0.049033</td>\n",
              "      <td>-0.240825</td>\n",
              "      <td>5.360000</td>\n",
              "      <td>0.011372</td>\n",
              "      <td>3.511401</td>\n",
              "      <td>...</td>\n",
              "      <td>-0.135880</td>\n",
              "      <td>1.879402</td>\n",
              "      <td>-0.376790</td>\n",
              "      <td>10.326402</td>\n",
              "      <td>-0.951421</td>\n",
              "      <td>-14.537020</td>\n",
              "      <td>-0.066036</td>\n",
              "      <td>-0.420386</td>\n",
              "      <td>2.832699</td>\n",
              "      <td>-3.732791</td>\n",
              "    </tr>\n",
              "    <tr>\n",
              "      <th>1</th>\n",
              "      <td>0.026795</td>\n",
              "      <td>-0.240825</td>\n",
              "      <td>7.603027</td>\n",
              "      <td>-0.033842</td>\n",
              "      <td>0.549172</td>\n",
              "      <td>0.049033</td>\n",
              "      <td>-0.240825</td>\n",
              "      <td>5.360000</td>\n",
              "      <td>-0.066036</td>\n",
              "      <td>3.511401</td>\n",
              "      <td>...</td>\n",
              "      <td>-0.051516</td>\n",
              "      <td>1.879402</td>\n",
              "      <td>-0.236031</td>\n",
              "      <td>10.326402</td>\n",
              "      <td>-0.951421</td>\n",
              "      <td>-14.658667</td>\n",
              "      <td>-0.066036</td>\n",
              "      <td>-0.173705</td>\n",
              "      <td>2.832699</td>\n",
              "      <td>-3.732791</td>\n",
              "    </tr>\n",
              "    <tr>\n",
              "      <th>2</th>\n",
              "      <td>0.026795</td>\n",
              "      <td>-0.240825</td>\n",
              "      <td>7.603027</td>\n",
              "      <td>-0.033842</td>\n",
              "      <td>0.549172</td>\n",
              "      <td>0.049033</td>\n",
              "      <td>-0.240825</td>\n",
              "      <td>5.360000</td>\n",
              "      <td>-0.066036</td>\n",
              "      <td>3.511401</td>\n",
              "      <td>...</td>\n",
              "      <td>-0.051516</td>\n",
              "      <td>1.879402</td>\n",
              "      <td>-0.087318</td>\n",
              "      <td>10.326402</td>\n",
              "      <td>-0.951421</td>\n",
              "      <td>-14.658667</td>\n",
              "      <td>-0.066036</td>\n",
              "      <td>-0.173705</td>\n",
              "      <td>2.832699</td>\n",
              "      <td>-3.732791</td>\n",
              "    </tr>\n",
              "    <tr>\n",
              "      <th>3</th>\n",
              "      <td>0.026795</td>\n",
              "      <td>-0.240825</td>\n",
              "      <td>7.603027</td>\n",
              "      <td>-0.033842</td>\n",
              "      <td>0.549172</td>\n",
              "      <td>0.049033</td>\n",
              "      <td>-0.240825</td>\n",
              "      <td>5.380000</td>\n",
              "      <td>-0.066036</td>\n",
              "      <td>3.449284</td>\n",
              "      <td>...</td>\n",
              "      <td>-0.051516</td>\n",
              "      <td>1.819402</td>\n",
              "      <td>-0.007967</td>\n",
              "      <td>10.326402</td>\n",
              "      <td>-0.951421</td>\n",
              "      <td>-14.658667</td>\n",
              "      <td>-0.066036</td>\n",
              "      <td>-0.173705</td>\n",
              "      <td>-6.769371</td>\n",
              "      <td>-3.982791</td>\n",
              "    </tr>\n",
              "    <tr>\n",
              "      <th>4</th>\n",
              "      <td>0.026795</td>\n",
              "      <td>-0.240825</td>\n",
              "      <td>7.603027</td>\n",
              "      <td>-0.033842</td>\n",
              "      <td>0.549172</td>\n",
              "      <td>0.049033</td>\n",
              "      <td>-0.240825</td>\n",
              "      <td>5.380000</td>\n",
              "      <td>-0.066036</td>\n",
              "      <td>3.373338</td>\n",
              "      <td>...</td>\n",
              "      <td>-0.051516</td>\n",
              "      <td>1.709402</td>\n",
              "      <td>0.051808</td>\n",
              "      <td>10.326402</td>\n",
              "      <td>-0.951421</td>\n",
              "      <td>-14.658667</td>\n",
              "      <td>-0.066036</td>\n",
              "      <td>-0.173705</td>\n",
              "      <td>-6.769371</td>\n",
              "      <td>-4.242791</td>\n",
              "    </tr>\n",
              "    <tr>\n",
              "      <th>5</th>\n",
              "      <td>0.026795</td>\n",
              "      <td>-0.240825</td>\n",
              "      <td>7.603027</td>\n",
              "      <td>-0.033842</td>\n",
              "      <td>0.549172</td>\n",
              "      <td>0.049033</td>\n",
              "      <td>-0.240825</td>\n",
              "      <td>5.380000</td>\n",
              "      <td>-0.066036</td>\n",
              "      <td>3.373338</td>\n",
              "      <td>...</td>\n",
              "      <td>-0.051516</td>\n",
              "      <td>1.709402</td>\n",
              "      <td>0.051808</td>\n",
              "      <td>10.326402</td>\n",
              "      <td>-0.951421</td>\n",
              "      <td>-14.658667</td>\n",
              "      <td>-0.066036</td>\n",
              "      <td>-0.173705</td>\n",
              "      <td>-6.769371</td>\n",
              "      <td>-4.242791</td>\n",
              "    </tr>\n",
              "    <tr>\n",
              "      <th>6</th>\n",
              "      <td>0.026795</td>\n",
              "      <td>-0.240825</td>\n",
              "      <td>7.603027</td>\n",
              "      <td>-0.033842</td>\n",
              "      <td>0.549172</td>\n",
              "      <td>0.049033</td>\n",
              "      <td>-0.240825</td>\n",
              "      <td>5.370000</td>\n",
              "      <td>-0.066036</td>\n",
              "      <td>3.316350</td>\n",
              "      <td>...</td>\n",
              "      <td>-0.051516</td>\n",
              "      <td>1.659402</td>\n",
              "      <td>-0.011703</td>\n",
              "      <td>10.326402</td>\n",
              "      <td>-0.951421</td>\n",
              "      <td>-14.712258</td>\n",
              "      <td>-0.066036</td>\n",
              "      <td>0.004617</td>\n",
              "      <td>-11.990547</td>\n",
              "      <td>-4.542791</td>\n",
              "    </tr>\n",
              "    <tr>\n",
              "      <th>7</th>\n",
              "      <td>0.026795</td>\n",
              "      <td>-0.240825</td>\n",
              "      <td>7.603027</td>\n",
              "      <td>-0.033842</td>\n",
              "      <td>0.549172</td>\n",
              "      <td>0.049033</td>\n",
              "      <td>-0.240825</td>\n",
              "      <td>5.370000</td>\n",
              "      <td>-0.066036</td>\n",
              "      <td>3.316350</td>\n",
              "      <td>...</td>\n",
              "      <td>-0.051516</td>\n",
              "      <td>1.659402</td>\n",
              "      <td>-0.011703</td>\n",
              "      <td>10.326402</td>\n",
              "      <td>-0.951421</td>\n",
              "      <td>-14.712258</td>\n",
              "      <td>-0.066036</td>\n",
              "      <td>0.004617</td>\n",
              "      <td>-11.990547</td>\n",
              "      <td>-4.542791</td>\n",
              "    </tr>\n",
              "    <tr>\n",
              "      <th>8</th>\n",
              "      <td>0.026795</td>\n",
              "      <td>-0.240825</td>\n",
              "      <td>7.603027</td>\n",
              "      <td>-0.033842</td>\n",
              "      <td>0.549172</td>\n",
              "      <td>0.049033</td>\n",
              "      <td>-0.240825</td>\n",
              "      <td>5.360000</td>\n",
              "      <td>-0.066036</td>\n",
              "      <td>3.245439</td>\n",
              "      <td>...</td>\n",
              "      <td>-0.051516</td>\n",
              "      <td>1.659402</td>\n",
              "      <td>-0.036515</td>\n",
              "      <td>10.326402</td>\n",
              "      <td>-0.951421</td>\n",
              "      <td>-14.712258</td>\n",
              "      <td>-0.066036</td>\n",
              "      <td>0.004617</td>\n",
              "      <td>-17.140198</td>\n",
              "      <td>-4.542791</td>\n",
              "    </tr>\n",
              "    <tr>\n",
              "      <th>9</th>\n",
              "      <td>0.006671</td>\n",
              "      <td>-0.240825</td>\n",
              "      <td>7.603027</td>\n",
              "      <td>-0.019387</td>\n",
              "      <td>0.068647</td>\n",
              "      <td>-0.088260</td>\n",
              "      <td>-0.034373</td>\n",
              "      <td>5.360000</td>\n",
              "      <td>-0.066036</td>\n",
              "      <td>3.245439</td>\n",
              "      <td>...</td>\n",
              "      <td>-0.051516</td>\n",
              "      <td>1.699402</td>\n",
              "      <td>-0.008932</td>\n",
              "      <td>9.433997</td>\n",
              "      <td>-0.951457</td>\n",
              "      <td>-14.712258</td>\n",
              "      <td>-0.093810</td>\n",
              "      <td>0.004617</td>\n",
              "      <td>-17.140198</td>\n",
              "      <td>-4.822791</td>\n",
              "    </tr>\n",
              "    <tr>\n",
              "      <th rowspan=\"10\" valign=\"top\">1</th>\n",
              "      <th>0</th>\n",
              "      <td>0.034477</td>\n",
              "      <td>0.129035</td>\n",
              "      <td>1.178772</td>\n",
              "      <td>0.049552</td>\n",
              "      <td>0.382459</td>\n",
              "      <td>-0.009807</td>\n",
              "      <td>0.129035</td>\n",
              "      <td>15.639999</td>\n",
              "      <td>-0.076727</td>\n",
              "      <td>1.183444</td>\n",
              "      <td>...</td>\n",
              "      <td>0.032919</td>\n",
              "      <td>5.484250</td>\n",
              "      <td>-2.087111</td>\n",
              "      <td>11.522814</td>\n",
              "      <td>-0.710395</td>\n",
              "      <td>1.330049</td>\n",
              "      <td>-0.076727</td>\n",
              "      <td>-2.068000</td>\n",
              "      <td>-318.628510</td>\n",
              "      <td>9.562593</td>\n",
              "    </tr>\n",
              "    <tr>\n",
              "      <th>1</th>\n",
              "      <td>0.034477</td>\n",
              "      <td>0.129035</td>\n",
              "      <td>1.178772</td>\n",
              "      <td>0.049552</td>\n",
              "      <td>0.382459</td>\n",
              "      <td>-0.009807</td>\n",
              "      <td>0.129035</td>\n",
              "      <td>15.639999</td>\n",
              "      <td>-0.076727</td>\n",
              "      <td>1.183444</td>\n",
              "      <td>...</td>\n",
              "      <td>0.032919</td>\n",
              "      <td>5.484250</td>\n",
              "      <td>-1.991554</td>\n",
              "      <td>11.522814</td>\n",
              "      <td>-0.710395</td>\n",
              "      <td>1.330049</td>\n",
              "      <td>-0.076727</td>\n",
              "      <td>-2.068000</td>\n",
              "      <td>-318.628510</td>\n",
              "      <td>9.562593</td>\n",
              "    </tr>\n",
              "    <tr>\n",
              "      <th>2</th>\n",
              "      <td>0.034477</td>\n",
              "      <td>0.129035</td>\n",
              "      <td>1.178772</td>\n",
              "      <td>0.049552</td>\n",
              "      <td>0.382459</td>\n",
              "      <td>-0.009807</td>\n",
              "      <td>0.129035</td>\n",
              "      <td>15.830000</td>\n",
              "      <td>-0.076727</td>\n",
              "      <td>1.327148</td>\n",
              "      <td>...</td>\n",
              "      <td>0.032919</td>\n",
              "      <td>5.804250</td>\n",
              "      <td>-1.991554</td>\n",
              "      <td>11.522814</td>\n",
              "      <td>-0.710395</td>\n",
              "      <td>1.330049</td>\n",
              "      <td>-0.076727</td>\n",
              "      <td>-2.068000</td>\n",
              "      <td>-334.385315</td>\n",
              "      <td>10.072593</td>\n",
              "    </tr>\n",
              "    <tr>\n",
              "      <th>3</th>\n",
              "      <td>0.034477</td>\n",
              "      <td>0.129035</td>\n",
              "      <td>1.178772</td>\n",
              "      <td>0.049552</td>\n",
              "      <td>0.382459</td>\n",
              "      <td>-0.009807</td>\n",
              "      <td>0.129035</td>\n",
              "      <td>15.830000</td>\n",
              "      <td>-0.076727</td>\n",
              "      <td>1.327148</td>\n",
              "      <td>...</td>\n",
              "      <td>0.032919</td>\n",
              "      <td>5.804250</td>\n",
              "      <td>-1.828658</td>\n",
              "      <td>11.522814</td>\n",
              "      <td>-0.710395</td>\n",
              "      <td>1.330049</td>\n",
              "      <td>-0.076727</td>\n",
              "      <td>-2.068000</td>\n",
              "      <td>-334.385315</td>\n",
              "      <td>10.072593</td>\n",
              "    </tr>\n",
              "    <tr>\n",
              "      <th>4</th>\n",
              "      <td>0.034477</td>\n",
              "      <td>0.129035</td>\n",
              "      <td>1.178772</td>\n",
              "      <td>0.049552</td>\n",
              "      <td>0.382459</td>\n",
              "      <td>-0.009807</td>\n",
              "      <td>0.129035</td>\n",
              "      <td>16.000000</td>\n",
              "      <td>-0.076727</td>\n",
              "      <td>1.470853</td>\n",
              "      <td>...</td>\n",
              "      <td>0.032919</td>\n",
              "      <td>6.074250</td>\n",
              "      <td>-1.714900</td>\n",
              "      <td>11.522814</td>\n",
              "      <td>-0.710395</td>\n",
              "      <td>1.330049</td>\n",
              "      <td>-0.076727</td>\n",
              "      <td>-2.068000</td>\n",
              "      <td>-334.385315</td>\n",
              "      <td>10.452592</td>\n",
              "    </tr>\n",
              "    <tr>\n",
              "      <th>5</th>\n",
              "      <td>-0.038453</td>\n",
              "      <td>0.129035</td>\n",
              "      <td>1.178772</td>\n",
              "      <td>-0.018868</td>\n",
              "      <td>0.392266</td>\n",
              "      <td>-0.009807</td>\n",
              "      <td>0.111646</td>\n",
              "      <td>16.000000</td>\n",
              "      <td>-0.076727</td>\n",
              "      <td>1.470853</td>\n",
              "      <td>...</td>\n",
              "      <td>0.032919</td>\n",
              "      <td>4.171354</td>\n",
              "      <td>-1.714900</td>\n",
              "      <td>11.777787</td>\n",
              "      <td>0.704640</td>\n",
              "      <td>1.330049</td>\n",
              "      <td>-0.089376</td>\n",
              "      <td>-2.068000</td>\n",
              "      <td>-334.385315</td>\n",
              "      <td>7.967163</td>\n",
              "    </tr>\n",
              "    <tr>\n",
              "      <th>6</th>\n",
              "      <td>-0.038453</td>\n",
              "      <td>0.111646</td>\n",
              "      <td>-357.640610</td>\n",
              "      <td>-0.018868</td>\n",
              "      <td>0.392266</td>\n",
              "      <td>-0.009807</td>\n",
              "      <td>0.111646</td>\n",
              "      <td>16.170000</td>\n",
              "      <td>-0.089376</td>\n",
              "      <td>1.623010</td>\n",
              "      <td>...</td>\n",
              "      <td>0.061501</td>\n",
              "      <td>4.171354</td>\n",
              "      <td>-1.579440</td>\n",
              "      <td>11.777787</td>\n",
              "      <td>0.704640</td>\n",
              "      <td>1.413329</td>\n",
              "      <td>-0.089376</td>\n",
              "      <td>-1.579440</td>\n",
              "      <td>-357.847595</td>\n",
              "      <td>7.967163</td>\n",
              "    </tr>\n",
              "    <tr>\n",
              "      <th>7</th>\n",
              "      <td>-0.038453</td>\n",
              "      <td>0.111646</td>\n",
              "      <td>-357.640610</td>\n",
              "      <td>-0.018868</td>\n",
              "      <td>0.392266</td>\n",
              "      <td>-0.009807</td>\n",
              "      <td>0.111646</td>\n",
              "      <td>16.170000</td>\n",
              "      <td>-0.089376</td>\n",
              "      <td>1.623010</td>\n",
              "      <td>...</td>\n",
              "      <td>0.061501</td>\n",
              "      <td>4.171354</td>\n",
              "      <td>-1.453345</td>\n",
              "      <td>11.777787</td>\n",
              "      <td>0.704640</td>\n",
              "      <td>1.413329</td>\n",
              "      <td>-0.089376</td>\n",
              "      <td>-1.579440</td>\n",
              "      <td>-357.847595</td>\n",
              "      <td>7.977163</td>\n",
              "    </tr>\n",
              "    <tr>\n",
              "      <th>8</th>\n",
              "      <td>-0.038453</td>\n",
              "      <td>0.111646</td>\n",
              "      <td>-357.640610</td>\n",
              "      <td>-0.018868</td>\n",
              "      <td>0.392266</td>\n",
              "      <td>-0.009807</td>\n",
              "      <td>0.111646</td>\n",
              "      <td>16.309999</td>\n",
              "      <td>-0.089376</td>\n",
              "      <td>1.775167</td>\n",
              "      <td>...</td>\n",
              "      <td>0.061501</td>\n",
              "      <td>4.401354</td>\n",
              "      <td>-1.367947</td>\n",
              "      <td>11.777787</td>\n",
              "      <td>0.704640</td>\n",
              "      <td>1.413329</td>\n",
              "      <td>-0.089376</td>\n",
              "      <td>-1.579440</td>\n",
              "      <td>-357.847595</td>\n",
              "      <td>8.347163</td>\n",
              "    </tr>\n",
              "    <tr>\n",
              "      <th>9</th>\n",
              "      <td>-0.038453</td>\n",
              "      <td>0.111646</td>\n",
              "      <td>-357.640610</td>\n",
              "      <td>-0.018868</td>\n",
              "      <td>0.392266</td>\n",
              "      <td>-0.009807</td>\n",
              "      <td>0.111646</td>\n",
              "      <td>16.309999</td>\n",
              "      <td>-0.089376</td>\n",
              "      <td>1.775167</td>\n",
              "      <td>...</td>\n",
              "      <td>0.061501</td>\n",
              "      <td>4.401354</td>\n",
              "      <td>-1.336878</td>\n",
              "      <td>11.777787</td>\n",
              "      <td>0.704640</td>\n",
              "      <td>1.413329</td>\n",
              "      <td>-0.089376</td>\n",
              "      <td>-1.579440</td>\n",
              "      <td>-357.847595</td>\n",
              "      <td>8.347163</td>\n",
              "    </tr>\n",
              "  </tbody>\n",
              "</table>\n",
              "<p>20 rows × 25 columns</p>\n",
              "</div>"
            ],
            "text/plain": [
              "             field.orientation.x  field.twist.angular.x   delta_yaw  \\\n",
              "flight step                                                           \n",
              "0      0                0.026795              -0.147277    7.603027   \n",
              "       1                0.026795              -0.240825    7.603027   \n",
              "       2                0.026795              -0.240825    7.603027   \n",
              "       3                0.026795              -0.240825    7.603027   \n",
              "       4                0.026795              -0.240825    7.603027   \n",
              "       5                0.026795              -0.240825    7.603027   \n",
              "       6                0.026795              -0.240825    7.603027   \n",
              "       7                0.026795              -0.240825    7.603027   \n",
              "       8                0.026795              -0.240825    7.603027   \n",
              "       9                0.006671              -0.240825    7.603027   \n",
              "1      0                0.034477               0.129035    1.178772   \n",
              "       1                0.034477               0.129035    1.178772   \n",
              "       2                0.034477               0.129035    1.178772   \n",
              "       3                0.034477               0.129035    1.178772   \n",
              "       4                0.034477               0.129035    1.178772   \n",
              "       5               -0.038453               0.129035    1.178772   \n",
              "       6               -0.038453               0.111646 -357.640610   \n",
              "       7               -0.038453               0.111646 -357.640610   \n",
              "       8               -0.038453               0.111646 -357.640610   \n",
              "       9               -0.038453               0.111646 -357.640610   \n",
              "\n",
              "             field.orientation.y  field.linear_acceleration.y  \\\n",
              "flight step                                                     \n",
              "0      0               -0.033842                     0.549172   \n",
              "       1               -0.033842                     0.549172   \n",
              "       2               -0.033842                     0.549172   \n",
              "       3               -0.033842                     0.549172   \n",
              "       4               -0.033842                     0.549172   \n",
              "       5               -0.033842                     0.549172   \n",
              "       6               -0.033842                     0.549172   \n",
              "       7               -0.033842                     0.549172   \n",
              "       8               -0.033842                     0.549172   \n",
              "       9               -0.019387                     0.068647   \n",
              "1      0                0.049552                     0.382459   \n",
              "       1                0.049552                     0.382459   \n",
              "       2                0.049552                     0.382459   \n",
              "       3                0.049552                     0.382459   \n",
              "       4                0.049552                     0.382459   \n",
              "       5               -0.018868                     0.392266   \n",
              "       6               -0.018868                     0.392266   \n",
              "       7               -0.018868                     0.392266   \n",
              "       8               -0.018868                     0.392266   \n",
              "       9               -0.018868                     0.392266   \n",
              "\n",
              "             field.linear_acceleration.x  field.angular_velocity.x  \\\n",
              "flight step                                                          \n",
              "0      0                        0.049033                 -0.240825   \n",
              "       1                        0.049033                 -0.240825   \n",
              "       2                        0.049033                 -0.240825   \n",
              "       3                        0.049033                 -0.240825   \n",
              "       4                        0.049033                 -0.240825   \n",
              "       5                        0.049033                 -0.240825   \n",
              "       6                        0.049033                 -0.240825   \n",
              "       7                        0.049033                 -0.240825   \n",
              "       8                        0.049033                 -0.240825   \n",
              "       9                       -0.088260                 -0.034373   \n",
              "1      0                       -0.009807                  0.129035   \n",
              "       1                       -0.009807                  0.129035   \n",
              "       2                       -0.009807                  0.129035   \n",
              "       3                       -0.009807                  0.129035   \n",
              "       4                       -0.009807                  0.129035   \n",
              "       5                       -0.009807                  0.111646   \n",
              "       6                       -0.009807                  0.111646   \n",
              "       7                       -0.009807                  0.111646   \n",
              "       8                       -0.009807                  0.111646   \n",
              "       9                       -0.009807                  0.111646   \n",
              "\n",
              "             field.alt_error  field.twist.angular.y  field.xtrack_error  ...  \\\n",
              "flight step                                                              ...   \n",
              "0      0            5.360000               0.011372            3.511401  ...   \n",
              "       1            5.360000              -0.066036            3.511401  ...   \n",
              "       2            5.360000              -0.066036            3.511401  ...   \n",
              "       3            5.380000              -0.066036            3.449284  ...   \n",
              "       4            5.380000              -0.066036            3.373338  ...   \n",
              "       5            5.380000              -0.066036            3.373338  ...   \n",
              "       6            5.370000              -0.066036            3.316350  ...   \n",
              "       7            5.370000              -0.066036            3.316350  ...   \n",
              "       8            5.360000              -0.066036            3.245439  ...   \n",
              "       9            5.360000              -0.066036            3.245439  ...   \n",
              "1      0           15.639999              -0.076727            1.183444  ...   \n",
              "       1           15.639999              -0.076727            1.183444  ...   \n",
              "       2           15.830000              -0.076727            1.327148  ...   \n",
              "       3           15.830000              -0.076727            1.327148  ...   \n",
              "       4           16.000000              -0.076727            1.470853  ...   \n",
              "       5           16.000000              -0.076727            1.470853  ...   \n",
              "       6           16.170000              -0.089376            1.623010  ...   \n",
              "       7           16.170000              -0.089376            1.623010  ...   \n",
              "       8           16.309999              -0.089376            1.775167  ...   \n",
              "       9           16.309999              -0.089376            1.775167  ...   \n",
              "\n",
              "             field.twist.angular.z  delta_pitch   delta_z  \\\n",
              "flight step                                                 \n",
              "0      0                 -0.135880     1.879402 -0.376790   \n",
              "       1                 -0.051516     1.879402 -0.236031   \n",
              "       2                 -0.051516     1.879402 -0.087318   \n",
              "       3                 -0.051516     1.819402 -0.007967   \n",
              "       4                 -0.051516     1.709402  0.051808   \n",
              "       5                 -0.051516     1.709402  0.051808   \n",
              "       6                 -0.051516     1.659402 -0.011703   \n",
              "       7                 -0.051516     1.659402 -0.011703   \n",
              "       8                 -0.051516     1.659402 -0.036515   \n",
              "       9                 -0.051516     1.699402 -0.008932   \n",
              "1      0                  0.032919     5.484250 -2.087111   \n",
              "       1                  0.032919     5.484250 -1.991554   \n",
              "       2                  0.032919     5.804250 -1.991554   \n",
              "       3                  0.032919     5.804250 -1.828658   \n",
              "       4                  0.032919     6.074250 -1.714900   \n",
              "       5                  0.032919     4.171354 -1.714900   \n",
              "       6                  0.061501     4.171354 -1.579440   \n",
              "       7                  0.061501     4.171354 -1.453345   \n",
              "       8                  0.061501     4.401354 -1.367947   \n",
              "       9                  0.061501     4.401354 -1.336878   \n",
              "\n",
              "             field.linear_acceleration.z  field.orientation.z  \\\n",
              "flight step                                                     \n",
              "0      0                       10.326402            -0.951421   \n",
              "       1                       10.326402            -0.951421   \n",
              "       2                       10.326402            -0.951421   \n",
              "       3                       10.326402            -0.951421   \n",
              "       4                       10.326402            -0.951421   \n",
              "       5                       10.326402            -0.951421   \n",
              "       6                       10.326402            -0.951421   \n",
              "       7                       10.326402            -0.951421   \n",
              "       8                       10.326402            -0.951421   \n",
              "       9                        9.433997            -0.951457   \n",
              "1      0                       11.522814            -0.710395   \n",
              "       1                       11.522814            -0.710395   \n",
              "       2                       11.522814            -0.710395   \n",
              "       3                       11.522814            -0.710395   \n",
              "       4                       11.522814            -0.710395   \n",
              "       5                       11.777787             0.704640   \n",
              "       6                       11.777787             0.704640   \n",
              "       7                       11.777787             0.704640   \n",
              "       8                       11.777787             0.704640   \n",
              "       9                       11.777787             0.704640   \n",
              "\n",
              "             field.twist.linear.x  field.angular_velocity.y  \\\n",
              "flight step                                                   \n",
              "0      0               -14.537020                 -0.066036   \n",
              "       1               -14.658667                 -0.066036   \n",
              "       2               -14.658667                 -0.066036   \n",
              "       3               -14.658667                 -0.066036   \n",
              "       4               -14.658667                 -0.066036   \n",
              "       5               -14.658667                 -0.066036   \n",
              "       6               -14.712258                 -0.066036   \n",
              "       7               -14.712258                 -0.066036   \n",
              "       8               -14.712258                 -0.066036   \n",
              "       9               -14.712258                 -0.093810   \n",
              "1      0                 1.330049                 -0.076727   \n",
              "       1                 1.330049                 -0.076727   \n",
              "       2                 1.330049                 -0.076727   \n",
              "       3                 1.330049                 -0.076727   \n",
              "       4                 1.330049                 -0.076727   \n",
              "       5                 1.330049                 -0.089376   \n",
              "       6                 1.413329                 -0.089376   \n",
              "       7                 1.413329                 -0.089376   \n",
              "       8                 1.413329                 -0.089376   \n",
              "       9                 1.413329                 -0.089376   \n",
              "\n",
              "             field.twist.linear.z  field.aspd_error  delta_roll  \n",
              "flight step                                                      \n",
              "0      0                -0.420386          2.832699   -3.732791  \n",
              "       1                -0.173705          2.832699   -3.732791  \n",
              "       2                -0.173705          2.832699   -3.732791  \n",
              "       3                -0.173705         -6.769371   -3.982791  \n",
              "       4                -0.173705         -6.769371   -4.242791  \n",
              "       5                -0.173705         -6.769371   -4.242791  \n",
              "       6                 0.004617        -11.990547   -4.542791  \n",
              "       7                 0.004617        -11.990547   -4.542791  \n",
              "       8                 0.004617        -17.140198   -4.542791  \n",
              "       9                 0.004617        -17.140198   -4.822791  \n",
              "1      0                -2.068000       -318.628510    9.562593  \n",
              "       1                -2.068000       -318.628510    9.562593  \n",
              "       2                -2.068000       -334.385315   10.072593  \n",
              "       3                -2.068000       -334.385315   10.072593  \n",
              "       4                -2.068000       -334.385315   10.452592  \n",
              "       5                -2.068000       -334.385315    7.967163  \n",
              "       6                -1.579440       -357.847595    7.967163  \n",
              "       7                -1.579440       -357.847595    7.977163  \n",
              "       8                -1.579440       -357.847595    8.347163  \n",
              "       9                -1.579440       -357.847595    8.347163  \n",
              "\n",
              "[20 rows x 25 columns]"
            ]
          },
          "execution_count": 17,
          "metadata": {},
          "output_type": "execute_result"
        }
      ],
      "source": [
        "print(f\"X_train: {X_train.shape}\")\n",
        "print(f\"X_test: {X_test.shape}\")\n",
        "print(f\"y_train: {y_train.shape}\")\n",
        "print(f\"y_test: {y_test.shape}\")\n",
        "X_train.head(20)"
      ]
    },
    {
      "cell_type": "markdown",
      "metadata": {},
      "source": [
        "# Models, Training and Performance\n",
        "\n",
        "We choose to use three models (KNN, CNN, RNN), using the same pipeline, then we are showing the results with some metrics.\n",
        "\n",
        "\n"
      ]
    },
    {
      "cell_type": "code",
      "execution_count": 18,
      "metadata": {},
      "outputs": [],
      "source": [
        "from sktime.datatypes import check_raise\n",
        "from sklearn.model_selection import LearningCurveDisplay\n",
        "from sklearn.metrics import accuracy_score, confusion_matrix, classification_report, ConfusionMatrixDisplay\n",
        "\n",
        "from sklearn.pipeline import Pipeline\n",
        "from sktime.transformations.panel.padder import PaddingTransformer\n",
        "from sktime.transformations.panel.compose import ColumnConcatenator\n",
        "from sktime.transformations.panel.interpolate import TSInterpolator\n",
        "\n",
        "class_labels = np.array(list(classToString.values()))"
      ]
    },
    {
      "cell_type": "markdown",
      "metadata": {},
      "source": [
        "## K-Nearest Neighbour (KNN)"
      ]
    },
    {
      "cell_type": "markdown",
      "metadata": {},
      "source": [
        "**K-Nearest Neighbour (K-NN)** is a supervised machine learning algorithm employed for classification and regression tasks. An advantage of this model is that it is non-parametric (it doesn't make any assumptions about the data distribution) and so is widely disposable in real-life scenarios.\n",
        "\n",
        "The algorithm operates on the principle of *similarity*, where it predicts the label or value of a new data point by considering the labels/values of its K nearest neighbors in the training dataset.\n",
        "\n",
        "Steps of the algorithm:\n",
        "1. select the optimal K\n",
        "2. calculating distances\n",
        "3. finding the nearest neighbors\n",
        "4. voting for classification or taking average for regression\n",
        "\n",
        "It's easy to implement and has few hyperparameters: the value of K and the choice of the distance metric.\n",
        "\n",
        "<div style=\"text-align: center;\">\n",
        "  <img src=\"./imgs/KNNExample.png\" alt=\"KNN Example\" style=\"width: 50%;\"/>\n",
        "  <p style=\"font-size: small;\">Image source: <a href=\"https://www.geeksforgeeks.org/k-nearest-neighbours/\" target=\"_blank\">https://www.geeksforgeeks.org/k-nearest-neighbours/</a></p>\n",
        "</div>\n"
      ]
    },
    {
      "cell_type": "code",
      "execution_count": null,
      "metadata": {},
      "outputs": [
        {
          "data": {
            "text/html": [
              "<style>#sk-44c61ca7-a79f-4486-b890-40498c021f4e {color: black;background-color: white;}#sk-44c61ca7-a79f-4486-b890-40498c021f4e pre{padding: 0;}#sk-44c61ca7-a79f-4486-b890-40498c021f4e div.sk-toggleable {background-color: white;}#sk-44c61ca7-a79f-4486-b890-40498c021f4e label.sk-toggleable__label {cursor: pointer;display: block;width: 100%;margin-bottom: 0;padding: 0.3em;box-sizing: border-box;text-align: center;}#sk-44c61ca7-a79f-4486-b890-40498c021f4e label.sk-toggleable__label-arrow:before {content: \"▸\";float: left;margin-right: 0.25em;color: #696969;}#sk-44c61ca7-a79f-4486-b890-40498c021f4e label.sk-toggleable__label-arrow:hover:before {color: black;}#sk-44c61ca7-a79f-4486-b890-40498c021f4e div.sk-estimator:hover label.sk-toggleable__label-arrow:before {color: black;}#sk-44c61ca7-a79f-4486-b890-40498c021f4e div.sk-toggleable__content {max-height: 0;max-width: 0;overflow: hidden;text-align: left;background-color: #f0f8ff;}#sk-44c61ca7-a79f-4486-b890-40498c021f4e div.sk-toggleable__content pre {margin: 0.2em;color: black;border-radius: 0.25em;background-color: #f0f8ff;}#sk-44c61ca7-a79f-4486-b890-40498c021f4e input.sk-toggleable__control:checked~div.sk-toggleable__content {max-height: 200px;max-width: 100%;overflow: auto;}#sk-44c61ca7-a79f-4486-b890-40498c021f4e input.sk-toggleable__control:checked~label.sk-toggleable__label-arrow:before {content: \"▾\";}#sk-44c61ca7-a79f-4486-b890-40498c021f4e div.sk-estimator input.sk-toggleable__control:checked~label.sk-toggleable__label {background-color: #d4ebff;}#sk-44c61ca7-a79f-4486-b890-40498c021f4e div.sk-label input.sk-toggleable__control:checked~label.sk-toggleable__label {background-color: #d4ebff;}#sk-44c61ca7-a79f-4486-b890-40498c021f4e input.sk-hidden--visually {border: 0;clip: rect(1px 1px 1px 1px);clip: rect(1px, 1px, 1px, 1px);height: 1px;margin: -1px;overflow: hidden;padding: 0;position: absolute;width: 1px;}#sk-44c61ca7-a79f-4486-b890-40498c021f4e div.sk-estimator {font-family: monospace;background-color: #f0f8ff;border: 1px dotted black;border-radius: 0.25em;box-sizing: border-box;margin-bottom: 0.5em;}#sk-44c61ca7-a79f-4486-b890-40498c021f4e div.sk-estimator:hover {background-color: #d4ebff;}#sk-44c61ca7-a79f-4486-b890-40498c021f4e div.sk-parallel-item::after {content: \"\";width: 100%;border-bottom: 1px solid gray;flex-grow: 1;}#sk-44c61ca7-a79f-4486-b890-40498c021f4e div.sk-label:hover label.sk-toggleable__label {background-color: #d4ebff;}#sk-44c61ca7-a79f-4486-b890-40498c021f4e div.sk-serial::before {content: \"\";position: absolute;border-left: 1px solid gray;box-sizing: border-box;top: 2em;bottom: 0;left: 50%;}#sk-44c61ca7-a79f-4486-b890-40498c021f4e div.sk-serial {display: flex;flex-direction: column;align-items: center;background-color: white;padding-right: 0.2em;padding-left: 0.2em;}#sk-44c61ca7-a79f-4486-b890-40498c021f4e div.sk-item {z-index: 1;}#sk-44c61ca7-a79f-4486-b890-40498c021f4e div.sk-parallel {display: flex;align-items: stretch;justify-content: center;background-color: white;}#sk-44c61ca7-a79f-4486-b890-40498c021f4e div.sk-parallel::before {content: \"\";position: absolute;border-left: 1px solid gray;box-sizing: border-box;top: 2em;bottom: 0;left: 50%;}#sk-44c61ca7-a79f-4486-b890-40498c021f4e div.sk-parallel-item {display: flex;flex-direction: column;position: relative;background-color: white;}#sk-44c61ca7-a79f-4486-b890-40498c021f4e div.sk-parallel-item:first-child::after {align-self: flex-end;width: 50%;}#sk-44c61ca7-a79f-4486-b890-40498c021f4e div.sk-parallel-item:last-child::after {align-self: flex-start;width: 50%;}#sk-44c61ca7-a79f-4486-b890-40498c021f4e div.sk-parallel-item:only-child::after {width: 0;}#sk-44c61ca7-a79f-4486-b890-40498c021f4e div.sk-dashed-wrapped {border: 1px dashed gray;margin: 0 0.4em 0.5em 0.4em;box-sizing: border-box;padding-bottom: 0.4em;background-color: white;position: relative;}#sk-44c61ca7-a79f-4486-b890-40498c021f4e div.sk-label label {font-family: monospace;font-weight: bold;background-color: white;display: inline-block;line-height: 1.2em;}#sk-44c61ca7-a79f-4486-b890-40498c021f4e div.sk-label-container {position: relative;z-index: 2;text-align: center;}#sk-44c61ca7-a79f-4486-b890-40498c021f4e div.sk-container {/* jupyter's `normalize.less` sets `[hidden] { display: none; }` but bootstrap.min.css set `[hidden] { display: none !important; }` so we also need the `!important` here to be able to override the default hidden behavior on the sphinx rendered scikit-learn.org. See: https://github.com/scikit-learn/scikit-learn/issues/21755 */display: inline-block !important;position: relative;}#sk-44c61ca7-a79f-4486-b890-40498c021f4e div.sk-text-repr-fallback {display: none;}</style><div id='sk-44c61ca7-a79f-4486-b890-40498c021f4e' class=\"sk-top-container\"><div class=\"sk-text-repr-fallback\"><pre>KNeighborsTimeSeriesClassifier(n_neighbors=5)</pre><b>Please rerun this cell to show the HTML repr or trust the notebook.</b></div><div class=\"sk-container\" hidden><div class='sk-item'><div class=\"sk-estimator sk-toggleable\"><input class=\"sk-toggleable__control sk-hidden--visually\" id=UUID('5007b277-d33d-4823-b53e-5cde2349282f') type=\"checkbox\" checked><label for=UUID('5007b277-d33d-4823-b53e-5cde2349282f') class='sk-toggleable__label sk-toggleable__label-arrow'>KNeighborsTimeSeriesClassifier</label><div class=\"sk-toggleable__content\"><pre>KNeighborsTimeSeriesClassifier(n_neighbors=5)</pre></div></div></div></div></div>"
            ],
            "text/plain": [
              "KNeighborsTimeSeriesClassifier(n_neighbors=5)"
            ]
          },
          "execution_count": 25,
          "metadata": {},
          "output_type": "execute_result"
        }
      ],
      "source": [
        "from sktime.classification.distance_based import KNeighborsTimeSeriesClassifier\n",
        "\n",
        "knn = KNeighborsTimeSeriesClassifier(n_neighbors=5, distance='dtw')\n",
        "knn.fit(X_train, y_train)"
      ]
    },
    {
      "cell_type": "markdown",
      "metadata": {},
      "source": [
        "### Performances"
      ]
    },
    {
      "cell_type": "code",
      "execution_count": null,
      "metadata": {},
      "outputs": [
        {
          "name": "stdout",
          "output_type": "stream",
          "text": [
            "Accuracy della KNN: 0.88\n",
            "\n",
            "Classification Report:\n",
            "               precision    recall  f1-score   support\n",
            "\n",
            "         0.0       0.89      0.98      0.93      1551\n",
            "         1.0       0.25      0.11      0.15         9\n",
            "         2.0       0.85      0.48      0.62       143\n",
            "         3.0       0.80      0.53      0.64        15\n",
            "         4.0       0.70      0.32      0.44       151\n",
            "\n",
            "    accuracy                           0.88      1869\n",
            "   macro avg       0.70      0.49      0.56      1869\n",
            "weighted avg       0.87      0.88      0.86      1869\n",
            "\n"
          ]
        },
        {
          "data": {
            "image/png": "[encoded data removed]",
            "text/plain": [
              "<Figure size 432x288 with 2 Axes>"
            ]
          },
          "metadata": {
            "needs_background": "light"
          },
          "output_type": "display_data"
        }
      ],
      "source": [
        "y_pred_knn = knn.predict(X_test)\n",
        "\n",
        "knn_acc = accuracy_score(y_test, y_pred_knn)\n",
        "print(f\"Accuracy della KNN: {knn_acc:.2f}\")\n",
        "\n",
        "report = classification_report(y_test, y_pred_knn, zero_division = 0.0)\n",
        "print(\"\\nClassification Report:\\n\", report)\n",
        "\n",
        "cm = confusion_matrix(y_test, y_pred_knn)\n",
        "disp = ConfusionMatrixDisplay(confusion_matrix=cm, display_labels=class_labels)\n",
        "disp.plot(cmap=plt.cm.Blues)\n",
        "plt.title('Confusion Matrix')\n",
        "plt.show()"
      ]
    },
    {
      "cell_type": "markdown",
      "metadata": {},
      "source": [
        "## Convolutional Neural Network (CNN)"
      ]
    },
    {
      "cell_type": "markdown",
      "metadata": {},
      "source": [
        "**Convolutional Neural Networks (CNNs)** are a class of deep learning algorithms commonly used for processing and analyzing visual data, but they have been applied also to other types of data, like the time series.\n",
        "\n",
        "The key concepts at the basis of CNN are:\n",
        "- *convolutional layers*: they can be a lot and each of them learns to detect different features, based on different filters at different resolutions\n",
        "- *relu*: activation function that leads to a faster learning by mapping the negative values to zero and maintaining the positive ones\n",
        "- *pooling layers*: simplifies the output by a non-linear downsampling (average or max), reducing the number of parameters the network has to learn\n",
        "\n",
        "<div style=\"text-align: center;\">\n",
        "  <img src=\"./imgs/CNNExample.png\" alt=\"CNN Example\" style=\"width: 50%;\"/>\n",
        "  <p style=\"font-size: small;\">Image source: <a href=\"https://it.mathworks.com/discovery/convolutional-neural-network.html\" target=\"_blank\">https://it.mathworks.com/discovery/convolutional-neural-network.html</a></p>\n",
        "</div>\n",
        " \n",
        "CNNs are suitable when you have a large amount of complex data, for example to learn the main features contained in an image, but also used with signals and time series. \n",
        "Some application fields are: medical imaging, audio elaboration, object detection, generation of synthetic data, and many others."
      ]
    },
    {
      "cell_type": "code",
      "execution_count": null,
      "metadata": {
        "colab": {
          "base_uri": "https://localhost:8080/"
        },
        "id": "b_XtirFiwvvw",
        "outputId": "6e7d0127-1a83-4813-a1f7-6310e52f406c"
      },
      "outputs": [
        {
          "data": {
            "text/html": [
              "<style>#sk-b8344518-e2d3-4438-898e-2ced75ac9d71 {color: black;background-color: white;}#sk-b8344518-e2d3-4438-898e-2ced75ac9d71 pre{padding: 0;}#sk-b8344518-e2d3-4438-898e-2ced75ac9d71 div.sk-toggleable {background-color: white;}#sk-b8344518-e2d3-4438-898e-2ced75ac9d71 label.sk-toggleable__label {cursor: pointer;display: block;width: 100%;margin-bottom: 0;padding: 0.3em;box-sizing: border-box;text-align: center;}#sk-b8344518-e2d3-4438-898e-2ced75ac9d71 label.sk-toggleable__label-arrow:before {content: \"▸\";float: left;margin-right: 0.25em;color: #696969;}#sk-b8344518-e2d3-4438-898e-2ced75ac9d71 label.sk-toggleable__label-arrow:hover:before {color: black;}#sk-b8344518-e2d3-4438-898e-2ced75ac9d71 div.sk-estimator:hover label.sk-toggleable__label-arrow:before {color: black;}#sk-b8344518-e2d3-4438-898e-2ced75ac9d71 div.sk-toggleable__content {max-height: 0;max-width: 0;overflow: hidden;text-align: left;background-color: #f0f8ff;}#sk-b8344518-e2d3-4438-898e-2ced75ac9d71 div.sk-toggleable__content pre {margin: 0.2em;color: black;border-radius: 0.25em;background-color: #f0f8ff;}#sk-b8344518-e2d3-4438-898e-2ced75ac9d71 input.sk-toggleable__control:checked~div.sk-toggleable__content {max-height: 200px;max-width: 100%;overflow: auto;}#sk-b8344518-e2d3-4438-898e-2ced75ac9d71 input.sk-toggleable__control:checked~label.sk-toggleable__label-arrow:before {content: \"▾\";}#sk-b8344518-e2d3-4438-898e-2ced75ac9d71 div.sk-estimator input.sk-toggleable__control:checked~label.sk-toggleable__label {background-color: #d4ebff;}#sk-b8344518-e2d3-4438-898e-2ced75ac9d71 div.sk-label input.sk-toggleable__control:checked~label.sk-toggleable__label {background-color: #d4ebff;}#sk-b8344518-e2d3-4438-898e-2ced75ac9d71 input.sk-hidden--visually {border: 0;clip: rect(1px 1px 1px 1px);clip: rect(1px, 1px, 1px, 1px);height: 1px;margin: -1px;overflow: hidden;padding: 0;position: absolute;width: 1px;}#sk-b8344518-e2d3-4438-898e-2ced75ac9d71 div.sk-estimator {font-family: monospace;background-color: #f0f8ff;border: 1px dotted black;border-radius: 0.25em;box-sizing: border-box;margin-bottom: 0.5em;}#sk-b8344518-e2d3-4438-898e-2ced75ac9d71 div.sk-estimator:hover {background-color: #d4ebff;}#sk-b8344518-e2d3-4438-898e-2ced75ac9d71 div.sk-parallel-item::after {content: \"\";width: 100%;border-bottom: 1px solid gray;flex-grow: 1;}#sk-b8344518-e2d3-4438-898e-2ced75ac9d71 div.sk-label:hover label.sk-toggleable__label {background-color: #d4ebff;}#sk-b8344518-e2d3-4438-898e-2ced75ac9d71 div.sk-serial::before {content: \"\";position: absolute;border-left: 1px solid gray;box-sizing: border-box;top: 2em;bottom: 0;left: 50%;}#sk-b8344518-e2d3-4438-898e-2ced75ac9d71 div.sk-serial {display: flex;flex-direction: column;align-items: center;background-color: white;padding-right: 0.2em;padding-left: 0.2em;}#sk-b8344518-e2d3-4438-898e-2ced75ac9d71 div.sk-item {z-index: 1;}#sk-b8344518-e2d3-4438-898e-2ced75ac9d71 div.sk-parallel {display: flex;align-items: stretch;justify-content: center;background-color: white;}#sk-b8344518-e2d3-4438-898e-2ced75ac9d71 div.sk-parallel::before {content: \"\";position: absolute;border-left: 1px solid gray;box-sizing: border-box;top: 2em;bottom: 0;left: 50%;}#sk-b8344518-e2d3-4438-898e-2ced75ac9d71 div.sk-parallel-item {display: flex;flex-direction: column;position: relative;background-color: white;}#sk-b8344518-e2d3-4438-898e-2ced75ac9d71 div.sk-parallel-item:first-child::after {align-self: flex-end;width: 50%;}#sk-b8344518-e2d3-4438-898e-2ced75ac9d71 div.sk-parallel-item:last-child::after {align-self: flex-start;width: 50%;}#sk-b8344518-e2d3-4438-898e-2ced75ac9d71 div.sk-parallel-item:only-child::after {width: 0;}#sk-b8344518-e2d3-4438-898e-2ced75ac9d71 div.sk-dashed-wrapped {border: 1px dashed gray;margin: 0 0.4em 0.5em 0.4em;box-sizing: border-box;padding-bottom: 0.4em;background-color: white;position: relative;}#sk-b8344518-e2d3-4438-898e-2ced75ac9d71 div.sk-label label {font-family: monospace;font-weight: bold;background-color: white;display: inline-block;line-height: 1.2em;}#sk-b8344518-e2d3-4438-898e-2ced75ac9d71 div.sk-label-container {position: relative;z-index: 2;text-align: center;}#sk-b8344518-e2d3-4438-898e-2ced75ac9d71 div.sk-container {/* jupyter's `normalize.less` sets `[hidden] { display: none; }` but bootstrap.min.css set `[hidden] { display: none !important; }` so we also need the `!important` here to be able to override the default hidden behavior on the sphinx rendered scikit-learn.org. See: https://github.com/scikit-learn/scikit-learn/issues/21755 */display: inline-block !important;position: relative;}#sk-b8344518-e2d3-4438-898e-2ced75ac9d71 div.sk-text-repr-fallback {display: none;}</style><div id='sk-b8344518-e2d3-4438-898e-2ced75ac9d71' class=\"sk-top-container\"><div class=\"sk-text-repr-fallback\"><pre>CNNClassifier(avg_pool_size=1, batch_size=4, kernel_size=3,\n",
              "              loss=&#x27;binary_crossentropy&#x27;, n_conv_layers=3, n_epochs=50)</pre><b>Please rerun this cell to show the HTML repr or trust the notebook.</b></div><div class=\"sk-container\" hidden><div class='sk-item'><div class=\"sk-estimator sk-toggleable\"><input class=\"sk-toggleable__control sk-hidden--visually\" id=UUID('3cd685ed-af80-4b2c-b6cc-57f145ae9f83') type=\"checkbox\" checked><label for=UUID('3cd685ed-af80-4b2c-b6cc-57f145ae9f83') class='sk-toggleable__label sk-toggleable__label-arrow'>CNNClassifier</label><div class=\"sk-toggleable__content\"><pre>CNNClassifier(avg_pool_size=1, batch_size=4, kernel_size=3,\n",
              "              loss=&#x27;binary_crossentropy&#x27;, n_conv_layers=3, n_epochs=50)</pre></div></div></div></div></div>"
            ],
            "text/plain": [
              "CNNClassifier(avg_pool_size=1, batch_size=4, kernel_size=3,\n",
              "              loss='binary_crossentropy', n_conv_layers=3, n_epochs=50)"
            ]
          },
          "execution_count": 21,
          "metadata": {},
          "output_type": "execute_result"
        }
      ],
      "source": [
        "from sktime.classification.deep_learning.cnn import CNNClassifier\n",
        "from sktime.datatypes import check_raise\n",
        "\n",
        "cnn = CNNClassifier(n_epochs=50, batch_size=4, kernel_size=3, avg_pool_size=1, n_conv_layers=3, loss='binary_crossentropy')\n",
        "check_raise(X_train, mtype=\"pd-multiindex\")\n",
        "check_raise(y_train, mtype='np.ndarray')\n",
        "cnn.fit(X_train, y_train)"
      ]
    },
    {
      "cell_type": "markdown",
      "metadata": {},
      "source": [
        "### Performances"
      ]
    },
    {
      "cell_type": "code",
      "execution_count": null,
      "metadata": {
        "colab": {
          "base_uri": "https://localhost:8080/",
          "height": 733
        },
        "id": "LLDeDIYqUGRD",
        "outputId": "a208d016-bee2-4b39-a9b3-942ca82b1104"
      },
      "outputs": [
        {
          "name": "stdout",
          "output_type": "stream",
          "text": [
            "468/468 [==============================] - 1s 1ms/step\n",
            "Accuracy: 0.86\n",
            "\n",
            "Classification Report:\n",
            "               precision    recall  f1-score   support\n",
            "\n",
            "         0.0       0.87      0.99      0.92      1551\n",
            "         1.0       0.00      0.00      0.00         9\n",
            "         2.0       0.74      0.52      0.61       143\n",
            "         3.0       0.00      0.00      0.00        15\n",
            "         4.0       0.00      0.00      0.00       151\n",
            "\n",
            "    accuracy                           0.86      1869\n",
            "   macro avg       0.32      0.30      0.31      1869\n",
            "weighted avg       0.78      0.86      0.81      1869\n",
            "\n"
          ]
        },
        {
          "data": {
            "image/png": "[encoded data removed]",
            "text/plain": [
              "<Figure size 432x288 with 2 Axes>"
            ]
          },
          "metadata": {
            "needs_background": "light"
          },
          "output_type": "display_data"
        }
      ],
      "source": [
        "y_pred_cnn = cnn.predict(X_test)\n",
        "\n",
        "cnn_acc = accuracy_score(y_test, y_pred_cnn)\n",
        "print(f\"Accuracy: {cnn_acc:.2f}\")\n",
        "\n",
        "report = classification_report(y_test, y_pred_cnn, zero_division = 0.0)\n",
        "print(\"\\nClassification Report:\\n\", report)\n",
        "\n",
        "cm = confusion_matrix(y_test, y_pred_cnn)\n",
        "disp = ConfusionMatrixDisplay(confusion_matrix=cm, display_labels=class_labels) #np.unique(y_test)\n",
        "disp.plot(cmap=plt.cm.Blues)\n",
        "plt.title('Confusion Matrix')\n",
        "plt.show()"
      ]
    },
    {
      "cell_type": "markdown",
      "metadata": {},
      "source": [
        "## Recurrent Neural Network (RNN)"
      ]
    },
    {
      "cell_type": "markdown",
      "metadata": {},
      "source": [
        "**Recurrent Neural Networks (RNNs)** are a class of neural networks designed for sequential data. Unlike traditional feedforward neural networks, RNNs have connections that form directed cycles, enabling them to maintain a \"memory\" of previous inputs in the sequence.\n",
        "\n",
        "The most important feature in RNN is its *hidden state*, which remembers some information about a sequence until that moment. This state acts like a memory, allowing the net to remember the past information and use it to produce the next output.\n",
        "\n",
        "<div style=\"text-align: center;\">\n",
        "  <img src=\"./imgs/RNNExample.png\" alt=\"RNN Example\" style=\"width: 50%;\"/>\n",
        "  <p style=\"font-size: small;\">Image source: <a href=\"https://www.geeksforgeeks.org/introduction-to-recurrent-neural-network/\" target=\"_blank\">https://www.geeksforgeeks.org/introduction-to-recurrent-neural-network/</a></p>\n",
        "</div>\n",
        "\n",
        "RNNs are suitable for capturing temporal dependencies and relationships in sequential data, making them effective for tasks where context over time is important."
      ]
    },
    {
      "cell_type": "code",
      "execution_count": null,
      "metadata": {},
      "outputs": [
        {
          "name": "stdout",
          "output_type": "stream",
          "text": [
            "RECURRENT NEURAL NETWORK\n"
          ]
        },
        {
          "data": {
            "text/html": [
              "<style>#sk-2279522c-cf5a-4c8d-86f9-9467de630cd9 {color: black;background-color: white;}#sk-2279522c-cf5a-4c8d-86f9-9467de630cd9 pre{padding: 0;}#sk-2279522c-cf5a-4c8d-86f9-9467de630cd9 div.sk-toggleable {background-color: white;}#sk-2279522c-cf5a-4c8d-86f9-9467de630cd9 label.sk-toggleable__label {cursor: pointer;display: block;width: 100%;margin-bottom: 0;padding: 0.3em;box-sizing: border-box;text-align: center;}#sk-2279522c-cf5a-4c8d-86f9-9467de630cd9 label.sk-toggleable__label-arrow:before {content: \"▸\";float: left;margin-right: 0.25em;color: #696969;}#sk-2279522c-cf5a-4c8d-86f9-9467de630cd9 label.sk-toggleable__label-arrow:hover:before {color: black;}#sk-2279522c-cf5a-4c8d-86f9-9467de630cd9 div.sk-estimator:hover label.sk-toggleable__label-arrow:before {color: black;}#sk-2279522c-cf5a-4c8d-86f9-9467de630cd9 div.sk-toggleable__content {max-height: 0;max-width: 0;overflow: hidden;text-align: left;background-color: #f0f8ff;}#sk-2279522c-cf5a-4c8d-86f9-9467de630cd9 div.sk-toggleable__content pre {margin: 0.2em;color: black;border-radius: 0.25em;background-color: #f0f8ff;}#sk-2279522c-cf5a-4c8d-86f9-9467de630cd9 input.sk-toggleable__control:checked~div.sk-toggleable__content {max-height: 200px;max-width: 100%;overflow: auto;}#sk-2279522c-cf5a-4c8d-86f9-9467de630cd9 input.sk-toggleable__control:checked~label.sk-toggleable__label-arrow:before {content: \"▾\";}#sk-2279522c-cf5a-4c8d-86f9-9467de630cd9 div.sk-estimator input.sk-toggleable__control:checked~label.sk-toggleable__label {background-color: #d4ebff;}#sk-2279522c-cf5a-4c8d-86f9-9467de630cd9 div.sk-label input.sk-toggleable__control:checked~label.sk-toggleable__label {background-color: #d4ebff;}#sk-2279522c-cf5a-4c8d-86f9-9467de630cd9 input.sk-hidden--visually {border: 0;clip: rect(1px 1px 1px 1px);clip: rect(1px, 1px, 1px, 1px);height: 1px;margin: -1px;overflow: hidden;padding: 0;position: absolute;width: 1px;}#sk-2279522c-cf5a-4c8d-86f9-9467de630cd9 div.sk-estimator {font-family: monospace;background-color: #f0f8ff;border: 1px dotted black;border-radius: 0.25em;box-sizing: border-box;margin-bottom: 0.5em;}#sk-2279522c-cf5a-4c8d-86f9-9467de630cd9 div.sk-estimator:hover {background-color: #d4ebff;}#sk-2279522c-cf5a-4c8d-86f9-9467de630cd9 div.sk-parallel-item::after {content: \"\";width: 100%;border-bottom: 1px solid gray;flex-grow: 1;}#sk-2279522c-cf5a-4c8d-86f9-9467de630cd9 div.sk-label:hover label.sk-toggleable__label {background-color: #d4ebff;}#sk-2279522c-cf5a-4c8d-86f9-9467de630cd9 div.sk-serial::before {content: \"\";position: absolute;border-left: 1px solid gray;box-sizing: border-box;top: 2em;bottom: 0;left: 50%;}#sk-2279522c-cf5a-4c8d-86f9-9467de630cd9 div.sk-serial {display: flex;flex-direction: column;align-items: center;background-color: white;padding-right: 0.2em;padding-left: 0.2em;}#sk-2279522c-cf5a-4c8d-86f9-9467de630cd9 div.sk-item {z-index: 1;}#sk-2279522c-cf5a-4c8d-86f9-9467de630cd9 div.sk-parallel {display: flex;align-items: stretch;justify-content: center;background-color: white;}#sk-2279522c-cf5a-4c8d-86f9-9467de630cd9 div.sk-parallel::before {content: \"\";position: absolute;border-left: 1px solid gray;box-sizing: border-box;top: 2em;bottom: 0;left: 50%;}#sk-2279522c-cf5a-4c8d-86f9-9467de630cd9 div.sk-parallel-item {display: flex;flex-direction: column;position: relative;background-color: white;}#sk-2279522c-cf5a-4c8d-86f9-9467de630cd9 div.sk-parallel-item:first-child::after {align-self: flex-end;width: 50%;}#sk-2279522c-cf5a-4c8d-86f9-9467de630cd9 div.sk-parallel-item:last-child::after {align-self: flex-start;width: 50%;}#sk-2279522c-cf5a-4c8d-86f9-9467de630cd9 div.sk-parallel-item:only-child::after {width: 0;}#sk-2279522c-cf5a-4c8d-86f9-9467de630cd9 div.sk-dashed-wrapped {border: 1px dashed gray;margin: 0 0.4em 0.5em 0.4em;box-sizing: border-box;padding-bottom: 0.4em;background-color: white;position: relative;}#sk-2279522c-cf5a-4c8d-86f9-9467de630cd9 div.sk-label label {font-family: monospace;font-weight: bold;background-color: white;display: inline-block;line-height: 1.2em;}#sk-2279522c-cf5a-4c8d-86f9-9467de630cd9 div.sk-label-container {position: relative;z-index: 2;text-align: center;}#sk-2279522c-cf5a-4c8d-86f9-9467de630cd9 div.sk-container {/* jupyter's `normalize.less` sets `[hidden] { display: none; }` but bootstrap.min.css set `[hidden] { display: none !important; }` so we also need the `!important` here to be able to override the default hidden behavior on the sphinx rendered scikit-learn.org. See: https://github.com/scikit-learn/scikit-learn/issues/21755 */display: inline-block !important;position: relative;}#sk-2279522c-cf5a-4c8d-86f9-9467de630cd9 div.sk-text-repr-fallback {display: none;}</style><div id='sk-2279522c-cf5a-4c8d-86f9-9467de630cd9' class=\"sk-top-container\"><div class=\"sk-text-repr-fallback\"><pre>SimpleRNNClassifier(batch_size=20, loss=&#x27;binary_crossentropy&#x27;, n_epochs=50)</pre><b>Please rerun this cell to show the HTML repr or trust the notebook.</b></div><div class=\"sk-container\" hidden><div class='sk-item'><div class=\"sk-estimator sk-toggleable\"><input class=\"sk-toggleable__control sk-hidden--visually\" id=UUID('72dc6b8d-24b3-4b22-ba04-6ad23b9fdb31') type=\"checkbox\" checked><label for=UUID('72dc6b8d-24b3-4b22-ba04-6ad23b9fdb31') class='sk-toggleable__label sk-toggleable__label-arrow'>SimpleRNNClassifier</label><div class=\"sk-toggleable__content\"><pre>SimpleRNNClassifier(batch_size=20, loss=&#x27;binary_crossentropy&#x27;, n_epochs=50)</pre></div></div></div></div></div>"
            ],
            "text/plain": [
              "SimpleRNNClassifier(batch_size=20, loss='binary_crossentropy', n_epochs=50)"
            ]
          },
          "execution_count": 23,
          "metadata": {},
          "output_type": "execute_result"
        }
      ],
      "source": [
        "from sktime.classification.deep_learning.rnn import SimpleRNNClassifier\n",
        "\n",
        "rnn = SimpleRNNClassifier(n_epochs=50, batch_size=20, loss='binary_crossentropy')\n",
        "rnn.fit(X_train, y_train)\n",
        "# rnn.score(X_test, y_test)"
      ]
    },
    {
      "cell_type": "markdown",
      "metadata": {},
      "source": [
        "### Performances"
      ]
    },
    {
      "cell_type": "code",
      "execution_count": null,
      "metadata": {
        "colab": {
          "base_uri": "https://localhost:8080/",
          "height": 767
        },
        "id": "nh03M8Wy7ZIN",
        "outputId": "a9b00c47-e3d9-475e-8d8d-f14a621a9ae5"
      },
      "outputs": [
        {
          "name": "stdout",
          "output_type": "stream",
          "text": [
            "94/94 [==============================] - 0s 1ms/step\n",
            "Accuracy: 0.89\n",
            "\n",
            "Classification Report:\n",
            "               precision    recall  f1-score   support\n",
            "\n",
            "         0.0       0.88      1.00      0.94      1551\n",
            "         1.0       0.00      0.00      0.00         9\n",
            "         2.0       0.96      0.71      0.82       143\n",
            "         3.0       0.90      0.60      0.72        15\n",
            "         4.0       0.00      0.00      0.00       151\n",
            "\n",
            "    accuracy                           0.89      1869\n",
            "   macro avg       0.55      0.46      0.50      1869\n",
            "weighted avg       0.81      0.89      0.85      1869\n",
            "\n"
          ]
        },
        {
          "data": {
            "image/png": "[encoded data removed]",
            "text/plain": [
              "<Figure size 432x288 with 2 Axes>"
            ]
          },
          "metadata": {
            "needs_background": "light"
          },
          "output_type": "display_data"
        }
      ],
      "source": [
        "y_pred_rnn = rnn.predict(X_test)\n",
        "\n",
        "rnn_acc = accuracy_score(y_test, y_pred_rnn)\n",
        "print(f\"Accuracy: {rnn_acc:.2f}\")\n",
        "\n",
        "report = classification_report(y_test, y_pred_rnn, zero_division = 0.0)\n",
        "print(\"\\nClassification Report:\\n\", report)\n",
        "\n",
        "cm = confusion_matrix(y_test, y_pred_rnn)\n",
        "disp = ConfusionMatrixDisplay(confusion_matrix=cm, display_labels=class_labels)\n",
        "disp.plot(cmap=plt.cm.Blues)\n",
        "plt.title('Confusion Matrix')\n",
        "plt.show()\n"
      ]
    }
  ],
  "metadata": {
    "colab": {
      "include_colab_link": true,
      "provenance": []
    },
    "kernelspec": {
      "display_name": "Python 3",
      "name": "python3"
    },
    "language_info": {
      "codemirror_mode": {
        "name": "ipython",
        "version": 3
      },
      "file_extension": ".py",
      "mimetype": "text/x-python",
      "name": "python",
      "nbconvert_exporter": "python",
      "pygments_lexer": "ipython3",
      "version": "3.9.10"
    }
  },
  "nbformat": 4,
  "nbformat_minor": 0
}
