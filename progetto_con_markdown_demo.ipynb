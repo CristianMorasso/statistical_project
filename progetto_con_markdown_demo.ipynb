{
  "cells": [
    {
      "cell_type": "markdown",
      "metadata": {
        "colab_type": "text",
        "id": "view-in-github"
      },
      "source": [
        "<a href=\"https://colab.research.google.com/github/CristianMorasso/statistical_project/blob/master/Copia_di_statiscal_learning.ipynb\" target=\"_parent\"><img src=\"https://colab.research.google.com/assets/colab-badge.svg\" alt=\"Open In Colab\"/></a>"
      ]
    },
    {
      "cell_type": "markdown",
      "metadata": {
        "id": "DFS000cMNXMb"
      },
      "source": [
        "# Statistical Learning Project: ALFA Dataset Analysis\n"
      ]
    },
    {
      "cell_type": "code",
      "execution_count": 1,
      "metadata": {
        "colab": {
          "base_uri": "https://localhost:8080/"
        },
        "id": "AYUOovxy7XZ8",
        "outputId": "b15df9d8-7934-484b-ff28-b5ceda802dce"
      },
      "outputs": [
        {
          "name": "stdout",
          "output_type": "stream",
          "text": [
            "Requirement already satisfied: sktime in c:\\users\\fvirg\\appdata\\local\\programs\\python\\python39\\lib\\site-packages (0.30.1)\n",
            "Requirement already satisfied: scikit-learn in c:\\users\\fvirg\\appdata\\local\\programs\\python\\python39\\lib\\site-packages (1.3.2)\n",
            "Requirement already satisfied: polars in c:\\users\\fvirg\\appdata\\local\\programs\\python\\python39\\lib\\site-packages (0.20.31)"
          ]
        },
        {
          "name": "stderr",
          "output_type": "stream",
          "text": [
            "DEPRECATION: beakerx-base 2.0.1 has a non-standard dependency specifier ipywidgets<8pandas,>=7.5.1. pip 24.1 will enforce this behaviour change. A possible replacement is to upgrade to a newer version of beakerx-base or contact the author to suggest that they release a version with a conforming dependency specifiers. Discussion can be found at https://github.com/pypa/pip/issues/12063\n"
          ]
        },
        {
          "name": "stdout",
          "output_type": "stream",
          "text": [
            "\n",
            "Requirement already satisfied: numpy in c:\\users\\fvirg\\appdata\\local\\programs\\python\\python39\\lib\\site-packages (1.25.0)\n",
            "Requirement already satisfied: joblib<1.5,>=1.2.0 in c:\\users\\fvirg\\appdata\\local\\programs\\python\\python39\\lib\\site-packages (from sktime) (1.3.2)\n",
            "Requirement already satisfied: packaging in c:\\users\\fvirg\\appdata\\local\\programs\\python\\python39\\lib\\site-packages (from sktime) (23.1)\n",
            "Requirement already satisfied: pandas<2.3.0,>=1.1 in c:\\users\\fvirg\\appdata\\local\\programs\\python\\python39\\lib\\site-packages (from sktime) (2.0.2)\n",
            "Requirement already satisfied: scikit-base<0.9.0,>=0.6.1 in c:\\users\\fvirg\\appdata\\local\\programs\\python\\python39\\lib\\site-packages (from sktime) (0.8.0)\n",
            "Requirement already satisfied: scipy<2.0.0,>=1.2 in c:\\users\\fvirg\\appdata\\local\\programs\\python\\python39\\lib\\site-packages (from sktime) (1.11.4)\n",
            "Requirement already satisfied: threadpoolctl>=2.0.0 in c:\\users\\fvirg\\appdata\\local\\programs\\python\\python39\\lib\\site-packages (from scikit-learn) (3.1.0)\n",
            "Requirement already satisfied: python-dateutil>=2.8.2 in c:\\users\\fvirg\\appdata\\local\\programs\\python\\python39\\lib\\site-packages (from pandas<2.3.0,>=1.1->sktime) (2.8.2)\n",
            "Requirement already satisfied: pytz>=2020.1 in c:\\users\\fvirg\\appdata\\local\\programs\\python\\python39\\lib\\site-packages (from pandas<2.3.0,>=1.1->sktime) (2023.3)\n",
            "Requirement already satisfied: tzdata>=2022.1 in c:\\users\\fvirg\\appdata\\local\\programs\\python\\python39\\lib\\site-packages (from pandas<2.3.0,>=1.1->sktime) (2023.3)\n",
            "Requirement already satisfied: six>=1.5 in c:\\users\\fvirg\\appdata\\local\\programs\\python\\python39\\lib\\site-packages (from python-dateutil>=2.8.2->pandas<2.3.0,>=1.1->sktime) (1.15.0)\n"
          ]
        }
      ],
      "source": [
        "# Download the dataset from our git repository hosted on Github\n",
        "! pip install sktime scikit-learn polars numpy\n",
        "# !rm -rf statiscal_project\n",
        "# !git clone https://github.com/CristianMorasso/statistical_project.git\n",
        "\n",
        "LEN_DATASET = 45"
      ]
    },
    {
      "cell_type": "markdown",
      "metadata": {},
      "source": [
        "# Intro\n"
      ]
    },
    {
      "cell_type": "markdown",
      "metadata": {},
      "source": [
        "The project concerns the comparison of 3 different models (K-Nearest Neighbour, Convolutional Neural Network, Recurrent Neural Network) for a classification problem applied to the AirLab Failure and Anomaly (ALFA) Dataset.\n",
        "\n",
        "**Project Outline**\n",
        "1. Download and parsing\n",
        "2. Remove unusable features and Inpute missing values\n",
        "3. Split the dataset into windows\n",
        "4. Split Train and Test set\n",
        "5. Feature selection\n",
        "    1. SelectKBest form SKLearn\n",
        "    2. RandomForest on Train\n",
        "        * With error features\n",
        "        * Without error features\n",
        "6. Rebalancing of the train dataset using SMOTE\n",
        "7. Testing Models\n",
        "    * KNeighborsTimeSeriesClassifier\n",
        "    * Convolutional Neural Network (CNN)\n",
        "    * Recurrent Neural Network (RNN)\n",
        "8. Model comparison\n",
        "    * Confusion Matrix and Accuracy, Recall, Precision, F1 \n"
      ]
    },
    {
      "cell_type": "markdown",
      "metadata": {},
      "source": [
        "# Dataset"
      ]
    },
    {
      "cell_type": "markdown",
      "metadata": {},
      "source": [
        "\n",
        "<img title=\"Autonomous flight example\" width=\"500\" src=\"./imgs/UAV.png\">\n",
        "\n",
        "The [AirLab Failure and Anomaly (ALFA) Dataset](https://theairlab.org/alfa-dataset/) concerns several fault types in control surfaces of a fixed-wing Unmanned Aerial Vehicle (UAV) for use in Fault Detection and Isolation.\n",
        "\n",
        "The data is collected using sensors, like GPS or wind estimation, local and global state (internal state of UAV). The platform used for collecting data is a custom modification of the Carbon Z T-28 model plane (shown in the figure above).\n",
        "\n",
        "The failures can be:\n",
        "* Engine\n",
        "* Aileron (can be used as specific or generic)\n",
        "* Ruddler (can be used as specific or generic)\n",
        "* Elevator (can be used as specific or generic)\n",
        "\n",
        "The dataset includes processed data for 45 sequences of fully autonomous flight sequences with different types of faults happening during the flights.\n"
      ]
    },
    {
      "cell_type": "code",
      "execution_count": 2,
      "metadata": {},
      "outputs": [
        {
          "name": "stdout",
          "output_type": "stream",
          "text": [
            "features is not a dir or not useful!\n",
            "Error for no_failure\n",
            "Error for no_failure\n",
            "Error for no_failure\n",
            "Error for no_failure\n",
            "Error for no_failure\n",
            "Error for no_failure\n",
            "Error for no_failure\n",
            "Error for no_failure\n",
            "Error for no_failure\n",
            "README.md is not a dir or not useful!\n",
            "__init__.py is not a dir or not useful!\n",
            "\n",
            "Number of Time Series: 45\n"
          ]
        }
      ],
      "source": [
        "# Read the data from the csv files\n",
        "import numpy as np\n",
        "import pandas  as pd\n",
        "import os\n",
        "from random import shuffle\n",
        "\n",
        "dataset_dir = \"data\"\n",
        "dfs = [] # dataframe list\n",
        "\n",
        "classToString= {0:\"no_failure\", 1:\"elevator\", 2:\"engine\", 3:\"rudder\",4:\"ailerons\"}\n",
        "Y_fly = []\n",
        "stringToClass = {}\n",
        "for key, value in classToString.items():\n",
        "  stringToClass[value] = key\n",
        "\n",
        "series_counter = 0\n",
        "\n",
        "for _, cl  in enumerate(os.listdir(dataset_dir)):\n",
        "  path1 = os.path.join(dataset_dir, cl)\n",
        "\n",
        "  # Get rid of files or bad dirs\n",
        "  if not os.path.isdir(path1) or cl == \"features\":\n",
        "    print(f\"{cl} is not a dir or not useful!\")\n",
        "    continue\n",
        "  \n",
        "  for f in  os.listdir(path1):\n",
        "    pathf = os.path.join(path1, f)\n",
        "    df = pd.read_csv(pathf)\n",
        "\n",
        "    # Fix the label field\n",
        "    try:\n",
        "      df[\"field.data\"] = df[\"field.data\"].apply(func=lambda x: stringToClass[cl] if int(x)>0 else 0)\n",
        "      df = df.rename(columns={\"field.data\": \"Y\"})\n",
        "    except:\n",
        "      print(f\"Error for {cl}\")\n",
        "      df[\"Y\"]  = pd.Series([ 0 for _ in range(df.shape[0])])\n",
        "\n",
        "    # Drop the time column!\n",
        "    df = df.drop(\"%time\", axis=1)\n",
        "\n",
        "    # Save it\n",
        "    Y_fly.append(stringToClass[cl])\n",
        "    dfs.append(df)\n",
        "    series_counter+=1\n",
        "\n",
        "print(f\"\\nNumber of Time Series: {len(dfs)}\")\n",
        "assert len(dfs) == LEN_DATASET # We know the exact number from the repo\n"
      ]
    },
    {
      "cell_type": "code",
      "execution_count": 3,
      "metadata": {},
      "outputs": [
        {
          "data": {
            "text/plain": [
              "Index(['field.orientation.x', 'field.orientation.y', 'field.orientation.z',\n",
              "       'field.angular_velocity.x', 'field.angular_velocity.y',\n",
              "       'field.angular_velocity.z', 'field.linear_acceleration.x',\n",
              "       'field.linear_acceleration.y', 'field.linear_acceleration.z', 'Y',\n",
              "       'field.twist.linear.x', 'field.twist.linear.y', 'field.twist.linear.z',\n",
              "       'field.twist.angular.x', 'field.twist.angular.y',\n",
              "       'field.twist.angular.z', 'field.alt_error', 'field.aspd_error',\n",
              "       'field.xtrack_error', 'delta_yaw', 'delta_pitch', 'delta_roll',\n",
              "       'delta_x', 'delta_y', 'delta_z', 'delta_roll_airspeed'],\n",
              "      dtype='object')"
            ]
          },
          "execution_count": 3,
          "metadata": {},
          "output_type": "execute_result"
        }
      ],
      "source": [
        "df.columns"
      ]
    },
    {
      "cell_type": "code",
      "execution_count": 4,
      "metadata": {},
      "outputs": [
        {
          "data": {
            "text/plain": [
              "Text(0.5, 0.98, 'Showing dataset')"
            ]
          },
          "execution_count": 4,
          "metadata": {},
          "output_type": "execute_result"
        },
        {
          "data": {
            "image/png": "[encoded data removed]",
            "text/plain": [
              "<Figure size 1152x576 with 2 Axes>"
            ]
          },
          "metadata": {
            "needs_background": "light"
          },
          "output_type": "display_data"
        }
      ],
      "source": [
        "import matplotlib.pylab as plt\n",
        "import seaborn as sns\n",
        "Y_fly = np.array(Y_fly)\n",
        "sns.set_theme()\n",
        "sns.set_style()\n",
        "fig, (left, right) = plt.subplots(1,2, figsize=(16,8))\n",
        "\n",
        "left.plot(np.arange(dfs[np.where(Y_fly == 0)[0][0]][\"delta_x\"].shape[0]),dfs[np.where(Y_fly == 0)[0][0]][\"field.linear_acceleration.x\"] )\n",
        "left.plot(np.arange(dfs[np.where(Y_fly == 2)[0][0]][\"delta_x\"].shape[0]),dfs[np.where(Y_fly == 2)[0][0]][\"field.linear_acceleration.x\"])\n",
        "left.plot(np.arange(dfs[np.where(Y_fly == 4)[0][1]][\"delta_x\"].shape[0]),dfs[np.where(Y_fly == 4)[0][1]][\"field.linear_acceleration.x\"])\n",
        "# plt.legend()\n",
        "left.set_title(\"Variable: field.linear_acceleration.x\")\n",
        "right.plot(np.arange(dfs[np.where(Y_fly == 0)[0][2]][\"delta_x\"].shape[0]),dfs[np.where(Y_fly == 0)[0][2]][\"delta_pitch\"],label=classToString[0] )\n",
        "right.plot(np.arange(dfs[np.where(Y_fly == 2)[0][2]][\"delta_x\"].shape[0]),dfs[np.where(Y_fly == 2)[0][2]][\"delta_pitch\"],label=classToString[2])\n",
        "right.plot(np.arange(dfs[np.where(Y_fly == 4)[0][5]][\"delta_x\"].shape[0]),dfs[np.where(Y_fly == 4)[0][5]][\"delta_pitch\"],label=classToString[4])\n",
        "right.set_title(\"Variable: delta_x\")\n",
        "fig.legend(loc=\"upper center\", bbox_to_anchor=(0.5, .95),fancybox=True, shadow=True, ncol=3)\n",
        "fig.suptitle(\"Showing dataset\")\n",
        "#trovare lunghezze corrette"
      ]
    },
    {
      "cell_type": "code",
      "execution_count": 5,
      "metadata": {},
      "outputs": [],
      "source": [
        "# Shuffle the array of dataframes for so that classes are not contiguous\n",
        "shuffle(dfs)"
      ]
    },
    {
      "cell_type": "markdown",
      "metadata": {},
      "source": [
        "# Preprocessing"
      ]
    },
    {
      "cell_type": "markdown",
      "metadata": {},
      "source": [
        "### Outline\n",
        "* Removing not complitly shared features \n",
        "* Imputing of missing values\n",
        "* Feature selection: SimpleKBest (from [SK-Learn](https://scikit-learn.org/stable/modules/generated/sklearn.feature_selection.SelectKBest.html)) and RandomForest\n",
        "* Splitting in Windows\n",
        "* Splitting in Train and Test\n",
        "* Rebalancing of the dataset for the training"
      ]
    },
    {
      "cell_type": "markdown",
      "metadata": {
        "id": "yYKZSxKI3cUq"
      },
      "source": [
        "### Remove not usable features"
      ]
    },
    {
      "cell_type": "code",
      "execution_count": 6,
      "metadata": {
        "colab": {
          "base_uri": "https://localhost:8080/"
        },
        "id": "D0A2_VkK3b_G",
        "outputId": "1527288e-f85b-44e7-b767-0bb606c9a0e8"
      },
      "outputs": [
        {
          "name": "stdout",
          "output_type": "stream",
          "text": [
            "26\n"
          ]
        }
      ],
      "source": [
        "from sklearn.impute import SimpleImputer\n",
        "import numpy as np\n",
        "\n",
        "# Remove useless features and inpute missing values\n",
        "#\n",
        "# finally use the mask on every timeseries of the OG dataframes list\n",
        "\n",
        "# Remove all the features that are not shared by all Time Series\n",
        "#\n",
        "# Only use the variables that can be found in all the dataframes\n",
        "features = []\n",
        "# Get the biggest set:\n",
        "# (We are considering that that the bigger set is just a superset and has all the other base features)\n",
        "for df in dfs:\n",
        "   features = max(features, df.columns.values, key=lambda x: len(x))\n",
        "# Then get the set intersection of all of the features sets\n",
        "features = set(features)\n",
        "for df in dfs:\n",
        "  features = features.intersection(set(df.columns.values))\n",
        "\n",
        "# Apply the feature mask\n",
        "print(len(features))\n",
        "dfs = list(map(lambda x: x[list(features)] , dfs))\n",
        "\n",
        "# Concat all the time series in as single dataframe for later :)\n",
        "concatted_dfs = pd.concat(dfs)\n",
        "concatted_y = concatted_dfs[\"Y\"]\n",
        "concatted_dfs = concatted_dfs.drop(\"Y\", axis=1)"
      ]
    },
    {
      "cell_type": "code",
      "execution_count": 7,
      "metadata": {
        "id": "yggA7T17lyLe"
      },
      "outputs": [],
      "source": [
        "from sklearn.impute import SimpleImputer\n",
        "import numpy as np\n",
        "\n",
        "# Inpute the missing values first\n",
        "dfs = list(map(lambda x: SimpleImputer(missing_values=np.nan, strategy='mean').fit_transform(x) , dfs))"
      ]
    },
    {
      "cell_type": "markdown",
      "metadata": {
        "id": "TygVNz4Q6jDl"
      },
      "source": [
        "### Feature Selection"
      ]
    },
    {
      "cell_type": "markdown",
      "metadata": {
        "id": "hB0vZWpw3FLP"
      },
      "source": [
        "##### With SelectKBest\n",
        "(Link [Here](https://scikit-learn.org/stable/modules/generated/sklearn.feature_selection.SelectKBest.html))\n",
        "\n",
        "Descrizione "
      ]
    },
    {
      "cell_type": "code",
      "execution_count": 8,
      "metadata": {
        "colab": {
          "base_uri": "https://localhost:8080/"
        },
        "id": "gTeZ6pSyXGWC",
        "outputId": "efe0008d-00c7-4059-ca2e-0de138a36496"
      },
      "outputs": [
        {
          "name": "stdout",
          "output_type": "stream",
          "text": [
            "field.linear_acceleration.z    291\n",
            "field.orientation.z            291\n",
            "field.orientation.x            291\n",
            "field.linear_acceleration.y    291\n",
            "field.orientation.y            291\n",
            "field.angular_velocity.y       291\n",
            "field.linear_acceleration.x    291\n",
            "field.twist.linear.z           143\n",
            "field.twist.linear.x           143\n",
            "field.aspd_error                57\n",
            "delta_roll                      59\n",
            "delta_z                         59\n",
            "field.angular_velocity.z       291\n",
            "field.twist.angular.x          143\n",
            "field.twist.angular.y          143\n",
            "field.twist.angular.z          143\n",
            "delta_yaw                       57\n",
            "field.alt_error                 57\n",
            "delta_x                         59\n",
            "field.xtrack_error              57\n",
            "delta_roll_airspeed             60\n",
            "delta_pitch                     57\n",
            "delta_y                         59\n",
            "field.twist.linear.y           143\n",
            "field.angular_velocity.x       291\n",
            "dtype: int64\n",
            "Length of Concatted Dataframes: 93670\n"
          ]
        }
      ],
      "source": [
        "# Print the number of nans per per each columns\n",
        "print(concatted_dfs.isnull().sum())\n",
        "print(f\"Length of Concatted Dataframes: {len(concatted_dfs)}\")"
      ]
    },
    {
      "cell_type": "code",
      "execution_count": 9,
      "metadata": {
        "colab": {
          "base_uri": "https://localhost:8080/"
        },
        "id": "X7tiW05ZEoPU",
        "outputId": "3c281988-2c7b-4920-f7ad-c40538ced177"
      },
      "outputs": [
        {
          "name": "stdout",
          "output_type": "stream",
          "text": [
            "Feature Mask:\n",
            "['field.linear_acceleration.z' 'field.orientation.z' 'field.orientation.x'\n",
            " 'field.linear_acceleration.y' 'field.orientation.y'\n",
            " 'field.linear_acceleration.x' 'field.twist.linear.z'\n",
            " 'field.twist.linear.x' 'field.aspd_error' 'delta_roll' 'delta_z'\n",
            " 'field.angular_velocity.z' 'field.twist.angular.z' 'delta_yaw'\n",
            " 'field.alt_error' 'field.xtrack_error' 'delta_roll_airspeed'\n",
            " 'delta_pitch' 'delta_y' 'field.twist.linear.y']\n",
            "Length of Feature Mask: 20\n"
          ]
        }
      ],
      "source": [
        "from sklearn.feature_selection import SelectKBest\n",
        "import numpy as np\n",
        "\n",
        "# Inpute the nan values to the mean of the other entries value of the same column\n",
        "imp = SimpleImputer(missing_values=np.nan, strategy='mean')\n",
        "imp.fit(concatted_dfs)\n",
        "inp_out = imp.transform(concatted_dfs)\n",
        "\n",
        "# Get the best 20 features of the dataset\n",
        "columns_ = concatted_dfs.columns.values\n",
        "feature_mask= SelectKBest(k=20).fit(inp_out, concatted_y).get_feature_names_out(columns_)\n",
        "\n",
        "# ( Uses sklearn.feature_selection.f_classify )\n",
        "print(\"Feature Mask:\")\n",
        "print(feature_mask)\n",
        "print(f\"Length of Feature Mask: {len(feature_mask)}\")"
      ]
    },
    {
      "cell_type": "markdown",
      "metadata": {
        "id": "1pHOsLRJ6twX"
      },
      "source": [
        "#### With randomForest scores:\n",
        "\n",
        "**Random Forest** is a powerful ensemble learning method used in machine learning for classification and regression tasks. It operates by constructing multiple decision trees during training and outputting the class that is the mode of the classes (classification) or mean prediction (regression) of the individual trees. This approach enhances the accuracy and robustness of the model by reducing overfitting and variance. Random Forest is also valuable for *feature selection*, as it provides a measure of feature importance, helping to identify the most relevant features in a dataset."
      ]
    },
    {
      "cell_type": "code",
      "execution_count": 10,
      "metadata": {
        "id": "Tgkzto3V2F0f"
      },
      "outputs": [],
      "source": [
        "import matplotlib.pyplot as plt\n",
        "from sklearn.ensemble import RandomForestClassifier\n",
        "\n",
        "def plot_feature_importances(model):\n",
        "    fig_scale = 0.9\n",
        "    n_features = len(concatted_dfs.columns) # take the features names from the Concatted DataFrame\n",
        "    plt.figure(figsize=(7*fig_scale,5.4*fig_scale))\n",
        "    plt.barh(range(n_features), model.feature_importances_, align='center')\n",
        "    plt.yticks(np.arange(n_features), concatted_dfs.columns)\n",
        "    plt.xlabel(\"Feature importance\")\n",
        "    plt.ylabel(\"Feature\")\n",
        "    plt.ylim(-1, n_features)"
      ]
    },
    {
      "cell_type": "markdown",
      "metadata": {},
      "source": [
        "Valutare se proporre entrambe le opzioni o solo una"
      ]
    },
    {
      "cell_type": "code",
      "execution_count": 11,
      "metadata": {
        "colab": {
          "base_uri": "https://localhost:8080/",
          "height": 454
        },
        "id": "LChQqhIZrlrh",
        "outputId": "e6838f0d-fac0-4fe7-a8ba-e24c4cb8f2f2"
      },
      "outputs": [
        {
          "data": {
            "image/png": "[encoded data removed]",
            "text/plain": [
              "<Figure size 453.6x349.92 with 1 Axes>"
            ]
          },
          "metadata": {
            "needs_background": "light"
          },
          "output_type": "display_data"
        }
      ],
      "source": [
        "# WITH ERROR COLUMNS:\n",
        "#\n",
        "concatted_ndarray = SimpleImputer(missing_values=np.nan, strategy='mean').fit_transform(concatted_dfs)\n",
        "rf = RandomForestClassifier()\n",
        "rf.fit(concatted_ndarray, concatted_y)\n",
        "# Plot the feature importances\n",
        "plot_feature_importances(rf)\n",
        "\n",
        "# Select the n best features\n",
        "n = 20\n",
        "feature_mask = list(zip(concatted_dfs.columns, rf.feature_importances_))\n",
        "feature_mask.sort(key=lambda x: x[1])\n",
        "feature_mask = list(map(lambda x: x[0], feature_mask[:n]))"
      ]
    },
    {
      "cell_type": "code",
      "execution_count": 12,
      "metadata": {
        "colab": {
          "base_uri": "https://localhost:8080/",
          "height": 454
        },
        "id": "JEruSVZgoQaa",
        "outputId": "8e386e4f-39e5-41e5-94ef-13522b2a7374"
      },
      "outputs": [
        {
          "data": {
            "image/png": "[encoded data removed]",
            "text/plain": [
              "<Figure size 453.6x349.92 with 1 Axes>"
            ]
          },
          "metadata": {
            "needs_background": "light"
          },
          "output_type": "display_data"
        }
      ],
      "source": [
        "# WITHOUT ERROR COLUMNS:\n",
        "#\n",
        "concatted_dfs = concatted_dfs.drop([\"field.alt_error\", \"field.xtrack_error\", \"field.aspd_error\"], axis=1)\n",
        "concatted_ndarray = SimpleImputer(missing_values=np.nan, strategy='mean').fit_transform(concatted_dfs)\n",
        "rf = RandomForestClassifier()\n",
        "rf.fit(concatted_ndarray, concatted_y)\n",
        "# Plot the feature importances\n",
        "plot_feature_importances(rf)\n",
        "# Select the n best features\n",
        "n = 20 # Removing 7 (the ones that are clearly not performing (sub 0.03))\n",
        "feature_mask = list(zip(concatted_dfs.columns, rf.feature_importances_))\n",
        "feature_mask.sort(key=lambda x: x[1])\n",
        "feature_mask = list(map(lambda x: x[0], feature_mask[:n]))"
      ]
    },
    {
      "cell_type": "markdown",
      "metadata": {
        "id": "tZORfFeIsTJz"
      },
      "source": [
        "### Split the dataset into windows\n",
        "\n",
        "We decided to split the time series in windows with size `window_length`, to increase the number of samples but mainly to produce online methods, widely used in Time series analysis. "
      ]
    },
    {
      "cell_type": "code",
      "execution_count": 13,
      "metadata": {
        "colab": {
          "base_uri": "https://localhost:8080/"
        },
        "id": "dFN8Sg2KTYSE",
        "outputId": "8e5299e8-1229-4a95-cc20-1f3993adebc7"
      },
      "outputs": [
        {
          "name": "stdout",
          "output_type": "stream",
          "text": [
            "Length of windowed dataset: 45\n"
          ]
        }
      ],
      "source": [
        "from sktime.split import SlidingWindowSplitter\n",
        "\n",
        "splitted_ndarrays, window_length, step_length = [], 10, 10\n",
        "splitter = SlidingWindowSplitter(window_length=window_length, step_length=step_length)\n",
        "splitted_ndarrays = [ list(map(lambda x: x[0], splitter.split_series(df))) for df in dfs] # We are ignoring the forecasting horizon\n",
        "\n",
        "print(f\"Length of windowed dataset: {len(splitted_ndarrays)}\")\n",
        "assert len(splitted_ndarrays) == LEN_DATASET"
      ]
    },
    {
      "cell_type": "code",
      "execution_count": 14,
      "metadata": {
        "colab": {
          "base_uri": "https://localhost:8080/"
        },
        "id": "klkac66I5oyA",
        "outputId": "7222036e-85f6-4bd0-e893-fada156bf28f"
      },
      "outputs": [
        {
          "name": "stdout",
          "output_type": "stream",
          "text": [
            "n_windows:  9342\n"
          ]
        }
      ],
      "source": [
        "# Split into windows\n",
        "_splitted_ndarrays = []\n",
        "_splitted_ys = []\n",
        "features = list(features)\n",
        "y_index = features.index(\"Y\") # Index of the Y column\n",
        "features.pop(y_index)\n",
        "#features = [\"flight\", \"step\", *features]\n",
        "\n",
        "i = 0 # Number of windows\n",
        "\n",
        "for sa in splitted_ndarrays:\n",
        "  for a in sa:\n",
        "\n",
        "    # Retrieve the label and save it separately\n",
        "    _splitted_ys.append(np.max(a[:,y_index]))\n",
        "    # And then delete it\n",
        "    a = np.delete(a, y_index, axis=1)\n",
        "\n",
        "    # np.concatenate([flight, step, a], axis=1)\n",
        "    _splitted_ndarrays.append(a)\n",
        "    i+=1 # Increase window counter\n",
        "\n",
        "assert len(_splitted_ys) == len(_splitted_ndarrays)\n",
        "print(\"n_windows: \", len(_splitted_ndarrays))"
      ]
    },
    {
      "cell_type": "markdown",
      "metadata": {
        "id": "E7mUlWl_beM2"
      },
      "source": [
        "### Split in Train and set:"
      ]
    },
    {
      "cell_type": "code",
      "execution_count": 15,
      "metadata": {
        "id": "BSTv_sbrbcBi"
      },
      "outputs": [],
      "source": [
        "import math\n",
        "from random import shuffle\n",
        "\n",
        "train_size = int(math.floor(len(_splitted_ndarrays)*0.8))\n",
        "zipped = list(zip(_splitted_ndarrays, _splitted_ys))\n",
        "shuffle(zipped)\n",
        "\n",
        "X_train, X_test = list(map(lambda x: x[0], zipped[:train_size])), list(map(lambda x: x[0], zipped[train_size:]))\n",
        "y_train, y_test = np.array(list(map(lambda x: x[1], zipped[:train_size]))), np.array(list(map(lambda x: x[1], zipped[train_size:])))"
      ]
    },
    {
      "cell_type": "markdown",
      "metadata": {
        "id": "N1_zSKdKrybu"
      },
      "source": [
        "### Multi-Indexed Pandas Dataframe (sktime Panel)"
      ]
    },
    {
      "cell_type": "code",
      "execution_count": 16,
      "metadata": {
        "id": "m0BsGLcFtA_q"
      },
      "outputs": [],
      "source": [
        "# Finally let's create a multiIndexed pandas.Dataframe so that we can use our data with the sktime library\n",
        "def toMultiIndexed(windows, feature_mask):\n",
        "  _dfs = []\n",
        "  for i, npVals in enumerate(windows):\n",
        "    d = pd.DataFrame(npVals,columns=feature_mask)\n",
        "    # The two columns for the multi-indexed Dataframe\n",
        "    d.insert(0, \"flight\", [i for _ in range(int(npVals.shape[0]))], True)\n",
        "    d.insert(1, \"step\", pd.RangeIndex(int(npVals.shape[0])), True)\n",
        "    _dfs.append(d)\n",
        "\n",
        "  _dfs = pd.concat(_dfs)\n",
        "  # Set the 2 Indexes (onl  y flight is unique)\n",
        "  _dfs = _dfs.drop_duplicates(subset=['flight', 'step'], keep='last')\n",
        "  _dfs = _dfs.set_index([\"flight\", \"step\"])\n",
        "\n",
        "  return _dfs\n",
        "\n",
        "X_train, X_test = toMultiIndexed(X_train, features), toMultiIndexed(X_test, features)"
      ]
    },
    {
      "cell_type": "code",
      "execution_count": 17,
      "metadata": {
        "colab": {
          "base_uri": "https://localhost:8080/",
          "height": 827
        },
        "id": "LGgF9HRt4sav",
        "outputId": "19f8a275-9457-433d-cafb-99936ab46275"
      },
      "outputs": [
        {
          "name": "stdout",
          "output_type": "stream",
          "text": [
            "X_train: (74730, 25)\n",
            "X_test: (18690, 25)\n",
            "y_train: (7473,)\n",
            "y_test: (1869,)\n"
          ]
        },
        {
          "data": {
            "text/html": [
              "<div>\n",
              "<style scoped>\n",
              "    .dataframe tbody tr th:only-of-type {\n",
              "        vertical-align: middle;\n",
              "    }\n",
              "\n",
              "    .dataframe tbody tr th {\n",
              "        vertical-align: top;\n",
              "    }\n",
              "\n",
              "    .dataframe thead th {\n",
              "        text-align: right;\n",
              "    }\n",
              "</style>\n",
              "<table border=\"1\" class=\"dataframe\">\n",
              "  <thead>\n",
              "    <tr style=\"text-align: right;\">\n",
              "      <th></th>\n",
              "      <th></th>\n",
              "      <th>field.linear_acceleration.z</th>\n",
              "      <th>field.orientation.z</th>\n",
              "      <th>field.orientation.x</th>\n",
              "      <th>field.linear_acceleration.y</th>\n",
              "      <th>field.orientation.y</th>\n",
              "      <th>field.angular_velocity.y</th>\n",
              "      <th>field.linear_acceleration.x</th>\n",
              "      <th>field.twist.linear.z</th>\n",
              "      <th>field.twist.linear.x</th>\n",
              "      <th>field.aspd_error</th>\n",
              "      <th>...</th>\n",
              "      <th>field.twist.angular.z</th>\n",
              "      <th>delta_yaw</th>\n",
              "      <th>field.alt_error</th>\n",
              "      <th>delta_x</th>\n",
              "      <th>field.xtrack_error</th>\n",
              "      <th>delta_roll_airspeed</th>\n",
              "      <th>delta_pitch</th>\n",
              "      <th>delta_y</th>\n",
              "      <th>field.twist.linear.y</th>\n",
              "      <th>field.angular_velocity.x</th>\n",
              "    </tr>\n",
              "    <tr>\n",
              "      <th>flight</th>\n",
              "      <th>step</th>\n",
              "      <th></th>\n",
              "      <th></th>\n",
              "      <th></th>\n",
              "      <th></th>\n",
              "      <th></th>\n",
              "      <th></th>\n",
              "      <th></th>\n",
              "      <th></th>\n",
              "      <th></th>\n",
              "      <th></th>\n",
              "      <th></th>\n",
              "      <th></th>\n",
              "      <th></th>\n",
              "      <th></th>\n",
              "      <th></th>\n",
              "      <th></th>\n",
              "      <th></th>\n",
              "      <th></th>\n",
              "      <th></th>\n",
              "      <th></th>\n",
              "      <th></th>\n",
              "    </tr>\n",
              "  </thead>\n",
              "  <tbody>\n",
              "    <tr>\n",
              "      <th rowspan=\"10\" valign=\"top\">0</th>\n",
              "      <th>0</th>\n",
              "      <td>10.434276</td>\n",
              "      <td>-0.973938</td>\n",
              "      <td>0.029138</td>\n",
              "      <td>0.402073</td>\n",
              "      <td>-0.011751</td>\n",
              "      <td>-0.004481</td>\n",
              "      <td>-0.058840</td>\n",
              "      <td>-0.820862</td>\n",
              "      <td>-16.191227</td>\n",
              "      <td>-157.855988</td>\n",
              "      <td>...</td>\n",
              "      <td>0.023579</td>\n",
              "      <td>-2.971535</td>\n",
              "      <td>14.520000</td>\n",
              "      <td>0.922187</td>\n",
              "      <td>2.341163</td>\n",
              "      <td>16.000000</td>\n",
              "      <td>0.970821</td>\n",
              "      <td>2.644057</td>\n",
              "      <td>-9.359675</td>\n",
              "      <td>-0.026308</td>\n",
              "    </tr>\n",
              "    <tr>\n",
              "      <th>1</th>\n",
              "      <td>10.434276</td>\n",
              "      <td>-0.973938</td>\n",
              "      <td>0.029138</td>\n",
              "      <td>0.402073</td>\n",
              "      <td>-0.011751</td>\n",
              "      <td>-0.004481</td>\n",
              "      <td>-0.058840</td>\n",
              "      <td>-0.820862</td>\n",
              "      <td>-16.191227</td>\n",
              "      <td>-157.855988</td>\n",
              "      <td>...</td>\n",
              "      <td>0.023579</td>\n",
              "      <td>-2.971535</td>\n",
              "      <td>14.520000</td>\n",
              "      <td>0.970655</td>\n",
              "      <td>2.341163</td>\n",
              "      <td>16.000000</td>\n",
              "      <td>0.970821</td>\n",
              "      <td>2.649230</td>\n",
              "      <td>-9.359675</td>\n",
              "      <td>-0.026308</td>\n",
              "    </tr>\n",
              "    <tr>\n",
              "      <th>2</th>\n",
              "      <td>10.434276</td>\n",
              "      <td>-0.973938</td>\n",
              "      <td>0.029138</td>\n",
              "      <td>0.402073</td>\n",
              "      <td>-0.011751</td>\n",
              "      <td>-0.004481</td>\n",
              "      <td>-0.058840</td>\n",
              "      <td>-0.790193</td>\n",
              "      <td>-16.225260</td>\n",
              "      <td>-157.855988</td>\n",
              "      <td>...</td>\n",
              "      <td>0.023579</td>\n",
              "      <td>-2.971535</td>\n",
              "      <td>14.589999</td>\n",
              "      <td>1.021098</td>\n",
              "      <td>2.311685</td>\n",
              "      <td>16.000000</td>\n",
              "      <td>1.110821</td>\n",
              "      <td>2.659617</td>\n",
              "      <td>-9.482356</td>\n",
              "      <td>-0.026308</td>\n",
              "    </tr>\n",
              "    <tr>\n",
              "      <th>3</th>\n",
              "      <td>10.247949</td>\n",
              "      <td>-0.970899</td>\n",
              "      <td>0.029830</td>\n",
              "      <td>0.549172</td>\n",
              "      <td>0.000794</td>\n",
              "      <td>-0.015155</td>\n",
              "      <td>0.000000</td>\n",
              "      <td>-0.790193</td>\n",
              "      <td>-16.225260</td>\n",
              "      <td>-157.855988</td>\n",
              "      <td>...</td>\n",
              "      <td>0.023579</td>\n",
              "      <td>-2.971535</td>\n",
              "      <td>14.589999</td>\n",
              "      <td>1.021098</td>\n",
              "      <td>2.311685</td>\n",
              "      <td>16.000000</td>\n",
              "      <td>1.110821</td>\n",
              "      <td>2.659617</td>\n",
              "      <td>-9.482356</td>\n",
              "      <td>-0.049063</td>\n",
              "    </tr>\n",
              "    <tr>\n",
              "      <th>4</th>\n",
              "      <td>10.247949</td>\n",
              "      <td>-0.970899</td>\n",
              "      <td>0.029830</td>\n",
              "      <td>0.549172</td>\n",
              "      <td>0.000794</td>\n",
              "      <td>-0.015155</td>\n",
              "      <td>0.000000</td>\n",
              "      <td>-0.790193</td>\n",
              "      <td>-16.225260</td>\n",
              "      <td>-175.391205</td>\n",
              "      <td>...</td>\n",
              "      <td>0.023579</td>\n",
              "      <td>-1.473946</td>\n",
              "      <td>14.660000</td>\n",
              "      <td>1.089255</td>\n",
              "      <td>2.289824</td>\n",
              "      <td>16.000000</td>\n",
              "      <td>1.502275</td>\n",
              "      <td>2.673594</td>\n",
              "      <td>-9.482356</td>\n",
              "      <td>-0.049063</td>\n",
              "    </tr>\n",
              "    <tr>\n",
              "      <th>5</th>\n",
              "      <td>10.247949</td>\n",
              "      <td>-0.970899</td>\n",
              "      <td>0.029830</td>\n",
              "      <td>0.549172</td>\n",
              "      <td>0.000794</td>\n",
              "      <td>-0.015155</td>\n",
              "      <td>0.000000</td>\n",
              "      <td>-0.790193</td>\n",
              "      <td>-16.225260</td>\n",
              "      <td>-175.391205</td>\n",
              "      <td>...</td>\n",
              "      <td>0.023579</td>\n",
              "      <td>-1.473946</td>\n",
              "      <td>14.660000</td>\n",
              "      <td>1.089255</td>\n",
              "      <td>2.289824</td>\n",
              "      <td>16.000000</td>\n",
              "      <td>1.612274</td>\n",
              "      <td>2.673594</td>\n",
              "      <td>-9.482356</td>\n",
              "      <td>-0.049063</td>\n",
              "    </tr>\n",
              "    <tr>\n",
              "      <th>6</th>\n",
              "      <td>10.247949</td>\n",
              "      <td>-0.970899</td>\n",
              "      <td>0.029830</td>\n",
              "      <td>0.549172</td>\n",
              "      <td>0.000794</td>\n",
              "      <td>-0.015155</td>\n",
              "      <td>0.000000</td>\n",
              "      <td>-0.790193</td>\n",
              "      <td>-16.225260</td>\n",
              "      <td>-175.391205</td>\n",
              "      <td>...</td>\n",
              "      <td>0.023579</td>\n",
              "      <td>-1.473946</td>\n",
              "      <td>14.719999</td>\n",
              "      <td>1.171721</td>\n",
              "      <td>2.279226</td>\n",
              "      <td>16.000000</td>\n",
              "      <td>1.682274</td>\n",
              "      <td>2.683217</td>\n",
              "      <td>-9.482356</td>\n",
              "      <td>-0.049063</td>\n",
              "    </tr>\n",
              "    <tr>\n",
              "      <th>7</th>\n",
              "      <td>10.247949</td>\n",
              "      <td>-0.970899</td>\n",
              "      <td>0.029830</td>\n",
              "      <td>0.549172</td>\n",
              "      <td>0.000794</td>\n",
              "      <td>-0.015155</td>\n",
              "      <td>0.000000</td>\n",
              "      <td>-0.631343</td>\n",
              "      <td>-16.252529</td>\n",
              "      <td>-175.391205</td>\n",
              "      <td>...</td>\n",
              "      <td>0.047881</td>\n",
              "      <td>-1.473946</td>\n",
              "      <td>14.719999</td>\n",
              "      <td>1.171721</td>\n",
              "      <td>2.279226</td>\n",
              "      <td>16.000000</td>\n",
              "      <td>1.682274</td>\n",
              "      <td>2.683217</td>\n",
              "      <td>-9.662485</td>\n",
              "      <td>-0.049063</td>\n",
              "    </tr>\n",
              "    <tr>\n",
              "      <th>8</th>\n",
              "      <td>10.247949</td>\n",
              "      <td>-0.970899</td>\n",
              "      <td>0.029830</td>\n",
              "      <td>0.549172</td>\n",
              "      <td>0.000794</td>\n",
              "      <td>-0.015155</td>\n",
              "      <td>0.000000</td>\n",
              "      <td>-0.631343</td>\n",
              "      <td>-16.252529</td>\n",
              "      <td>-175.391205</td>\n",
              "      <td>...</td>\n",
              "      <td>0.047881</td>\n",
              "      <td>-1.473946</td>\n",
              "      <td>14.719999</td>\n",
              "      <td>1.215309</td>\n",
              "      <td>2.279226</td>\n",
              "      <td>16.000000</td>\n",
              "      <td>1.682274</td>\n",
              "      <td>2.684560</td>\n",
              "      <td>-9.662485</td>\n",
              "      <td>-0.049063</td>\n",
              "    </tr>\n",
              "    <tr>\n",
              "      <th>9</th>\n",
              "      <td>10.247949</td>\n",
              "      <td>-0.970899</td>\n",
              "      <td>0.029830</td>\n",
              "      <td>0.549172</td>\n",
              "      <td>0.000794</td>\n",
              "      <td>-0.015155</td>\n",
              "      <td>0.000000</td>\n",
              "      <td>-0.631343</td>\n",
              "      <td>-16.252529</td>\n",
              "      <td>-175.391205</td>\n",
              "      <td>...</td>\n",
              "      <td>0.047881</td>\n",
              "      <td>-1.473946</td>\n",
              "      <td>14.719999</td>\n",
              "      <td>1.215309</td>\n",
              "      <td>2.279226</td>\n",
              "      <td>16.000000</td>\n",
              "      <td>1.682274</td>\n",
              "      <td>2.684560</td>\n",
              "      <td>-9.662485</td>\n",
              "      <td>-0.049063</td>\n",
              "    </tr>\n",
              "    <tr>\n",
              "      <th rowspan=\"10\" valign=\"top\">1</th>\n",
              "      <th>0</th>\n",
              "      <td>10.159689</td>\n",
              "      <td>0.691639</td>\n",
              "      <td>-0.033549</td>\n",
              "      <td>0.019613</td>\n",
              "      <td>-0.044966</td>\n",
              "      <td>0.008778</td>\n",
              "      <td>-0.902212</td>\n",
              "      <td>-2.811913</td>\n",
              "      <td>0.953661</td>\n",
              "      <td>273.539734</td>\n",
              "      <td>...</td>\n",
              "      <td>0.027630</td>\n",
              "      <td>-0.151993</td>\n",
              "      <td>62.289997</td>\n",
              "      <td>-2.991218</td>\n",
              "      <td>0.183409</td>\n",
              "      <td>2.735397</td>\n",
              "      <td>0.060694</td>\n",
              "      <td>-0.374858</td>\n",
              "      <td>-12.998310</td>\n",
              "      <td>0.115078</td>\n",
              "    </tr>\n",
              "    <tr>\n",
              "      <th>1</th>\n",
              "      <td>10.159689</td>\n",
              "      <td>0.691639</td>\n",
              "      <td>-0.033549</td>\n",
              "      <td>0.019613</td>\n",
              "      <td>-0.044966</td>\n",
              "      <td>0.008778</td>\n",
              "      <td>-0.902212</td>\n",
              "      <td>-2.811913</td>\n",
              "      <td>0.953661</td>\n",
              "      <td>273.539734</td>\n",
              "      <td>...</td>\n",
              "      <td>0.027630</td>\n",
              "      <td>0.262177</td>\n",
              "      <td>62.289997</td>\n",
              "      <td>-2.994329</td>\n",
              "      <td>0.183409</td>\n",
              "      <td>2.735397</td>\n",
              "      <td>-0.577571</td>\n",
              "      <td>-0.380630</td>\n",
              "      <td>-12.998310</td>\n",
              "      <td>0.115078</td>\n",
              "    </tr>\n",
              "    <tr>\n",
              "      <th>2</th>\n",
              "      <td>10.159689</td>\n",
              "      <td>0.691639</td>\n",
              "      <td>-0.033549</td>\n",
              "      <td>0.019613</td>\n",
              "      <td>-0.044966</td>\n",
              "      <td>0.008778</td>\n",
              "      <td>-0.902212</td>\n",
              "      <td>-2.811913</td>\n",
              "      <td>0.953661</td>\n",
              "      <td>271.589935</td>\n",
              "      <td>...</td>\n",
              "      <td>0.027630</td>\n",
              "      <td>0.262177</td>\n",
              "      <td>62.570000</td>\n",
              "      <td>-2.993919</td>\n",
              "      <td>0.211928</td>\n",
              "      <td>2.715899</td>\n",
              "      <td>-0.187571</td>\n",
              "      <td>-0.384163</td>\n",
              "      <td>-12.998310</td>\n",
              "      <td>0.115078</td>\n",
              "    </tr>\n",
              "    <tr>\n",
              "      <th>3</th>\n",
              "      <td>10.159689</td>\n",
              "      <td>0.691639</td>\n",
              "      <td>-0.033549</td>\n",
              "      <td>0.019613</td>\n",
              "      <td>-0.044966</td>\n",
              "      <td>0.008778</td>\n",
              "      <td>-0.902212</td>\n",
              "      <td>-2.811913</td>\n",
              "      <td>0.953661</td>\n",
              "      <td>271.589935</td>\n",
              "      <td>...</td>\n",
              "      <td>0.027630</td>\n",
              "      <td>0.262177</td>\n",
              "      <td>62.570000</td>\n",
              "      <td>-2.994526</td>\n",
              "      <td>0.211928</td>\n",
              "      <td>2.715899</td>\n",
              "      <td>-0.187571</td>\n",
              "      <td>-0.389715</td>\n",
              "      <td>-12.998310</td>\n",
              "      <td>0.115078</td>\n",
              "    </tr>\n",
              "    <tr>\n",
              "      <th>4</th>\n",
              "      <td>10.159689</td>\n",
              "      <td>0.691639</td>\n",
              "      <td>-0.033549</td>\n",
              "      <td>0.019613</td>\n",
              "      <td>-0.044966</td>\n",
              "      <td>0.008778</td>\n",
              "      <td>-0.902212</td>\n",
              "      <td>-2.737101</td>\n",
              "      <td>0.977211</td>\n",
              "      <td>270.316315</td>\n",
              "      <td>...</td>\n",
              "      <td>0.009876</td>\n",
              "      <td>0.262177</td>\n",
              "      <td>62.849998</td>\n",
              "      <td>-2.992084</td>\n",
              "      <td>0.236116</td>\n",
              "      <td>2.703163</td>\n",
              "      <td>-0.387571</td>\n",
              "      <td>-0.398407</td>\n",
              "      <td>-12.997444</td>\n",
              "      <td>0.115078</td>\n",
              "    </tr>\n",
              "    <tr>\n",
              "      <th>5</th>\n",
              "      <td>10.159689</td>\n",
              "      <td>0.691639</td>\n",
              "      <td>-0.033549</td>\n",
              "      <td>0.019613</td>\n",
              "      <td>-0.044966</td>\n",
              "      <td>0.008778</td>\n",
              "      <td>-0.902212</td>\n",
              "      <td>-2.737101</td>\n",
              "      <td>0.977211</td>\n",
              "      <td>270.316315</td>\n",
              "      <td>...</td>\n",
              "      <td>0.009876</td>\n",
              "      <td>0.262177</td>\n",
              "      <td>62.849998</td>\n",
              "      <td>-2.992084</td>\n",
              "      <td>0.236116</td>\n",
              "      <td>2.703163</td>\n",
              "      <td>-0.387571</td>\n",
              "      <td>-0.398407</td>\n",
              "      <td>-12.997444</td>\n",
              "      <td>0.115078</td>\n",
              "    </tr>\n",
              "    <tr>\n",
              "      <th>6</th>\n",
              "      <td>10.159689</td>\n",
              "      <td>0.691639</td>\n",
              "      <td>-0.033549</td>\n",
              "      <td>0.019613</td>\n",
              "      <td>-0.044966</td>\n",
              "      <td>0.008778</td>\n",
              "      <td>-0.902212</td>\n",
              "      <td>-2.737101</td>\n",
              "      <td>0.977211</td>\n",
              "      <td>272.447296</td>\n",
              "      <td>...</td>\n",
              "      <td>0.009876</td>\n",
              "      <td>1.262177</td>\n",
              "      <td>63.129997</td>\n",
              "      <td>-3.003404</td>\n",
              "      <td>0.250294</td>\n",
              "      <td>2.724473</td>\n",
              "      <td>-0.847571</td>\n",
              "      <td>-0.625295</td>\n",
              "      <td>-12.997444</td>\n",
              "      <td>0.115078</td>\n",
              "    </tr>\n",
              "    <tr>\n",
              "      <th>7</th>\n",
              "      <td>10.159689</td>\n",
              "      <td>0.691639</td>\n",
              "      <td>-0.033549</td>\n",
              "      <td>0.019613</td>\n",
              "      <td>-0.044966</td>\n",
              "      <td>0.008778</td>\n",
              "      <td>-0.902212</td>\n",
              "      <td>-2.737101</td>\n",
              "      <td>0.977211</td>\n",
              "      <td>272.447296</td>\n",
              "      <td>...</td>\n",
              "      <td>0.009876</td>\n",
              "      <td>1.262177</td>\n",
              "      <td>63.129997</td>\n",
              "      <td>-3.004581</td>\n",
              "      <td>0.250294</td>\n",
              "      <td>2.724473</td>\n",
              "      <td>-0.847571</td>\n",
              "      <td>-0.629534</td>\n",
              "      <td>-12.997444</td>\n",
              "      <td>0.115078</td>\n",
              "    </tr>\n",
              "    <tr>\n",
              "      <th>8</th>\n",
              "      <td>10.395049</td>\n",
              "      <td>0.692241</td>\n",
              "      <td>-0.045009</td>\n",
              "      <td>0.137293</td>\n",
              "      <td>-0.035275</td>\n",
              "      <td>0.002058</td>\n",
              "      <td>-0.990472</td>\n",
              "      <td>-2.737101</td>\n",
              "      <td>0.977211</td>\n",
              "      <td>266.232025</td>\n",
              "      <td>...</td>\n",
              "      <td>0.009876</td>\n",
              "      <td>1.262177</td>\n",
              "      <td>63.399998</td>\n",
              "      <td>-3.009757</td>\n",
              "      <td>0.297281</td>\n",
              "      <td>2.662320</td>\n",
              "      <td>-0.697571</td>\n",
              "      <td>-0.628692</td>\n",
              "      <td>-12.997444</td>\n",
              "      <td>0.061736</td>\n",
              "    </tr>\n",
              "    <tr>\n",
              "      <th>9</th>\n",
              "      <td>10.395049</td>\n",
              "      <td>0.692241</td>\n",
              "      <td>-0.045009</td>\n",
              "      <td>0.137293</td>\n",
              "      <td>-0.035275</td>\n",
              "      <td>0.002058</td>\n",
              "      <td>-0.990472</td>\n",
              "      <td>-2.737101</td>\n",
              "      <td>0.977211</td>\n",
              "      <td>266.232025</td>\n",
              "      <td>...</td>\n",
              "      <td>0.009876</td>\n",
              "      <td>1.262177</td>\n",
              "      <td>63.399998</td>\n",
              "      <td>-3.009757</td>\n",
              "      <td>0.297281</td>\n",
              "      <td>2.662320</td>\n",
              "      <td>-0.697571</td>\n",
              "      <td>-0.628692</td>\n",
              "      <td>-12.997444</td>\n",
              "      <td>0.061736</td>\n",
              "    </tr>\n",
              "  </tbody>\n",
              "</table>\n",
              "<p>20 rows × 25 columns</p>\n",
              "</div>"
            ],
            "text/plain": [
              "             field.linear_acceleration.z  field.orientation.z  \\\n",
              "flight step                                                     \n",
              "0      0                       10.434276            -0.973938   \n",
              "       1                       10.434276            -0.973938   \n",
              "       2                       10.434276            -0.973938   \n",
              "       3                       10.247949            -0.970899   \n",
              "       4                       10.247949            -0.970899   \n",
              "       5                       10.247949            -0.970899   \n",
              "       6                       10.247949            -0.970899   \n",
              "       7                       10.247949            -0.970899   \n",
              "       8                       10.247949            -0.970899   \n",
              "       9                       10.247949            -0.970899   \n",
              "1      0                       10.159689             0.691639   \n",
              "       1                       10.159689             0.691639   \n",
              "       2                       10.159689             0.691639   \n",
              "       3                       10.159689             0.691639   \n",
              "       4                       10.159689             0.691639   \n",
              "       5                       10.159689             0.691639   \n",
              "       6                       10.159689             0.691639   \n",
              "       7                       10.159689             0.691639   \n",
              "       8                       10.395049             0.692241   \n",
              "       9                       10.395049             0.692241   \n",
              "\n",
              "             field.orientation.x  field.linear_acceleration.y  \\\n",
              "flight step                                                     \n",
              "0      0                0.029138                     0.402073   \n",
              "       1                0.029138                     0.402073   \n",
              "       2                0.029138                     0.402073   \n",
              "       3                0.029830                     0.549172   \n",
              "       4                0.029830                     0.549172   \n",
              "       5                0.029830                     0.549172   \n",
              "       6                0.029830                     0.549172   \n",
              "       7                0.029830                     0.549172   \n",
              "       8                0.029830                     0.549172   \n",
              "       9                0.029830                     0.549172   \n",
              "1      0               -0.033549                     0.019613   \n",
              "       1               -0.033549                     0.019613   \n",
              "       2               -0.033549                     0.019613   \n",
              "       3               -0.033549                     0.019613   \n",
              "       4               -0.033549                     0.019613   \n",
              "       5               -0.033549                     0.019613   \n",
              "       6               -0.033549                     0.019613   \n",
              "       7               -0.033549                     0.019613   \n",
              "       8               -0.045009                     0.137293   \n",
              "       9               -0.045009                     0.137293   \n",
              "\n",
              "             field.orientation.y  field.angular_velocity.y  \\\n",
              "flight step                                                  \n",
              "0      0               -0.011751                 -0.004481   \n",
              "       1               -0.011751                 -0.004481   \n",
              "       2               -0.011751                 -0.004481   \n",
              "       3                0.000794                 -0.015155   \n",
              "       4                0.000794                 -0.015155   \n",
              "       5                0.000794                 -0.015155   \n",
              "       6                0.000794                 -0.015155   \n",
              "       7                0.000794                 -0.015155   \n",
              "       8                0.000794                 -0.015155   \n",
              "       9                0.000794                 -0.015155   \n",
              "1      0               -0.044966                  0.008778   \n",
              "       1               -0.044966                  0.008778   \n",
              "       2               -0.044966                  0.008778   \n",
              "       3               -0.044966                  0.008778   \n",
              "       4               -0.044966                  0.008778   \n",
              "       5               -0.044966                  0.008778   \n",
              "       6               -0.044966                  0.008778   \n",
              "       7               -0.044966                  0.008778   \n",
              "       8               -0.035275                  0.002058   \n",
              "       9               -0.035275                  0.002058   \n",
              "\n",
              "             field.linear_acceleration.x  field.twist.linear.z  \\\n",
              "flight step                                                      \n",
              "0      0                       -0.058840             -0.820862   \n",
              "       1                       -0.058840             -0.820862   \n",
              "       2                       -0.058840             -0.790193   \n",
              "       3                        0.000000             -0.790193   \n",
              "       4                        0.000000             -0.790193   \n",
              "       5                        0.000000             -0.790193   \n",
              "       6                        0.000000             -0.790193   \n",
              "       7                        0.000000             -0.631343   \n",
              "       8                        0.000000             -0.631343   \n",
              "       9                        0.000000             -0.631343   \n",
              "1      0                       -0.902212             -2.811913   \n",
              "       1                       -0.902212             -2.811913   \n",
              "       2                       -0.902212             -2.811913   \n",
              "       3                       -0.902212             -2.811913   \n",
              "       4                       -0.902212             -2.737101   \n",
              "       5                       -0.902212             -2.737101   \n",
              "       6                       -0.902212             -2.737101   \n",
              "       7                       -0.902212             -2.737101   \n",
              "       8                       -0.990472             -2.737101   \n",
              "       9                       -0.990472             -2.737101   \n",
              "\n",
              "             field.twist.linear.x  field.aspd_error  ...  \\\n",
              "flight step                                          ...   \n",
              "0      0               -16.191227       -157.855988  ...   \n",
              "       1               -16.191227       -157.855988  ...   \n",
              "       2               -16.225260       -157.855988  ...   \n",
              "       3               -16.225260       -157.855988  ...   \n",
              "       4               -16.225260       -175.391205  ...   \n",
              "       5               -16.225260       -175.391205  ...   \n",
              "       6               -16.225260       -175.391205  ...   \n",
              "       7               -16.252529       -175.391205  ...   \n",
              "       8               -16.252529       -175.391205  ...   \n",
              "       9               -16.252529       -175.391205  ...   \n",
              "1      0                 0.953661        273.539734  ...   \n",
              "       1                 0.953661        273.539734  ...   \n",
              "       2                 0.953661        271.589935  ...   \n",
              "       3                 0.953661        271.589935  ...   \n",
              "       4                 0.977211        270.316315  ...   \n",
              "       5                 0.977211        270.316315  ...   \n",
              "       6                 0.977211        272.447296  ...   \n",
              "       7                 0.977211        272.447296  ...   \n",
              "       8                 0.977211        266.232025  ...   \n",
              "       9                 0.977211        266.232025  ...   \n",
              "\n",
              "             field.twist.angular.z  delta_yaw  field.alt_error   delta_x  \\\n",
              "flight step                                                                \n",
              "0      0                  0.023579  -2.971535        14.520000  0.922187   \n",
              "       1                  0.023579  -2.971535        14.520000  0.970655   \n",
              "       2                  0.023579  -2.971535        14.589999  1.021098   \n",
              "       3                  0.023579  -2.971535        14.589999  1.021098   \n",
              "       4                  0.023579  -1.473946        14.660000  1.089255   \n",
              "       5                  0.023579  -1.473946        14.660000  1.089255   \n",
              "       6                  0.023579  -1.473946        14.719999  1.171721   \n",
              "       7                  0.047881  -1.473946        14.719999  1.171721   \n",
              "       8                  0.047881  -1.473946        14.719999  1.215309   \n",
              "       9                  0.047881  -1.473946        14.719999  1.215309   \n",
              "1      0                  0.027630  -0.151993        62.289997 -2.991218   \n",
              "       1                  0.027630   0.262177        62.289997 -2.994329   \n",
              "       2                  0.027630   0.262177        62.570000 -2.993919   \n",
              "       3                  0.027630   0.262177        62.570000 -2.994526   \n",
              "       4                  0.009876   0.262177        62.849998 -2.992084   \n",
              "       5                  0.009876   0.262177        62.849998 -2.992084   \n",
              "       6                  0.009876   1.262177        63.129997 -3.003404   \n",
              "       7                  0.009876   1.262177        63.129997 -3.004581   \n",
              "       8                  0.009876   1.262177        63.399998 -3.009757   \n",
              "       9                  0.009876   1.262177        63.399998 -3.009757   \n",
              "\n",
              "             field.xtrack_error  delta_roll_airspeed  delta_pitch   delta_y  \\\n",
              "flight step                                                                   \n",
              "0      0               2.341163            16.000000     0.970821  2.644057   \n",
              "       1               2.341163            16.000000     0.970821  2.649230   \n",
              "       2               2.311685            16.000000     1.110821  2.659617   \n",
              "       3               2.311685            16.000000     1.110821  2.659617   \n",
              "       4               2.289824            16.000000     1.502275  2.673594   \n",
              "       5               2.289824            16.000000     1.612274  2.673594   \n",
              "       6               2.279226            16.000000     1.682274  2.683217   \n",
              "       7               2.279226            16.000000     1.682274  2.683217   \n",
              "       8               2.279226            16.000000     1.682274  2.684560   \n",
              "       9               2.279226            16.000000     1.682274  2.684560   \n",
              "1      0               0.183409             2.735397     0.060694 -0.374858   \n",
              "       1               0.183409             2.735397    -0.577571 -0.380630   \n",
              "       2               0.211928             2.715899    -0.187571 -0.384163   \n",
              "       3               0.211928             2.715899    -0.187571 -0.389715   \n",
              "       4               0.236116             2.703163    -0.387571 -0.398407   \n",
              "       5               0.236116             2.703163    -0.387571 -0.398407   \n",
              "       6               0.250294             2.724473    -0.847571 -0.625295   \n",
              "       7               0.250294             2.724473    -0.847571 -0.629534   \n",
              "       8               0.297281             2.662320    -0.697571 -0.628692   \n",
              "       9               0.297281             2.662320    -0.697571 -0.628692   \n",
              "\n",
              "             field.twist.linear.y  field.angular_velocity.x  \n",
              "flight step                                                  \n",
              "0      0                -9.359675                 -0.026308  \n",
              "       1                -9.359675                 -0.026308  \n",
              "       2                -9.482356                 -0.026308  \n",
              "       3                -9.482356                 -0.049063  \n",
              "       4                -9.482356                 -0.049063  \n",
              "       5                -9.482356                 -0.049063  \n",
              "       6                -9.482356                 -0.049063  \n",
              "       7                -9.662485                 -0.049063  \n",
              "       8                -9.662485                 -0.049063  \n",
              "       9                -9.662485                 -0.049063  \n",
              "1      0               -12.998310                  0.115078  \n",
              "       1               -12.998310                  0.115078  \n",
              "       2               -12.998310                  0.115078  \n",
              "       3               -12.998310                  0.115078  \n",
              "       4               -12.997444                  0.115078  \n",
              "       5               -12.997444                  0.115078  \n",
              "       6               -12.997444                  0.115078  \n",
              "       7               -12.997444                  0.115078  \n",
              "       8               -12.997444                  0.061736  \n",
              "       9               -12.997444                  0.061736  \n",
              "\n",
              "[20 rows x 25 columns]"
            ]
          },
          "execution_count": 17,
          "metadata": {},
          "output_type": "execute_result"
        }
      ],
      "source": [
        "print(f\"X_train: {X_train.shape}\")\n",
        "print(f\"X_test: {X_test.shape}\")\n",
        "print(f\"y_train: {y_train.shape}\")\n",
        "print(f\"y_test: {y_test.shape}\")\n",
        "X_train.head(20)"
      ]
    },
    {
      "cell_type": "markdown",
      "metadata": {},
      "source": [
        "# Models, Training and Performance\n",
        "\n",
        "We choose to use three models (KNN, CNN, RNN), using the same pipeline, then we are showing the results with some metrics.\n",
        "\n",
        "\n"
      ]
    },
    {
      "cell_type": "code",
      "execution_count": 18,
      "metadata": {},
      "outputs": [],
      "source": [
        "from sktime.datatypes import check_raise\n",
        "from sklearn.model_selection import LearningCurveDisplay\n",
        "from sklearn.metrics import accuracy_score, confusion_matrix, classification_report, ConfusionMatrixDisplay\n",
        "\n",
        "from sklearn.pipeline import Pipeline\n",
        "from sktime.transformations.panel.padder import PaddingTransformer\n",
        "from sktime.transformations.panel.compose import ColumnConcatenator\n",
        "from sktime.transformations.panel.interpolate import TSInterpolator\n",
        "\n",
        "class_labels = np.array(list(classToString.values()))"
      ]
    },
    {
      "cell_type": "markdown",
      "metadata": {},
      "source": [
        "## K-Nearest Neighbour (KNN)"
      ]
    },
    {
      "cell_type": "markdown",
      "metadata": {},
      "source": [
        "**K-Nearest Neighbour (K-NN)** is a supervised machine learning algorithm employed for classification and regression tasks. An advantage of this model is that it is non-parametric (it doesn't make any assumptions about the data distribution) and so is widely disposable in real-life scenarios.\n",
        "\n",
        "The algorithm operates on the principle of *similarity*, where it predicts the label or value of a new data point by considering the labels/values of its K nearest neighbors in the training dataset.\n",
        "\n",
        "Steps of the algorithm:\n",
        "1. select the optimal K\n",
        "2. calculating distances\n",
        "3. finding the nearest neighbors\n",
        "4. voting for classification or taking average for regression\n",
        "\n",
        "It's easy to implement and has few hyperparameters: the value of K and the choice of the distance metric.\n",
        "\n",
        "<div style=\"text-align: center;\">\n",
        "  <img src=\"./imgs/KNNExample.png\" alt=\"KNN Example\" style=\"width: 50%;\"/>\n",
        "  <p style=\"font-size: small;\">Image source: <a href=\"https://www.geeksforgeeks.org/k-nearest-neighbours/\" target=\"_blank\">https://www.geeksforgeeks.org/k-nearest-neighbours/</a></p>\n",
        "</div>\n"
      ]
    },
    {
      "cell_type": "code",
      "execution_count": null,
      "metadata": {},
      "outputs": [],
      "source": [
        "from sktime.classification.distance_based import KNeighborsTimeSeriesClassifier\n",
        "from sktime.pipeline import Pipeline\n",
        "from sktime.classification.model_selection import TSCGridSearchCV\n",
        "\n",
        "param_grid = {\n",
        "    \"n_neighbors\": [5, 10],\n",
        "}\n",
        "\n",
        "# Automatically do 5 K-Fold\n",
        "grid_search_knn = TSCGridSearchCV(\n",
        "    estimator=KNeighborsTimeSeriesClassifier(distance='dtw'),\n",
        "    param_grid=param_grid,\n",
        "    scoring='accuracy'\n",
        ")\n",
        "\n",
        "grid_search_knn.fit(X_train, y_train)\n",
        "\n",
        "best_params = grid_search_knn.best_params_\n",
        "best_score = grid_search_knn.best_score_\n",
        "print(f\"Best parameters: {best_params}\")\n",
        "print(f\"Best cross-validation accuracy: {best_score:.2f}\")\n",
        "\n",
        "y_pred_knn = grid_search_knn.predict(X_test)\n",
        "\n",
        "y_pred_knn = grid_search_knn.predict(X_test)"
      ]
    },
    {
      "cell_type": "code",
      "execution_count": null,
      "metadata": {},
      "outputs": [
        {
          "data": {
            "text/html": [
              "<style>#sk-44c61ca7-a79f-4486-b890-40498c021f4e {color: black;background-color: white;}#sk-44c61ca7-a79f-4486-b890-40498c021f4e pre{padding: 0;}#sk-44c61ca7-a79f-4486-b890-40498c021f4e div.sk-toggleable {background-color: white;}#sk-44c61ca7-a79f-4486-b890-40498c021f4e label.sk-toggleable__label {cursor: pointer;display: block;width: 100%;margin-bottom: 0;padding: 0.3em;box-sizing: border-box;text-align: center;}#sk-44c61ca7-a79f-4486-b890-40498c021f4e label.sk-toggleable__label-arrow:before {content: \"▸\";float: left;margin-right: 0.25em;color: #696969;}#sk-44c61ca7-a79f-4486-b890-40498c021f4e label.sk-toggleable__label-arrow:hover:before {color: black;}#sk-44c61ca7-a79f-4486-b890-40498c021f4e div.sk-estimator:hover label.sk-toggleable__label-arrow:before {color: black;}#sk-44c61ca7-a79f-4486-b890-40498c021f4e div.sk-toggleable__content {max-height: 0;max-width: 0;overflow: hidden;text-align: left;background-color: #f0f8ff;}#sk-44c61ca7-a79f-4486-b890-40498c021f4e div.sk-toggleable__content pre {margin: 0.2em;color: black;border-radius: 0.25em;background-color: #f0f8ff;}#sk-44c61ca7-a79f-4486-b890-40498c021f4e input.sk-toggleable__control:checked~div.sk-toggleable__content {max-height: 200px;max-width: 100%;overflow: auto;}#sk-44c61ca7-a79f-4486-b890-40498c021f4e input.sk-toggleable__control:checked~label.sk-toggleable__label-arrow:before {content: \"▾\";}#sk-44c61ca7-a79f-4486-b890-40498c021f4e div.sk-estimator input.sk-toggleable__control:checked~label.sk-toggleable__label {background-color: #d4ebff;}#sk-44c61ca7-a79f-4486-b890-40498c021f4e div.sk-label input.sk-toggleable__control:checked~label.sk-toggleable__label {background-color: #d4ebff;}#sk-44c61ca7-a79f-4486-b890-40498c021f4e input.sk-hidden--visually {border: 0;clip: rect(1px 1px 1px 1px);clip: rect(1px, 1px, 1px, 1px);height: 1px;margin: -1px;overflow: hidden;padding: 0;position: absolute;width: 1px;}#sk-44c61ca7-a79f-4486-b890-40498c021f4e div.sk-estimator {font-family: monospace;background-color: #f0f8ff;border: 1px dotted black;border-radius: 0.25em;box-sizing: border-box;margin-bottom: 0.5em;}#sk-44c61ca7-a79f-4486-b890-40498c021f4e div.sk-estimator:hover {background-color: #d4ebff;}#sk-44c61ca7-a79f-4486-b890-40498c021f4e div.sk-parallel-item::after {content: \"\";width: 100%;border-bottom: 1px solid gray;flex-grow: 1;}#sk-44c61ca7-a79f-4486-b890-40498c021f4e div.sk-label:hover label.sk-toggleable__label {background-color: #d4ebff;}#sk-44c61ca7-a79f-4486-b890-40498c021f4e div.sk-serial::before {content: \"\";position: absolute;border-left: 1px solid gray;box-sizing: border-box;top: 2em;bottom: 0;left: 50%;}#sk-44c61ca7-a79f-4486-b890-40498c021f4e div.sk-serial {display: flex;flex-direction: column;align-items: center;background-color: white;padding-right: 0.2em;padding-left: 0.2em;}#sk-44c61ca7-a79f-4486-b890-40498c021f4e div.sk-item {z-index: 1;}#sk-44c61ca7-a79f-4486-b890-40498c021f4e div.sk-parallel {display: flex;align-items: stretch;justify-content: center;background-color: white;}#sk-44c61ca7-a79f-4486-b890-40498c021f4e div.sk-parallel::before {content: \"\";position: absolute;border-left: 1px solid gray;box-sizing: border-box;top: 2em;bottom: 0;left: 50%;}#sk-44c61ca7-a79f-4486-b890-40498c021f4e div.sk-parallel-item {display: flex;flex-direction: column;position: relative;background-color: white;}#sk-44c61ca7-a79f-4486-b890-40498c021f4e div.sk-parallel-item:first-child::after {align-self: flex-end;width: 50%;}#sk-44c61ca7-a79f-4486-b890-40498c021f4e div.sk-parallel-item:last-child::after {align-self: flex-start;width: 50%;}#sk-44c61ca7-a79f-4486-b890-40498c021f4e div.sk-parallel-item:only-child::after {width: 0;}#sk-44c61ca7-a79f-4486-b890-40498c021f4e div.sk-dashed-wrapped {border: 1px dashed gray;margin: 0 0.4em 0.5em 0.4em;box-sizing: border-box;padding-bottom: 0.4em;background-color: white;position: relative;}#sk-44c61ca7-a79f-4486-b890-40498c021f4e div.sk-label label {font-family: monospace;font-weight: bold;background-color: white;display: inline-block;line-height: 1.2em;}#sk-44c61ca7-a79f-4486-b890-40498c021f4e div.sk-label-container {position: relative;z-index: 2;text-align: center;}#sk-44c61ca7-a79f-4486-b890-40498c021f4e div.sk-container {/* jupyter's `normalize.less` sets `[hidden] { display: none; }` but bootstrap.min.css set `[hidden] { display: none !important; }` so we also need the `!important` here to be able to override the default hidden behavior on the sphinx rendered scikit-learn.org. See: https://github.com/scikit-learn/scikit-learn/issues/21755 */display: inline-block !important;position: relative;}#sk-44c61ca7-a79f-4486-b890-40498c021f4e div.sk-text-repr-fallback {display: none;}</style><div id='sk-44c61ca7-a79f-4486-b890-40498c021f4e' class=\"sk-top-container\"><div class=\"sk-text-repr-fallback\"><pre>KNeighborsTimeSeriesClassifier(n_neighbors=5)</pre><b>Please rerun this cell to show the HTML repr or trust the notebook.</b></div><div class=\"sk-container\" hidden><div class='sk-item'><div class=\"sk-estimator sk-toggleable\"><input class=\"sk-toggleable__control sk-hidden--visually\" id=UUID('5007b277-d33d-4823-b53e-5cde2349282f') type=\"checkbox\" checked><label for=UUID('5007b277-d33d-4823-b53e-5cde2349282f') class='sk-toggleable__label sk-toggleable__label-arrow'>KNeighborsTimeSeriesClassifier</label><div class=\"sk-toggleable__content\"><pre>KNeighborsTimeSeriesClassifier(n_neighbors=5)</pre></div></div></div></div></div>"
            ],
            "text/plain": [
              "KNeighborsTimeSeriesClassifier(n_neighbors=5)"
            ]
          },
          "execution_count": 25,
          "metadata": {},
          "output_type": "execute_result"
        }
      ],
      "source": [
        "from sktime.classification.distance_based import KNeighborsTimeSeriesClassifier\n",
        "\n",
        "knn = KNeighborsTimeSeriesClassifier(n_neighbors=5, distance='dtw')\n",
        "knn.fit(X_train, y_train)"
      ]
    },
    {
      "cell_type": "markdown",
      "metadata": {},
      "source": [
        "## Convolutional Neural Network (CNN)"
      ]
    },
    {
      "cell_type": "markdown",
      "metadata": {},
      "source": [
        "**Convolutional Neural Networks (CNNs)** are a class of deep learning algorithms commonly used for processing and analyzing visual data, but they have been applied also to other types of data, like the time series.\n",
        "\n",
        "The key concepts at the basis of CNN are:\n",
        "- *convolutional layers*: they can be a lot and each of them learns to detect different features, based on different filters at different resolutions\n",
        "- *relu*: activation function that leads to a faster learning by mapping the negative values to zero and maintaining the positive ones\n",
        "- *pooling layers*: simplifies the output by a non-linear downsampling (average or max), reducing the number of parameters the network has to learn\n",
        "\n",
        "<div style=\"text-align: center;\">\n",
        "  <img src=\"./imgs/CNNExample.png\" alt=\"CNN Example\" style=\"width: 50%;\"/>\n",
        "  <p style=\"font-size: small;\">Image source: <a href=\"https://it.mathworks.com/discovery/convolutional-neural-network.html\" target=\"_blank\">https://it.mathworks.com/discovery/convolutional-neural-network.html</a></p>\n",
        "</div>\n",
        " \n",
        "CNNs are suitable when you have a large amount of complex data, for example to learn the main features contained in an image, but also used with signals and time series. \n",
        "Some application fields are: medical imaging, audio elaboration, object detection, generation of synthetic data, and many others."
      ]
    },
    {
      "cell_type": "code",
      "execution_count": null,
      "metadata": {},
      "outputs": [],
      "source": [
        "from sktime.classification.deep_learning.cnn import CNNClassifier\n",
        "from sktime.datatypes import check_raise\n",
        "\n",
        "param_grid = {\n",
        "    \"kernel_size\": [3, 5],\n",
        "    \"n_conv_layers\": [3],\n",
        "}\n",
        "\n",
        "# Automatically do 5 K-Fold\n",
        "grid_search_cnn = TSCGridSearchCV(\n",
        "    estimator=CNNClassifier(n_epochs=100, batch_size=4, avg_pool_size=1, loss='binary_crossentropy'),\n",
        "    param_grid=param_grid,\n",
        "    scoring='accuracy',\n",
        "    verbose=2\n",
        ")\n",
        "\n",
        "grid_search_cnn.fit(X_train, y_train)\n",
        "\n",
        "best_params = grid_search_cnn.best_params_\n",
        "best_score = grid_search_cnn.best_score_\n",
        "print(f\"Best parameters: {best_params}\")\n",
        "print(f\"Best cross-validation accuracy: {best_score:.2f}\")\n",
        "\n",
        "y_pred_cnn = grid_search_cnn.predict(X_test)"
      ]
    },
    {
      "cell_type": "code",
      "execution_count": 21,
      "metadata": {
        "colab": {
          "base_uri": "https://localhost:8080/"
        },
        "id": "b_XtirFiwvvw",
        "outputId": "6e7d0127-1a83-4813-a1f7-6310e52f406c"
      },
      "outputs": [
        {
          "data": {
            "text/html": [
              "<style>#sk-89e46d1b-8d0c-42c3-8a22-a6c4d7f46e84 {color: black;background-color: white;}#sk-89e46d1b-8d0c-42c3-8a22-a6c4d7f46e84 pre{padding: 0;}#sk-89e46d1b-8d0c-42c3-8a22-a6c4d7f46e84 div.sk-toggleable {background-color: white;}#sk-89e46d1b-8d0c-42c3-8a22-a6c4d7f46e84 label.sk-toggleable__label {cursor: pointer;display: block;width: 100%;margin-bottom: 0;padding: 0.3em;box-sizing: border-box;text-align: center;}#sk-89e46d1b-8d0c-42c3-8a22-a6c4d7f46e84 label.sk-toggleable__label-arrow:before {content: \"▸\";float: left;margin-right: 0.25em;color: #696969;}#sk-89e46d1b-8d0c-42c3-8a22-a6c4d7f46e84 label.sk-toggleable__label-arrow:hover:before {color: black;}#sk-89e46d1b-8d0c-42c3-8a22-a6c4d7f46e84 div.sk-estimator:hover label.sk-toggleable__label-arrow:before {color: black;}#sk-89e46d1b-8d0c-42c3-8a22-a6c4d7f46e84 div.sk-toggleable__content {max-height: 0;max-width: 0;overflow: hidden;text-align: left;background-color: #f0f8ff;}#sk-89e46d1b-8d0c-42c3-8a22-a6c4d7f46e84 div.sk-toggleable__content pre {margin: 0.2em;color: black;border-radius: 0.25em;background-color: #f0f8ff;}#sk-89e46d1b-8d0c-42c3-8a22-a6c4d7f46e84 input.sk-toggleable__control:checked~div.sk-toggleable__content {max-height: 200px;max-width: 100%;overflow: auto;}#sk-89e46d1b-8d0c-42c3-8a22-a6c4d7f46e84 input.sk-toggleable__control:checked~label.sk-toggleable__label-arrow:before {content: \"▾\";}#sk-89e46d1b-8d0c-42c3-8a22-a6c4d7f46e84 div.sk-estimator input.sk-toggleable__control:checked~label.sk-toggleable__label {background-color: #d4ebff;}#sk-89e46d1b-8d0c-42c3-8a22-a6c4d7f46e84 div.sk-label input.sk-toggleable__control:checked~label.sk-toggleable__label {background-color: #d4ebff;}#sk-89e46d1b-8d0c-42c3-8a22-a6c4d7f46e84 input.sk-hidden--visually {border: 0;clip: rect(1px 1px 1px 1px);clip: rect(1px, 1px, 1px, 1px);height: 1px;margin: -1px;overflow: hidden;padding: 0;position: absolute;width: 1px;}#sk-89e46d1b-8d0c-42c3-8a22-a6c4d7f46e84 div.sk-estimator {font-family: monospace;background-color: #f0f8ff;border: 1px dotted black;border-radius: 0.25em;box-sizing: border-box;margin-bottom: 0.5em;}#sk-89e46d1b-8d0c-42c3-8a22-a6c4d7f46e84 div.sk-estimator:hover {background-color: #d4ebff;}#sk-89e46d1b-8d0c-42c3-8a22-a6c4d7f46e84 div.sk-parallel-item::after {content: \"\";width: 100%;border-bottom: 1px solid gray;flex-grow: 1;}#sk-89e46d1b-8d0c-42c3-8a22-a6c4d7f46e84 div.sk-label:hover label.sk-toggleable__label {background-color: #d4ebff;}#sk-89e46d1b-8d0c-42c3-8a22-a6c4d7f46e84 div.sk-serial::before {content: \"\";position: absolute;border-left: 1px solid gray;box-sizing: border-box;top: 2em;bottom: 0;left: 50%;}#sk-89e46d1b-8d0c-42c3-8a22-a6c4d7f46e84 div.sk-serial {display: flex;flex-direction: column;align-items: center;background-color: white;padding-right: 0.2em;padding-left: 0.2em;}#sk-89e46d1b-8d0c-42c3-8a22-a6c4d7f46e84 div.sk-item {z-index: 1;}#sk-89e46d1b-8d0c-42c3-8a22-a6c4d7f46e84 div.sk-parallel {display: flex;align-items: stretch;justify-content: center;background-color: white;}#sk-89e46d1b-8d0c-42c3-8a22-a6c4d7f46e84 div.sk-parallel::before {content: \"\";position: absolute;border-left: 1px solid gray;box-sizing: border-box;top: 2em;bottom: 0;left: 50%;}#sk-89e46d1b-8d0c-42c3-8a22-a6c4d7f46e84 div.sk-parallel-item {display: flex;flex-direction: column;position: relative;background-color: white;}#sk-89e46d1b-8d0c-42c3-8a22-a6c4d7f46e84 div.sk-parallel-item:first-child::after {align-self: flex-end;width: 50%;}#sk-89e46d1b-8d0c-42c3-8a22-a6c4d7f46e84 div.sk-parallel-item:last-child::after {align-self: flex-start;width: 50%;}#sk-89e46d1b-8d0c-42c3-8a22-a6c4d7f46e84 div.sk-parallel-item:only-child::after {width: 0;}#sk-89e46d1b-8d0c-42c3-8a22-a6c4d7f46e84 div.sk-dashed-wrapped {border: 1px dashed gray;margin: 0 0.4em 0.5em 0.4em;box-sizing: border-box;padding-bottom: 0.4em;background-color: white;position: relative;}#sk-89e46d1b-8d0c-42c3-8a22-a6c4d7f46e84 div.sk-label label {font-family: monospace;font-weight: bold;background-color: white;display: inline-block;line-height: 1.2em;}#sk-89e46d1b-8d0c-42c3-8a22-a6c4d7f46e84 div.sk-label-container {position: relative;z-index: 2;text-align: center;}#sk-89e46d1b-8d0c-42c3-8a22-a6c4d7f46e84 div.sk-container {/* jupyter's `normalize.less` sets `[hidden] { display: none; }` but bootstrap.min.css set `[hidden] { display: none !important; }` so we also need the `!important` here to be able to override the default hidden behavior on the sphinx rendered scikit-learn.org. See: https://github.com/scikit-learn/scikit-learn/issues/21755 */display: inline-block !important;position: relative;}#sk-89e46d1b-8d0c-42c3-8a22-a6c4d7f46e84 div.sk-text-repr-fallback {display: none;}</style><div id='sk-89e46d1b-8d0c-42c3-8a22-a6c4d7f46e84' class=\"sk-top-container\"><div class=\"sk-text-repr-fallback\"><pre>CNNClassifier(avg_pool_size=1, batch_size=4, kernel_size=3,\n",
              "              loss=&#x27;binary_crossentropy&#x27;, n_conv_layers=3, n_epochs=50)</pre><b>Please rerun this cell to show the HTML repr or trust the notebook.</b></div><div class=\"sk-container\" hidden><div class='sk-item'><div class=\"sk-estimator sk-toggleable\"><input class=\"sk-toggleable__control sk-hidden--visually\" id=UUID('1841188c-3300-454a-928b-ac8f5224621a') type=\"checkbox\" checked><label for=UUID('1841188c-3300-454a-928b-ac8f5224621a') class='sk-toggleable__label sk-toggleable__label-arrow'>CNNClassifier</label><div class=\"sk-toggleable__content\"><pre>CNNClassifier(avg_pool_size=1, batch_size=4, kernel_size=3,\n",
              "              loss=&#x27;binary_crossentropy&#x27;, n_conv_layers=3, n_epochs=50)</pre></div></div></div></div></div>"
            ],
            "text/plain": [
              "CNNClassifier(avg_pool_size=1, batch_size=4, kernel_size=3,\n",
              "              loss='binary_crossentropy', n_conv_layers=3, n_epochs=50)"
            ]
          },
          "execution_count": 21,
          "metadata": {},
          "output_type": "execute_result"
        }
      ],
      "source": [
        "from sktime.classification.deep_learning.cnn import CNNClassifier\n",
        "from sktime.datatypes import check_raise\n",
        "\n",
        "cnn = CNNClassifier(n_epochs=50, batch_size=4, kernel_size=3, avg_pool_size=1, n_conv_layers=3, loss='binary_crossentropy')\n",
        "check_raise(X_train, mtype=\"pd-multiindex\")\n",
        "check_raise(y_train, mtype='np.ndarray')\n",
        "cnn.fit(X_train, y_train)"
      ]
    },
    {
      "cell_type": "markdown",
      "metadata": {},
      "source": [
        "## Recurrent Neural Network (RNN)"
      ]
    },
    {
      "cell_type": "markdown",
      "metadata": {},
      "source": [
        "**Recurrent Neural Networks (RNNs)** are a class of neural networks designed for sequential data. Unlike traditional feedforward neural networks, RNNs have connections that form directed cycles, enabling them to maintain a \"memory\" of previous inputs in the sequence.\n",
        "\n",
        "The most important feature in RNN is its *hidden state*, which remembers some information about a sequence until that moment. This state acts like a memory, allowing the net to remember the past information and use it to produce the next output.\n",
        "\n",
        "<div style=\"text-align: center;\">\n",
        "  <img src=\"./imgs/RNNExample.png\" alt=\"RNN Example\" style=\"width: 50%;\"/>\n",
        "  <p style=\"font-size: small;\">Image source: <a href=\"https://www.geeksforgeeks.org/introduction-to-recurrent-neural-network/\" target=\"_blank\">https://www.geeksforgeeks.org/introduction-to-recurrent-neural-network/</a></p>\n",
        "</div>\n",
        "\n",
        "RNNs are suitable for capturing temporal dependencies and relationships in sequential data, making them effective for tasks where context over time is important."
      ]
    },
    {
      "cell_type": "code",
      "execution_count": null,
      "metadata": {},
      "outputs": [
        {
          "name": "stdout",
          "output_type": "stream",
          "text": [
            "RECURRENT NEURAL NETWORK\n"
          ]
        },
        {
          "data": {
            "text/html": [
              "<style>#sk-2279522c-cf5a-4c8d-86f9-9467de630cd9 {color: black;background-color: white;}#sk-2279522c-cf5a-4c8d-86f9-9467de630cd9 pre{padding: 0;}#sk-2279522c-cf5a-4c8d-86f9-9467de630cd9 div.sk-toggleable {background-color: white;}#sk-2279522c-cf5a-4c8d-86f9-9467de630cd9 label.sk-toggleable__label {cursor: pointer;display: block;width: 100%;margin-bottom: 0;padding: 0.3em;box-sizing: border-box;text-align: center;}#sk-2279522c-cf5a-4c8d-86f9-9467de630cd9 label.sk-toggleable__label-arrow:before {content: \"▸\";float: left;margin-right: 0.25em;color: #696969;}#sk-2279522c-cf5a-4c8d-86f9-9467de630cd9 label.sk-toggleable__label-arrow:hover:before {color: black;}#sk-2279522c-cf5a-4c8d-86f9-9467de630cd9 div.sk-estimator:hover label.sk-toggleable__label-arrow:before {color: black;}#sk-2279522c-cf5a-4c8d-86f9-9467de630cd9 div.sk-toggleable__content {max-height: 0;max-width: 0;overflow: hidden;text-align: left;background-color: #f0f8ff;}#sk-2279522c-cf5a-4c8d-86f9-9467de630cd9 div.sk-toggleable__content pre {margin: 0.2em;color: black;border-radius: 0.25em;background-color: #f0f8ff;}#sk-2279522c-cf5a-4c8d-86f9-9467de630cd9 input.sk-toggleable__control:checked~div.sk-toggleable__content {max-height: 200px;max-width: 100%;overflow: auto;}#sk-2279522c-cf5a-4c8d-86f9-9467de630cd9 input.sk-toggleable__control:checked~label.sk-toggleable__label-arrow:before {content: \"▾\";}#sk-2279522c-cf5a-4c8d-86f9-9467de630cd9 div.sk-estimator input.sk-toggleable__control:checked~label.sk-toggleable__label {background-color: #d4ebff;}#sk-2279522c-cf5a-4c8d-86f9-9467de630cd9 div.sk-label input.sk-toggleable__control:checked~label.sk-toggleable__label {background-color: #d4ebff;}#sk-2279522c-cf5a-4c8d-86f9-9467de630cd9 input.sk-hidden--visually {border: 0;clip: rect(1px 1px 1px 1px);clip: rect(1px, 1px, 1px, 1px);height: 1px;margin: -1px;overflow: hidden;padding: 0;position: absolute;width: 1px;}#sk-2279522c-cf5a-4c8d-86f9-9467de630cd9 div.sk-estimator {font-family: monospace;background-color: #f0f8ff;border: 1px dotted black;border-radius: 0.25em;box-sizing: border-box;margin-bottom: 0.5em;}#sk-2279522c-cf5a-4c8d-86f9-9467de630cd9 div.sk-estimator:hover {background-color: #d4ebff;}#sk-2279522c-cf5a-4c8d-86f9-9467de630cd9 div.sk-parallel-item::after {content: \"\";width: 100%;border-bottom: 1px solid gray;flex-grow: 1;}#sk-2279522c-cf5a-4c8d-86f9-9467de630cd9 div.sk-label:hover label.sk-toggleable__label {background-color: #d4ebff;}#sk-2279522c-cf5a-4c8d-86f9-9467de630cd9 div.sk-serial::before {content: \"\";position: absolute;border-left: 1px solid gray;box-sizing: border-box;top: 2em;bottom: 0;left: 50%;}#sk-2279522c-cf5a-4c8d-86f9-9467de630cd9 div.sk-serial {display: flex;flex-direction: column;align-items: center;background-color: white;padding-right: 0.2em;padding-left: 0.2em;}#sk-2279522c-cf5a-4c8d-86f9-9467de630cd9 div.sk-item {z-index: 1;}#sk-2279522c-cf5a-4c8d-86f9-9467de630cd9 div.sk-parallel {display: flex;align-items: stretch;justify-content: center;background-color: white;}#sk-2279522c-cf5a-4c8d-86f9-9467de630cd9 div.sk-parallel::before {content: \"\";position: absolute;border-left: 1px solid gray;box-sizing: border-box;top: 2em;bottom: 0;left: 50%;}#sk-2279522c-cf5a-4c8d-86f9-9467de630cd9 div.sk-parallel-item {display: flex;flex-direction: column;position: relative;background-color: white;}#sk-2279522c-cf5a-4c8d-86f9-9467de630cd9 div.sk-parallel-item:first-child::after {align-self: flex-end;width: 50%;}#sk-2279522c-cf5a-4c8d-86f9-9467de630cd9 div.sk-parallel-item:last-child::after {align-self: flex-start;width: 50%;}#sk-2279522c-cf5a-4c8d-86f9-9467de630cd9 div.sk-parallel-item:only-child::after {width: 0;}#sk-2279522c-cf5a-4c8d-86f9-9467de630cd9 div.sk-dashed-wrapped {border: 1px dashed gray;margin: 0 0.4em 0.5em 0.4em;box-sizing: border-box;padding-bottom: 0.4em;background-color: white;position: relative;}#sk-2279522c-cf5a-4c8d-86f9-9467de630cd9 div.sk-label label {font-family: monospace;font-weight: bold;background-color: white;display: inline-block;line-height: 1.2em;}#sk-2279522c-cf5a-4c8d-86f9-9467de630cd9 div.sk-label-container {position: relative;z-index: 2;text-align: center;}#sk-2279522c-cf5a-4c8d-86f9-9467de630cd9 div.sk-container {/* jupyter's `normalize.less` sets `[hidden] { display: none; }` but bootstrap.min.css set `[hidden] { display: none !important; }` so we also need the `!important` here to be able to override the default hidden behavior on the sphinx rendered scikit-learn.org. See: https://github.com/scikit-learn/scikit-learn/issues/21755 */display: inline-block !important;position: relative;}#sk-2279522c-cf5a-4c8d-86f9-9467de630cd9 div.sk-text-repr-fallback {display: none;}</style><div id='sk-2279522c-cf5a-4c8d-86f9-9467de630cd9' class=\"sk-top-container\"><div class=\"sk-text-repr-fallback\"><pre>SimpleRNNClassifier(batch_size=20, loss=&#x27;binary_crossentropy&#x27;, n_epochs=50)</pre><b>Please rerun this cell to show the HTML repr or trust the notebook.</b></div><div class=\"sk-container\" hidden><div class='sk-item'><div class=\"sk-estimator sk-toggleable\"><input class=\"sk-toggleable__control sk-hidden--visually\" id=UUID('72dc6b8d-24b3-4b22-ba04-6ad23b9fdb31') type=\"checkbox\" checked><label for=UUID('72dc6b8d-24b3-4b22-ba04-6ad23b9fdb31') class='sk-toggleable__label sk-toggleable__label-arrow'>SimpleRNNClassifier</label><div class=\"sk-toggleable__content\"><pre>SimpleRNNClassifier(batch_size=20, loss=&#x27;binary_crossentropy&#x27;, n_epochs=50)</pre></div></div></div></div></div>"
            ],
            "text/plain": [
              "SimpleRNNClassifier(batch_size=20, loss='binary_crossentropy', n_epochs=50)"
            ]
          },
          "execution_count": 23,
          "metadata": {},
          "output_type": "execute_result"
        }
      ],
      "source": [
        "from sktime.classification.deep_learning.rnn import SimpleRNNClassifier\n",
        "\n",
        "rnn = SimpleRNNClassifier(n_epochs=50, batch_size=20, loss='binary_crossentropy')\n",
        "rnn.fit(X_train, y_train)\n",
        "# rnn.score(X_test, y_test)\n",
        "\n",
        "y_pred_rnn = rnn.predict(X_test)"
      ]
    },
    {
      "cell_type": "markdown",
      "metadata": {},
      "source": [
        "### Performances"
      ]
    },
    {
      "cell_type": "code",
      "execution_count": null,
      "metadata": {
        "colab": {
          "base_uri": "https://localhost:8080/",
          "height": 767
        },
        "id": "nh03M8Wy7ZIN",
        "outputId": "a9b00c47-e3d9-475e-8d8d-f14a621a9ae5"
      },
      "outputs": [
        {
          "name": "stdout",
          "output_type": "stream",
          "text": [
            "94/94 [==============================] - 0s 1ms/step\n",
            "Accuracy: 0.89\n",
            "\n",
            "Classification Report:\n",
            "               precision    recall  f1-score   support\n",
            "\n",
            "         0.0       0.88      1.00      0.94      1551\n",
            "         1.0       0.00      0.00      0.00         9\n",
            "         2.0       0.96      0.71      0.82       143\n",
            "         3.0       0.90      0.60      0.72        15\n",
            "         4.0       0.00      0.00      0.00       151\n",
            "\n",
            "    accuracy                           0.89      1869\n",
            "   macro avg       0.55      0.46      0.50      1869\n",
            "weighted avg       0.81      0.89      0.85      1869\n",
            "\n"
          ]
        },
        {
          "data": {
            "image/png": "[encoded data removed]",
            "text/plain": [
              "<Figure size 432x288 with 2 Axes>"
            ]
          },
          "metadata": {
            "needs_background": "light"
          },
          "output_type": "display_data"
        }
      ],
      "source": [
        "rnn_acc = accuracy_score(y_test, y_pred_rnn)\n",
        "print(f\"Accuracy: {rnn_acc:.2f}\")\n",
        "\n",
        "report = classification_report(y_test, y_pred_rnn, zero_division = 0.0)\n",
        "print(\"\\nClassification Report:\\n\", report)\n",
        "\n",
        "cm = confusion_matrix(y_test, y_pred_rnn)\n",
        "disp = ConfusionMatrixDisplay(confusion_matrix=cm, display_labels=class_labels)\n",
        "disp.plot(cmap=plt.cm.Blues)\n",
        "plt.title('Confusion Matrix')\n",
        "plt.show()\n"
      ]
    },
    {
      "cell_type": "markdown",
      "metadata": {},
      "source": [
        "## Model comparison"
      ]
    }
  ],
  "metadata": {
    "colab": {
      "include_colab_link": true,
      "provenance": []
    },
    "kernelspec": {
      "display_name": "Python 3",
      "name": "python3"
    },
    "language_info": {
      "codemirror_mode": {
        "name": "ipython",
        "version": 3
      },
      "file_extension": ".py",
      "mimetype": "text/x-python",
      "name": "python",
      "nbconvert_exporter": "python",
      "pygments_lexer": "ipython3",
      "version": "3.9.10"
    }
  },
  "nbformat": 4,
  "nbformat_minor": 0
}
