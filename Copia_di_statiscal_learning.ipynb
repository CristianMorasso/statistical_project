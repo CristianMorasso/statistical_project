{
  "nbformat": 4,
  "nbformat_minor": 0,
  "metadata": {
    "colab": {
      "provenance": [],
      "include_colab_link": true
    },
    "kernelspec": {
      "name": "python3",
      "display_name": "Python 3"
    },
    "language_info": {
      "name": "python"
    }
  },
  "cells": [
    {
      "cell_type": "markdown",
      "metadata": {
        "id": "view-in-github",
        "colab_type": "text"
      },
      "source": [
        "<a href=\"https://colab.research.google.com/github/CristianMorasso/statistical_project/blob/master/Copia_di_statiscal_learning.ipynb\" target=\"_parent\"><img src=\"https://colab.research.google.com/assets/colab-badge.svg\" alt=\"Open In Colab\"/></a>"
      ]
    },
    {
      "cell_type": "markdown",
      "source": [
        "# Statistical Learning Project: ALFA Dataset Anaysis\n"
      ],
      "metadata": {
        "id": "DFS000cMNXMb"
      }
    },
    {
      "cell_type": "code",
      "execution_count": null,
      "metadata": {
        "id": "AYUOovxy7XZ8",
        "colab": {
          "base_uri": "https://localhost:8080/"
        },
        "outputId": "f5e5cfd9-a1d2-4c7c-88a5-fcbfc24c84b2"
      },
      "outputs": [
        {
          "output_type": "stream",
          "name": "stdout",
          "text": [
            "Collecting icecream\n",
            "  Downloading icecream-2.1.3-py2.py3-none-any.whl (8.4 kB)\n",
            "Collecting sktime\n",
            "  Downloading sktime-0.29.0-py3-none-any.whl (23.8 MB)\n",
            "\u001b[2K     \u001b[90m━━━━━━━━━━━━━━━━━━━━━━━━━━━━━━━━━━━━━━━━\u001b[0m \u001b[32m23.8/23.8 MB\u001b[0m \u001b[31m31.3 MB/s\u001b[0m eta \u001b[36m0:00:00\u001b[0m\n",
            "\u001b[?25hRequirement already satisfied: scikit-learn in /usr/local/lib/python3.10/dist-packages (1.2.2)\n",
            "Requirement already satisfied: polars in /usr/local/lib/python3.10/dist-packages (0.20.2)\n",
            "Requirement already satisfied: numpy in /usr/local/lib/python3.10/dist-packages (1.25.2)\n",
            "Collecting colorama>=0.3.9 (from icecream)\n",
            "  Downloading colorama-0.4.6-py2.py3-none-any.whl (25 kB)\n",
            "Requirement already satisfied: pygments>=2.2.0 in /usr/local/lib/python3.10/dist-packages (from icecream) (2.16.1)\n",
            "Collecting executing>=0.3.1 (from icecream)\n",
            "  Downloading executing-2.0.1-py2.py3-none-any.whl (24 kB)\n",
            "Collecting asttokens>=2.0.1 (from icecream)\n",
            "  Downloading asttokens-2.4.1-py2.py3-none-any.whl (27 kB)\n",
            "Requirement already satisfied: packaging in /usr/local/lib/python3.10/dist-packages (from sktime) (24.0)\n",
            "Requirement already satisfied: pandas<2.3.0,>=1.1 in /usr/local/lib/python3.10/dist-packages (from sktime) (2.0.3)\n",
            "Collecting scikit-base<0.8.0,>=0.6.1 (from sktime)\n",
            "  Downloading scikit_base-0.7.8-py3-none-any.whl (130 kB)\n",
            "\u001b[2K     \u001b[90m━━━━━━━━━━━━━━━━━━━━━━━━━━━━━━━━━━━━━━━━\u001b[0m \u001b[32m130.1/130.1 kB\u001b[0m \u001b[31m9.0 MB/s\u001b[0m eta \u001b[36m0:00:00\u001b[0m\n",
            "\u001b[?25hRequirement already satisfied: scipy<2.0.0,>=1.2 in /usr/local/lib/python3.10/dist-packages (from sktime) (1.11.4)\n",
            "Requirement already satisfied: joblib>=1.1.1 in /usr/local/lib/python3.10/dist-packages (from scikit-learn) (1.4.2)\n",
            "Requirement already satisfied: threadpoolctl>=2.0.0 in /usr/local/lib/python3.10/dist-packages (from scikit-learn) (3.5.0)\n",
            "Requirement already satisfied: six>=1.12.0 in /usr/local/lib/python3.10/dist-packages (from asttokens>=2.0.1->icecream) (1.16.0)\n",
            "Requirement already satisfied: python-dateutil>=2.8.2 in /usr/local/lib/python3.10/dist-packages (from pandas<2.3.0,>=1.1->sktime) (2.8.2)\n",
            "Requirement already satisfied: pytz>=2020.1 in /usr/local/lib/python3.10/dist-packages (from pandas<2.3.0,>=1.1->sktime) (2023.4)\n",
            "Requirement already satisfied: tzdata>=2022.1 in /usr/local/lib/python3.10/dist-packages (from pandas<2.3.0,>=1.1->sktime) (2024.1)\n",
            "Installing collected packages: scikit-base, executing, colorama, asttokens, icecream, sktime\n",
            "Successfully installed asttokens-2.4.1 colorama-0.4.6 executing-2.0.1 icecream-2.1.3 scikit-base-0.7.8 sktime-0.29.0\n",
            "Cloning into 'statistical_project'...\n",
            "remote: Enumerating objects: 70, done.\u001b[K\n",
            "remote: Total 70 (delta 0), reused 0 (delta 0), pack-reused 70\u001b[K\n",
            "Receiving objects: 100% (70/70), 90.30 MiB | 19.55 MiB/s, done.\n",
            "Updating files: 100% (62/62), done.\n"
          ]
        }
      ],
      "source": [
        "!pip install icecream sktime scikit-learn polars numpy\n",
        "!git clone https://github.com/CristianMorasso/statistical_project.git\n",
        "\n",
        "\n",
        "# # Connect Drive to get the Dataset\n",
        "# from google.colab import drive\n",
        "# drive.mount('/content/drive',force_remount=True)\n",
        "# dataset_dir= '/content/drive/MyDrive/alfa_dataset'\n"
      ]
    },
    {
      "cell_type": "code",
      "source": [
        "dataset_dir = \"statistical_project/data\""
      ],
      "metadata": {
        "id": "H-QpqZI1Pw_j"
      },
      "execution_count": null,
      "outputs": []
    },
    {
      "cell_type": "code",
      "source": [
        "import pandas  as pd\n",
        "import os\n",
        "\n",
        "dfs = [] # dataframe list\n",
        "class_dict = {}\n",
        "for i, cl  in  enumerate(os.listdir(dataset_dir)):\n",
        "  path1 = os.path.join(dataset_dir, cl)\n",
        "  if not os.path.isdir(path1) or cl == \"features\":\n",
        "    print(f\"-{cl} is not a dir\")\n",
        "    continue\n",
        "  class_dict[i] = cl\n",
        "  print(f\"{cl}\")\n",
        "  for f in  os.listdir(os.path.join(dataset_dir, cl)):\n",
        "    pathf = os.path.join(path1, f)\n",
        "    df = pd.read_csv(pathf)\n",
        "\n",
        "    try:\n",
        "      df.drop(\"field.data\", axis=1)\n",
        "    except:\n",
        "      continue\n",
        "\n",
        "    df.insert(0, \"Y\", [ i for _ in range(len(df))], True)\n",
        "    dfs.append(df)\n",
        "\n",
        "\n"
      ],
      "metadata": {
        "id": "nCaKGDiag_ya",
        "colab": {
          "base_uri": "https://localhost:8080/"
        },
        "outputId": "fb1b7ec0-68a3-49f4-c4ed-9ae2b75573f9"
      },
      "execution_count": null,
      "outputs": [
        {
          "output_type": "stream",
          "name": "stdout",
          "text": [
            "ailerons\n",
            "elevator\n",
            "rudder\n",
            "-README.md is not a dir\n",
            "no_failure\n",
            "-__init__.py is not a dir\n",
            "-features is not a dir\n",
            "engine\n"
          ]
        }
      ]
    },
    {
      "cell_type": "code",
      "source": [
        "# Select the k Best features\n",
        "from sklearn import feature_selection\n",
        "print(f\"Number of columns:{len(dfs[0].columns)}\")\n",
        "# SelectKBest"
      ],
      "metadata": {
        "colab": {
          "base_uri": "https://localhost:8080/"
        },
        "id": "uBqkUX-fI0EC",
        "outputId": "dca514ad-87c8-4b41-f3bc-cffcd66b2e8e"
      },
      "execution_count": null,
      "outputs": [
        {
          "output_type": "stream",
          "name": "stdout",
          "text": [
            "Number of columns:28\n"
          ]
        }
      ]
    },
    {
      "cell_type": "code",
      "source": [
        "classes = set()\n",
        "for df in dfs:\n",
        "  classes.add(df[\"y\"][0])\n",
        "  print(df[\"y\"][0],df.shape) #Le TS hanno lunghezza diversa valutare come risolvere\n",
        "print(\"classes: \", classes)"
      ],
      "metadata": {
        "id": "PdPkM7MQP36Q",
        "outputId": "6e2dd789-2e5b-4a2a-c894-f484e9e7a6df",
        "colab": {
          "base_uri": "https://localhost:8080/"
        }
      },
      "execution_count": null,
      "outputs": [
        {
          "output_type": "stream",
          "name": "stdout",
          "text": [
            "classes:  {'no_failure', 'engine', 'elevator', 'ailerons', 'rudder'}\n"
          ]
        }
      ]
    },
    {
      "cell_type": "markdown",
      "source": [
        "## Feature selection"
      ],
      "metadata": {
        "id": "o5Vh1IDyXE9F"
      }
    },
    {
      "cell_type": "code",
      "source": [
        "\n",
        "from sklearn.feature_selection import SelectKBest\n",
        "X_new = SelectKBest(k=20).fit(X, y)"
      ],
      "metadata": {
        "id": "gTeZ6pSyXGWC",
        "colab": {
          "base_uri": "https://localhost:8080/",
          "height": 159
        },
        "outputId": "e7cf737d-266d-445c-e9b7-ff84312384c8"
      },
      "execution_count": null,
      "outputs": [
        {
          "output_type": "error",
          "ename": "NameError",
          "evalue": "name 'X' is not defined",
          "traceback": [
            "\u001b[0;31m---------------------------------------------------------------------------\u001b[0m",
            "\u001b[0;31mNameError\u001b[0m                                 Traceback (most recent call last)",
            "\u001b[0;32m<ipython-input-10-30bc972d451b>\u001b[0m in \u001b[0;36m<cell line: 2>\u001b[0;34m()\u001b[0m\n\u001b[1;32m      1\u001b[0m \u001b[0;32mfrom\u001b[0m \u001b[0msklearn\u001b[0m\u001b[0;34m.\u001b[0m\u001b[0mfeature_selection\u001b[0m \u001b[0;32mimport\u001b[0m \u001b[0mSelectKBest\u001b[0m\u001b[0;34m\u001b[0m\u001b[0;34m\u001b[0m\u001b[0m\n\u001b[0;32m----> 2\u001b[0;31m \u001b[0mX_new\u001b[0m \u001b[0;34m=\u001b[0m \u001b[0mSelectKBest\u001b[0m\u001b[0;34m(\u001b[0m\u001b[0mk\u001b[0m\u001b[0;34m=\u001b[0m\u001b[0;36m20\u001b[0m\u001b[0;34m)\u001b[0m\u001b[0;34m.\u001b[0m\u001b[0mfit\u001b[0m\u001b[0;34m(\u001b[0m\u001b[0mX\u001b[0m\u001b[0;34m,\u001b[0m \u001b[0my\u001b[0m\u001b[0;34m)\u001b[0m\u001b[0;34m\u001b[0m\u001b[0;34m\u001b[0m\u001b[0m\n\u001b[0m",
            "\u001b[0;31mNameError\u001b[0m: name 'X' is not defined"
          ]
        }
      ]
    }
  ]
}