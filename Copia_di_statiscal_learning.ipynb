{
  "cells": [
    {
      "cell_type": "markdown",
      "metadata": {
        "id": "view-in-github",
        "colab_type": "text"
      },
      "source": [
        "<a href=\"https://colab.research.google.com/github/CristianMorasso/statistical_project/blob/master/Copia_di_statiscal_learning.ipynb\" target=\"_parent\"><img src=\"https://colab.research.google.com/assets/colab-badge.svg\" alt=\"Open In Colab\"/></a>"
      ]
    },
    {
      "cell_type": "markdown",
      "metadata": {
        "id": "DFS000cMNXMb"
      },
      "source": [
        "# Statistical Learning Project: ALFA Dataset Anaysis\n"
      ]
    },
    {
      "cell_type": "code",
      "execution_count": null,
      "metadata": {
        "colab": {
          "base_uri": "https://localhost:8080/"
        },
        "id": "AYUOovxy7XZ8",
        "outputId": "92bb967a-3841-47e2-ee61-98ddb18d3c50"
      },
      "outputs": [
        {
          "output_type": "stream",
          "name": "stdout",
          "text": [
            "Requirement already satisfied: icecream in /usr/local/lib/python3.10/dist-packages (2.1.3)\n",
            "Requirement already satisfied: sktime in /usr/local/lib/python3.10/dist-packages (0.29.1)\n",
            "Requirement already satisfied: scikit-learn in /usr/local/lib/python3.10/dist-packages (1.2.2)\n",
            "Requirement already satisfied: polars in /usr/local/lib/python3.10/dist-packages (0.20.2)\n",
            "Requirement already satisfied: numpy in /usr/local/lib/python3.10/dist-packages (1.25.2)\n",
            "Requirement already satisfied: colorama>=0.3.9 in /usr/local/lib/python3.10/dist-packages (from icecream) (0.4.6)\n",
            "Requirement already satisfied: pygments>=2.2.0 in /usr/local/lib/python3.10/dist-packages (from icecream) (2.16.1)\n",
            "Requirement already satisfied: executing>=0.3.1 in /usr/local/lib/python3.10/dist-packages (from icecream) (2.0.1)\n",
            "Requirement already satisfied: asttokens>=2.0.1 in /usr/local/lib/python3.10/dist-packages (from icecream) (2.4.1)\n",
            "Requirement already satisfied: packaging in /usr/local/lib/python3.10/dist-packages (from sktime) (24.0)\n",
            "Requirement already satisfied: pandas<2.3.0,>=1.1 in /usr/local/lib/python3.10/dist-packages (from sktime) (2.0.3)\n",
            "Requirement already satisfied: scikit-base<0.8.0,>=0.6.1 in /usr/local/lib/python3.10/dist-packages (from sktime) (0.7.8)\n",
            "Requirement already satisfied: scipy<2.0.0,>=1.2 in /usr/local/lib/python3.10/dist-packages (from sktime) (1.11.4)\n",
            "Requirement already satisfied: joblib>=1.1.1 in /usr/local/lib/python3.10/dist-packages (from scikit-learn) (1.4.2)\n",
            "Requirement already satisfied: threadpoolctl>=2.0.0 in /usr/local/lib/python3.10/dist-packages (from scikit-learn) (3.5.0)\n",
            "Requirement already satisfied: six>=1.12.0 in /usr/local/lib/python3.10/dist-packages (from asttokens>=2.0.1->icecream) (1.16.0)\n",
            "Requirement already satisfied: python-dateutil>=2.8.2 in /usr/local/lib/python3.10/dist-packages (from pandas<2.3.0,>=1.1->sktime) (2.8.2)\n",
            "Requirement already satisfied: pytz>=2020.1 in /usr/local/lib/python3.10/dist-packages (from pandas<2.3.0,>=1.1->sktime) (2023.4)\n",
            "Requirement already satisfied: tzdata>=2022.1 in /usr/local/lib/python3.10/dist-packages (from pandas<2.3.0,>=1.1->sktime) (2024.1)\n",
            "fatal: destination path 'statistical_project' already exists and is not an empty directory.\n"
          ]
        }
      ],
      "source": [
        "# Download the dataset from our git repository hosted on Github\n",
        "!pip install icecream sktime scikit-learn polars numpy\n",
        "!rm -rf statiscal_project\n",
        "!git clone https://github.com/CristianMorasso/statistical_project.git"
      ]
    },
    {
      "cell_type": "code",
      "execution_count": null,
      "metadata": {
        "colab": {
          "base_uri": "https://localhost:8080/",
          "height": 499
        },
        "id": "nCaKGDiag_ya",
        "outputId": "d8a47d61-ce86-43f8-d7d8-ce192227218a"
      },
      "outputs": [
        {
          "output_type": "stream",
          "name": "stdout",
          "text": [
            "Error for no_failure\n",
            "Error for no_failure\n",
            "Error for no_failure\n",
            "Error for no_failure\n",
            "Error for no_failure\n",
            "Error for no_failure\n",
            "Error for no_failure\n",
            "Error for no_failure\n",
            "Error for no_failure\n",
            "README.md is not a dir or not useful!\n",
            "__init__.py is not a dir or not useful!\n",
            "features is not a dir or not useful!\n",
            "\n",
            "Number of Time Series: 45\n"
          ]
        },
        {
          "output_type": "execute_result",
          "data": {
            "text/plain": [
              "   field.orientation.x  field.orientation.y  field.orientation.z  \\\n",
              "0            -0.018369            -0.107484            -0.993491   \n",
              "1            -0.018369            -0.107484            -0.993491   \n",
              "2            -0.018369            -0.107484            -0.993491   \n",
              "3            -0.018369            -0.107484            -0.993491   \n",
              "4            -0.018369            -0.107484            -0.993491   \n",
              "\n",
              "   field.angular_velocity.x  field.angular_velocity.y  \\\n",
              "0                  0.779634                  0.080698   \n",
              "1                  0.779634                  0.080698   \n",
              "2                  0.779634                  0.080698   \n",
              "3                  0.779634                  0.080698   \n",
              "4                  0.779634                  0.080698   \n",
              "\n",
              "   field.angular_velocity.z  field.linear_acceleration.x  \\\n",
              "0                 -0.054738                     1.608291   \n",
              "1                 -0.054738                     1.608291   \n",
              "2                 -0.054738                     1.608291   \n",
              "3                 -0.054738                     1.608291   \n",
              "4                 -0.054738                     1.608291   \n",
              "\n",
              "   field.linear_acceleration.y  field.linear_acceleration.z  field.data  ...  \\\n",
              "0                     0.912018                    11.434554           0  ...   \n",
              "1                     0.912018                    11.434554           0  ...   \n",
              "2                     0.912018                    11.434554           0  ...   \n",
              "3                     0.912018                    11.434554           0  ...   \n",
              "4                     0.912018                    11.434554           0  ...   \n",
              "\n",
              "   field.alt_error  field.aspd_error  field.xtrack_error   delta_yaw  \\\n",
              "0              NaN               NaN                 NaN         NaN   \n",
              "1            -0.54       -382.258423          -35.322163  178.019249   \n",
              "2            -0.54       -382.258423          -35.322163  178.019249   \n",
              "3            -0.54       -382.258423          -35.322163  178.019249   \n",
              "4            -0.68       -382.258423          -78.401863  -47.980751   \n",
              "\n",
              "   delta_pitch  delta_roll    delta_x   delta_y   delta_z  delta_roll_airspeed  \n",
              "0          NaN         NaN -13.328099  9.648238  1.324880                  NaN  \n",
              "1    -6.375798   27.482008  -1.363692  4.098843  1.326273                 15.0  \n",
              "2    -6.375798   27.482008  -1.363692  4.098843  1.326273                 15.0  \n",
              "3    -6.345798   27.482008  -1.492430  4.042004  1.380345                 15.0  \n",
              "4    -8.685798  -57.397989  -1.660447  3.971760  1.408059                 16.0  \n",
              "\n",
              "[5 rows x 26 columns]"
            ],
            "text/html": [
              "\n",
              "  <div id=\"df-7c67d5b5-c759-4f33-9020-74a5b9b05c52\" class=\"colab-df-container\">\n",
              "    <div>\n",
              "<style scoped>\n",
              "    .dataframe tbody tr th:only-of-type {\n",
              "        vertical-align: middle;\n",
              "    }\n",
              "\n",
              "    .dataframe tbody tr th {\n",
              "        vertical-align: top;\n",
              "    }\n",
              "\n",
              "    .dataframe thead th {\n",
              "        text-align: right;\n",
              "    }\n",
              "</style>\n",
              "<table border=\"1\" class=\"dataframe\">\n",
              "  <thead>\n",
              "    <tr style=\"text-align: right;\">\n",
              "      <th></th>\n",
              "      <th>field.orientation.x</th>\n",
              "      <th>field.orientation.y</th>\n",
              "      <th>field.orientation.z</th>\n",
              "      <th>field.angular_velocity.x</th>\n",
              "      <th>field.angular_velocity.y</th>\n",
              "      <th>field.angular_velocity.z</th>\n",
              "      <th>field.linear_acceleration.x</th>\n",
              "      <th>field.linear_acceleration.y</th>\n",
              "      <th>field.linear_acceleration.z</th>\n",
              "      <th>field.data</th>\n",
              "      <th>...</th>\n",
              "      <th>field.alt_error</th>\n",
              "      <th>field.aspd_error</th>\n",
              "      <th>field.xtrack_error</th>\n",
              "      <th>delta_yaw</th>\n",
              "      <th>delta_pitch</th>\n",
              "      <th>delta_roll</th>\n",
              "      <th>delta_x</th>\n",
              "      <th>delta_y</th>\n",
              "      <th>delta_z</th>\n",
              "      <th>delta_roll_airspeed</th>\n",
              "    </tr>\n",
              "  </thead>\n",
              "  <tbody>\n",
              "    <tr>\n",
              "      <th>0</th>\n",
              "      <td>-0.018369</td>\n",
              "      <td>-0.107484</td>\n",
              "      <td>-0.993491</td>\n",
              "      <td>0.779634</td>\n",
              "      <td>0.080698</td>\n",
              "      <td>-0.054738</td>\n",
              "      <td>1.608291</td>\n",
              "      <td>0.912018</td>\n",
              "      <td>11.434554</td>\n",
              "      <td>0</td>\n",
              "      <td>...</td>\n",
              "      <td>NaN</td>\n",
              "      <td>NaN</td>\n",
              "      <td>NaN</td>\n",
              "      <td>NaN</td>\n",
              "      <td>NaN</td>\n",
              "      <td>NaN</td>\n",
              "      <td>-13.328099</td>\n",
              "      <td>9.648238</td>\n",
              "      <td>1.324880</td>\n",
              "      <td>NaN</td>\n",
              "    </tr>\n",
              "    <tr>\n",
              "      <th>1</th>\n",
              "      <td>-0.018369</td>\n",
              "      <td>-0.107484</td>\n",
              "      <td>-0.993491</td>\n",
              "      <td>0.779634</td>\n",
              "      <td>0.080698</td>\n",
              "      <td>-0.054738</td>\n",
              "      <td>1.608291</td>\n",
              "      <td>0.912018</td>\n",
              "      <td>11.434554</td>\n",
              "      <td>0</td>\n",
              "      <td>...</td>\n",
              "      <td>-0.54</td>\n",
              "      <td>-382.258423</td>\n",
              "      <td>-35.322163</td>\n",
              "      <td>178.019249</td>\n",
              "      <td>-6.375798</td>\n",
              "      <td>27.482008</td>\n",
              "      <td>-1.363692</td>\n",
              "      <td>4.098843</td>\n",
              "      <td>1.326273</td>\n",
              "      <td>15.0</td>\n",
              "    </tr>\n",
              "    <tr>\n",
              "      <th>2</th>\n",
              "      <td>-0.018369</td>\n",
              "      <td>-0.107484</td>\n",
              "      <td>-0.993491</td>\n",
              "      <td>0.779634</td>\n",
              "      <td>0.080698</td>\n",
              "      <td>-0.054738</td>\n",
              "      <td>1.608291</td>\n",
              "      <td>0.912018</td>\n",
              "      <td>11.434554</td>\n",
              "      <td>0</td>\n",
              "      <td>...</td>\n",
              "      <td>-0.54</td>\n",
              "      <td>-382.258423</td>\n",
              "      <td>-35.322163</td>\n",
              "      <td>178.019249</td>\n",
              "      <td>-6.375798</td>\n",
              "      <td>27.482008</td>\n",
              "      <td>-1.363692</td>\n",
              "      <td>4.098843</td>\n",
              "      <td>1.326273</td>\n",
              "      <td>15.0</td>\n",
              "    </tr>\n",
              "    <tr>\n",
              "      <th>3</th>\n",
              "      <td>-0.018369</td>\n",
              "      <td>-0.107484</td>\n",
              "      <td>-0.993491</td>\n",
              "      <td>0.779634</td>\n",
              "      <td>0.080698</td>\n",
              "      <td>-0.054738</td>\n",
              "      <td>1.608291</td>\n",
              "      <td>0.912018</td>\n",
              "      <td>11.434554</td>\n",
              "      <td>0</td>\n",
              "      <td>...</td>\n",
              "      <td>-0.54</td>\n",
              "      <td>-382.258423</td>\n",
              "      <td>-35.322163</td>\n",
              "      <td>178.019249</td>\n",
              "      <td>-6.345798</td>\n",
              "      <td>27.482008</td>\n",
              "      <td>-1.492430</td>\n",
              "      <td>4.042004</td>\n",
              "      <td>1.380345</td>\n",
              "      <td>15.0</td>\n",
              "    </tr>\n",
              "    <tr>\n",
              "      <th>4</th>\n",
              "      <td>-0.018369</td>\n",
              "      <td>-0.107484</td>\n",
              "      <td>-0.993491</td>\n",
              "      <td>0.779634</td>\n",
              "      <td>0.080698</td>\n",
              "      <td>-0.054738</td>\n",
              "      <td>1.608291</td>\n",
              "      <td>0.912018</td>\n",
              "      <td>11.434554</td>\n",
              "      <td>0</td>\n",
              "      <td>...</td>\n",
              "      <td>-0.68</td>\n",
              "      <td>-382.258423</td>\n",
              "      <td>-78.401863</td>\n",
              "      <td>-47.980751</td>\n",
              "      <td>-8.685798</td>\n",
              "      <td>-57.397989</td>\n",
              "      <td>-1.660447</td>\n",
              "      <td>3.971760</td>\n",
              "      <td>1.408059</td>\n",
              "      <td>16.0</td>\n",
              "    </tr>\n",
              "  </tbody>\n",
              "</table>\n",
              "<p>5 rows × 26 columns</p>\n",
              "</div>\n",
              "    <div class=\"colab-df-buttons\">\n",
              "\n",
              "  <div class=\"colab-df-container\">\n",
              "    <button class=\"colab-df-convert\" onclick=\"convertToInteractive('df-7c67d5b5-c759-4f33-9020-74a5b9b05c52')\"\n",
              "            title=\"Convert this dataframe to an interactive table.\"\n",
              "            style=\"display:none;\">\n",
              "\n",
              "  <svg xmlns=\"http://www.w3.org/2000/svg\" height=\"24px\" viewBox=\"0 -960 960 960\">\n",
              "    <path d=\"M120-120v-720h720v720H120Zm60-500h600v-160H180v160Zm220 220h160v-160H400v160Zm0 220h160v-160H400v160ZM180-400h160v-160H180v160Zm440 0h160v-160H620v160ZM180-180h160v-160H180v160Zm440 0h160v-160H620v160Z\"/>\n",
              "  </svg>\n",
              "    </button>\n",
              "\n",
              "  <style>\n",
              "    .colab-df-container {\n",
              "      display:flex;\n",
              "      gap: 12px;\n",
              "    }\n",
              "\n",
              "    .colab-df-convert {\n",
              "      background-color: #E8F0FE;\n",
              "      border: none;\n",
              "      border-radius: 50%;\n",
              "      cursor: pointer;\n",
              "      display: none;\n",
              "      fill: #1967D2;\n",
              "      height: 32px;\n",
              "      padding: 0 0 0 0;\n",
              "      width: 32px;\n",
              "    }\n",
              "\n",
              "    .colab-df-convert:hover {\n",
              "      background-color: #E2EBFA;\n",
              "      box-shadow: 0px 1px 2px rgba(60, 64, 67, 0.3), 0px 1px 3px 1px rgba(60, 64, 67, 0.15);\n",
              "      fill: #174EA6;\n",
              "    }\n",
              "\n",
              "    .colab-df-buttons div {\n",
              "      margin-bottom: 4px;\n",
              "    }\n",
              "\n",
              "    [theme=dark] .colab-df-convert {\n",
              "      background-color: #3B4455;\n",
              "      fill: #D2E3FC;\n",
              "    }\n",
              "\n",
              "    [theme=dark] .colab-df-convert:hover {\n",
              "      background-color: #434B5C;\n",
              "      box-shadow: 0px 1px 3px 1px rgba(0, 0, 0, 0.15);\n",
              "      filter: drop-shadow(0px 1px 2px rgba(0, 0, 0, 0.3));\n",
              "      fill: #FFFFFF;\n",
              "    }\n",
              "  </style>\n",
              "\n",
              "    <script>\n",
              "      const buttonEl =\n",
              "        document.querySelector('#df-7c67d5b5-c759-4f33-9020-74a5b9b05c52 button.colab-df-convert');\n",
              "      buttonEl.style.display =\n",
              "        google.colab.kernel.accessAllowed ? 'block' : 'none';\n",
              "\n",
              "      async function convertToInteractive(key) {\n",
              "        const element = document.querySelector('#df-7c67d5b5-c759-4f33-9020-74a5b9b05c52');\n",
              "        const dataTable =\n",
              "          await google.colab.kernel.invokeFunction('convertToInteractive',\n",
              "                                                    [key], {});\n",
              "        if (!dataTable) return;\n",
              "\n",
              "        const docLinkHtml = 'Like what you see? Visit the ' +\n",
              "          '<a target=\"_blank\" href=https://colab.research.google.com/notebooks/data_table.ipynb>data table notebook</a>'\n",
              "          + ' to learn more about interactive tables.';\n",
              "        element.innerHTML = '';\n",
              "        dataTable['output_type'] = 'display_data';\n",
              "        await google.colab.output.renderOutput(dataTable, element);\n",
              "        const docLink = document.createElement('div');\n",
              "        docLink.innerHTML = docLinkHtml;\n",
              "        element.appendChild(docLink);\n",
              "      }\n",
              "    </script>\n",
              "  </div>\n",
              "\n",
              "\n",
              "<div id=\"df-a94de224-aa5a-41c8-9c74-5ceabd32da64\">\n",
              "  <button class=\"colab-df-quickchart\" onclick=\"quickchart('df-a94de224-aa5a-41c8-9c74-5ceabd32da64')\"\n",
              "            title=\"Suggest charts\"\n",
              "            style=\"display:none;\">\n",
              "\n",
              "<svg xmlns=\"http://www.w3.org/2000/svg\" height=\"24px\"viewBox=\"0 0 24 24\"\n",
              "     width=\"24px\">\n",
              "    <g>\n",
              "        <path d=\"M19 3H5c-1.1 0-2 .9-2 2v14c0 1.1.9 2 2 2h14c1.1 0 2-.9 2-2V5c0-1.1-.9-2-2-2zM9 17H7v-7h2v7zm4 0h-2V7h2v10zm4 0h-2v-4h2v4z\"/>\n",
              "    </g>\n",
              "</svg>\n",
              "  </button>\n",
              "\n",
              "<style>\n",
              "  .colab-df-quickchart {\n",
              "      --bg-color: #E8F0FE;\n",
              "      --fill-color: #1967D2;\n",
              "      --hover-bg-color: #E2EBFA;\n",
              "      --hover-fill-color: #174EA6;\n",
              "      --disabled-fill-color: #AAA;\n",
              "      --disabled-bg-color: #DDD;\n",
              "  }\n",
              "\n",
              "  [theme=dark] .colab-df-quickchart {\n",
              "      --bg-color: #3B4455;\n",
              "      --fill-color: #D2E3FC;\n",
              "      --hover-bg-color: #434B5C;\n",
              "      --hover-fill-color: #FFFFFF;\n",
              "      --disabled-bg-color: #3B4455;\n",
              "      --disabled-fill-color: #666;\n",
              "  }\n",
              "\n",
              "  .colab-df-quickchart {\n",
              "    background-color: var(--bg-color);\n",
              "    border: none;\n",
              "    border-radius: 50%;\n",
              "    cursor: pointer;\n",
              "    display: none;\n",
              "    fill: var(--fill-color);\n",
              "    height: 32px;\n",
              "    padding: 0;\n",
              "    width: 32px;\n",
              "  }\n",
              "\n",
              "  .colab-df-quickchart:hover {\n",
              "    background-color: var(--hover-bg-color);\n",
              "    box-shadow: 0 1px 2px rgba(60, 64, 67, 0.3), 0 1px 3px 1px rgba(60, 64, 67, 0.15);\n",
              "    fill: var(--button-hover-fill-color);\n",
              "  }\n",
              "\n",
              "  .colab-df-quickchart-complete:disabled,\n",
              "  .colab-df-quickchart-complete:disabled:hover {\n",
              "    background-color: var(--disabled-bg-color);\n",
              "    fill: var(--disabled-fill-color);\n",
              "    box-shadow: none;\n",
              "  }\n",
              "\n",
              "  .colab-df-spinner {\n",
              "    border: 2px solid var(--fill-color);\n",
              "    border-color: transparent;\n",
              "    border-bottom-color: var(--fill-color);\n",
              "    animation:\n",
              "      spin 1s steps(1) infinite;\n",
              "  }\n",
              "\n",
              "  @keyframes spin {\n",
              "    0% {\n",
              "      border-color: transparent;\n",
              "      border-bottom-color: var(--fill-color);\n",
              "      border-left-color: var(--fill-color);\n",
              "    }\n",
              "    20% {\n",
              "      border-color: transparent;\n",
              "      border-left-color: var(--fill-color);\n",
              "      border-top-color: var(--fill-color);\n",
              "    }\n",
              "    30% {\n",
              "      border-color: transparent;\n",
              "      border-left-color: var(--fill-color);\n",
              "      border-top-color: var(--fill-color);\n",
              "      border-right-color: var(--fill-color);\n",
              "    }\n",
              "    40% {\n",
              "      border-color: transparent;\n",
              "      border-right-color: var(--fill-color);\n",
              "      border-top-color: var(--fill-color);\n",
              "    }\n",
              "    60% {\n",
              "      border-color: transparent;\n",
              "      border-right-color: var(--fill-color);\n",
              "    }\n",
              "    80% {\n",
              "      border-color: transparent;\n",
              "      border-right-color: var(--fill-color);\n",
              "      border-bottom-color: var(--fill-color);\n",
              "    }\n",
              "    90% {\n",
              "      border-color: transparent;\n",
              "      border-bottom-color: var(--fill-color);\n",
              "    }\n",
              "  }\n",
              "</style>\n",
              "\n",
              "  <script>\n",
              "    async function quickchart(key) {\n",
              "      const quickchartButtonEl =\n",
              "        document.querySelector('#' + key + ' button');\n",
              "      quickchartButtonEl.disabled = true;  // To prevent multiple clicks.\n",
              "      quickchartButtonEl.classList.add('colab-df-spinner');\n",
              "      try {\n",
              "        const charts = await google.colab.kernel.invokeFunction(\n",
              "            'suggestCharts', [key], {});\n",
              "      } catch (error) {\n",
              "        console.error('Error during call to suggestCharts:', error);\n",
              "      }\n",
              "      quickchartButtonEl.classList.remove('colab-df-spinner');\n",
              "      quickchartButtonEl.classList.add('colab-df-quickchart-complete');\n",
              "    }\n",
              "    (() => {\n",
              "      let quickchartButtonEl =\n",
              "        document.querySelector('#df-a94de224-aa5a-41c8-9c74-5ceabd32da64 button');\n",
              "      quickchartButtonEl.style.display =\n",
              "        google.colab.kernel.accessAllowed ? 'block' : 'none';\n",
              "    })();\n",
              "  </script>\n",
              "</div>\n",
              "    </div>\n",
              "  </div>\n"
            ],
            "application/vnd.google.colaboratory.intrinsic+json": {
              "type": "dataframe"
            }
          },
          "metadata": {},
          "execution_count": 14
        }
      ],
      "source": [
        "# Read the data from the csv files\n",
        "import numpy as np\n",
        "import pandas  as pd\n",
        "import os\n",
        "from random import shuffle\n",
        "\n",
        "dataset_dir = \"statistical_project/data\"\n",
        "dfs = [] # dataframe list\n",
        "\n",
        "classToString= {0:\"no_failure\", 1:\"elevator\", 2:\"engine\", 3:\"rudder\",4:\"ailerons\"}\n",
        "\n",
        "stringToClass = {}\n",
        "for key, value in classToString.items():\n",
        "  stringToClass[value] = key\n",
        "\n",
        "\n",
        "for _, cl  in enumerate(os.listdir(dataset_dir)):\n",
        "  path1 = os.path.join(dataset_dir, cl)\n",
        "\n",
        "  # Get rid of files or bad dirs\n",
        "  if not os.path.isdir(path1) or cl == \"features\":\n",
        "    print(f\"{cl} is not a dir or not useful!\")\n",
        "    continue\n",
        "\n",
        "  for f in  os.listdir(path1):\n",
        "    pathf = os.path.join(path1, f)\n",
        "    df = pd.read_csv(pathf)\n",
        "\n",
        "    # Remove Label field\n",
        "\n",
        "    try:\n",
        "      df[\"field.data\"] = df[\"field.data\"].apply(func=lambda x: stringToClass[cl] if int(x)>0 else 0)\n",
        "      df.rename(columns={\"field.data\": \"Y\"})\n",
        "    except:\n",
        "      print(f\"Error for {cl}\")\n",
        "      df[\"Y\"]  = pd.Series([ 0 for _ in range(df.shape[0])])\n",
        "\n",
        "    # Transforming to a pd.multi-indexed-DataFrame\n",
        "    #\n",
        "    # Add the colums for multi-indexing\n",
        "    df.insert(0, \"flight\", [ i for _ in range(len(df))], True)\n",
        "    df.insert(1, \"step\", [ a for a in range(len(df))], True)\n",
        "    # And obv set the indexes for the df\n",
        "\n",
        "\n",
        "    # Drop the time column!\n",
        "    df = df.drop(\"%time\", axis=1)\n",
        "\n",
        "    # Save it\n",
        "    dfs.append(df)\n",
        "\n",
        "print(f\"\\nNumber of Time Series: {len(dfs)}\")\n",
        "assert len(dfs) == 45  # We know the exact number from the repo\n",
        "\n",
        "# Shuffle the array of dataframes for so that classes are not contiguous\n",
        "shuffle(dfs)\n",
        "\n",
        "dfs[0].head()"
      ]
    },
    {
      "cell_type": "markdown",
      "source": [
        "### Inpute the missing values and remove not usable features"
      ],
      "metadata": {
        "id": "yYKZSxKI3cUq"
      }
    },
    {
      "cell_type": "code",
      "source": [
        "from sklearn.impute import SimpleImputer\n",
        "import numpy as np\n",
        "\n",
        "# Apply the features Mask:\n",
        "#\n",
        "# finally use the mask on every timeseries of the OG dataframes list\n",
        "\n",
        "# Remove all the features that are not shared by all Time Series\n",
        "#\n",
        "# Only use the variables that can be found in all the dataframes\n",
        "features = []\n",
        "# Get the biggest set:\n",
        "# (We are considering that that the bigger set is just a superset and has all the other base features)\n",
        "for df in dfs:\n",
        "   features = max(features, df.columns.values, key=lambda x: len(x))\n",
        "# Then get the set intersection of all of the features sets\n",
        "features = set(features)\n",
        "for df in dfs:\n",
        "  features = features.intersection(set(df.columns.values))\n",
        "\n",
        "# Apply the feature mask and inputer to all the datframe in our dataset\n",
        "dfs = list(map(lambda x: SimpleImputer(missing_values=np.nan, strategy='mean').fit_transform(x[list(features)]) , dfs))"
      ],
      "metadata": {
        "colab": {
          "base_uri": "https://localhost:8080/"
        },
        "id": "D0A2_VkK3b_G",
        "outputId": "82b7cd40-8643-4c8f-85bc-528e7137641b"
      },
      "execution_count": null,
      "outputs": [
        {
          "output_type": "stream",
          "name": "stdout",
          "text": [
            "<class 'numpy.ndarray'>\n",
            "(1247, 26)\n"
          ]
        }
      ]
    },
    {
      "cell_type": "markdown",
      "source": [
        "### Feature Selection"
      ],
      "metadata": {
        "id": "TygVNz4Q6jDl"
      }
    },
    {
      "cell_type": "markdown",
      "source": [
        "##### With SelectKBest"
      ],
      "metadata": {
        "id": "hB0vZWpw3FLP"
      }
    },
    {
      "cell_type": "code",
      "execution_count": null,
      "metadata": {
        "colab": {
          "base_uri": "https://localhost:8080/"
        },
        "id": "gTeZ6pSyXGWC",
        "outputId": "20164a6e-885f-41ab-ab37-237b0da4bb8d"
      },
      "outputs": [
        {
          "output_type": "stream",
          "name": "stdout",
          "text": [
            "field.twist.linear.x           145\n",
            "field.orientation.y            294\n",
            "field.twist.angular.z          145\n",
            "field.linear_acceleration.y    294\n",
            "field.twist.linear.z           145\n",
            "field.angular_velocity.y       294\n",
            "field.aspd_error                57\n",
            "field.xtrack_error              57\n",
            "delta_x                         59\n",
            "delta_z                         59\n",
            "field.angular_velocity.z       294\n",
            "field.twist.linear.y           145\n",
            "field.alt_error                 57\n",
            "field.orientation.z            294\n",
            "delta_pitch                     57\n",
            "field.linear_acceleration.x    294\n",
            "delta_yaw                       57\n",
            "delta_roll                      59\n",
            "delta_y                         59\n",
            "field.angular_velocity.x       294\n",
            "field.orientation.x            294\n",
            "field.twist.angular.y          145\n",
            "delta_roll_airspeed             60\n",
            "field.twist.angular.x          145\n",
            "field.linear_acceleration.z    294\n",
            "dtype: int64\n",
            "Length of Concatted Dataframes: 96000\n"
          ]
        }
      ],
      "source": [
        "from sklearn.feature_selection import SelectKBest\n",
        "\n",
        "# Concat all the time series in as single dataframe\n",
        "concatted_dfs = pd.concat(dfs)\n",
        "y = concatted_dfs[\"Y\"]\n",
        "\n",
        "# Print the number of nans per per each columns\n",
        "print(concatted_dfs.isnull().sum())\n",
        "print(f\"Length of Concatted Dataframes: {len(concatted_dfs)}\")"
      ]
    },
    {
      "cell_type": "code",
      "execution_count": null,
      "metadata": {
        "id": "X7tiW05ZEoPU"
      },
      "outputs": [],
      "source": [
        "from sklearn.impute import SimpleImputer\n",
        "import numpy as np\n",
        "\n",
        "# Inpute the nan values to the mean of the other entries value of the same column\n",
        "imp = SimpleImputer(missing_values=np.nan, strategy='mean')\n",
        "imp.fit(concatted_dfs)\n",
        "inp_out = imp.transform(concatted_dfs)\n",
        "\n",
        "# Get the best 20 features of the dataset\n",
        "columns_ = concatted_dfs.columns.values\n",
        "feature_mask= SelectKBest(k=20).fit(inp_out, y).get_feature_names_out(columns_)\n",
        "\n",
        "# ( Uses sklearn.feature_selection.f_classify )\n",
        "print(\"Feature Mask:\")\n",
        "print(feature_mask)\n",
        "print(f\"Length of Feature Mask: {len(feature_mask)}\")"
      ]
    },
    {
      "cell_type": "code",
      "execution_count": null,
      "metadata": {
        "colab": {
          "base_uri": "https://localhost:8080/"
        },
        "id": "R4SWHHfMYFWn",
        "outputId": "f870dd75-c3d1-4ef7-9ff6-ff1551fdbace"
      },
      "outputs": [
        {
          "output_type": "stream",
          "name": "stdout",
          "text": [
            "[[-6.12688267e-02 -7.46916535e-02  7.84500438e-01 -4.09452055e-01\n",
            "  -6.20859159e-02 -1.58507355e+02 -3.64743652e+01  2.95104289e+00\n",
            "  -5.78435540e-01 -7.44200950e-02  1.69617445e-01  2.50000000e-01\n",
            "  -4.96952845e-01  4.41096354e-02  1.72930016e+02  1.65214367e+01\n",
            "  -6.64287492e-02 -6.19853966e-02  1.50000000e+01  1.05013892e+01]\n",
            " [-6.12688267e-02 -7.46916535e-02  7.84500438e-01 -4.09452055e-01\n",
            "  -6.20859159e-02 -1.49973297e+02 -3.47822838e+01  1.88149457e+01\n",
            "  -5.40839553e-01 -7.44200950e-02  1.69617445e-01  2.99999982e-01\n",
            "  -4.96952845e-01  4.41096354e-02  1.72930016e+02  1.64879150e+01\n",
            "  -6.64287492e-02 -6.19853966e-02  1.50000000e+01  1.05013892e+01]]\n",
            "(2185, 20)\n"
          ]
        }
      ],
      "source": [
        "# APPLY THE FEATURES MASK:\n",
        "#\n",
        "# finally use the mask on every dataframe in the original dataframeList\n",
        "# and also inpute but using time-series specific data:\n",
        "dfs = list(map(lambda x: SimpleImputer(missing_values=np.nan, strategy='mean').fit_transform(x[feature_mask]) , dfs))\n",
        "\n",
        "# Now we have the 20 best features without any nan value:\n",
        "type(dfs[0]) # is a numpy.ndarray! wow!\n",
        "print(dfs[0][:2,:]) # First 2 lines\n",
        "print(dfs[0].shape) # shape of the array"
      ]
    },
    {
      "cell_type": "code",
      "execution_count": null,
      "metadata": {
        "colab": {
          "base_uri": "https://localhost:8080/"
        },
        "id": "a8V6bQI5Zwst",
        "outputId": "29393a68-468c-4420-ba31-8bb1107943e9"
      },
      "outputs": [
        {
          "output_type": "stream",
          "name": "stdout",
          "text": [
            "[[-6.12688267e-02 -7.46916535e-02  7.84500438e-01 -4.09452055e-01\n",
            "  -6.20859159e-02 -1.58507355e+02 -3.64743652e+01  2.95104289e+00\n",
            "  -5.78435540e-01 -7.44200950e-02  1.69617445e-01  2.50000000e-01\n",
            "  -4.96952845e-01  4.41096354e-02  1.72930016e+02  1.65214367e+01\n",
            "  -6.64287492e-02 -6.19853966e-02  1.50000000e+01  1.05013892e+01]\n",
            " [-6.12688267e-02 -7.46916535e-02  7.84500438e-01 -4.09452055e-01\n",
            "  -6.20859159e-02 -1.49973297e+02 -3.47822838e+01  1.88149457e+01\n",
            "  -5.40839553e-01 -7.44200950e-02  1.69617445e-01  2.99999982e-01\n",
            "  -4.96952845e-01  4.41096354e-02  1.72930016e+02  1.64879150e+01\n",
            "  -6.64287492e-02 -6.19853966e-02  1.50000000e+01  1.05013892e+01]]\n",
            "(2185, 20)\n"
          ]
        }
      ],
      "source": [
        "# Now finally use the mask on every dataframe in the original\n",
        "# dataframeList and also inpute but using time-series specific data:\n",
        "new_dfs = list(map(lambda x: SimpleImputer(missing_values=np.nan, strategy='mean').fit_transform(x) , new_dfs))\n",
        "\n",
        "# Now we have the 20 best features without any nan value:\n",
        "type(new_dfs[0]) # is a numpy.ndarray! wow!\n",
        "print(new_dfs[0][:2,:]) # First 2 lines\n",
        "print(new_dfs[0].shape) # shape of the array"
      ]
    },
    {
      "cell_type": "markdown",
      "source": [
        "#### With randomForest scores:"
      ],
      "metadata": {
        "id": "1pHOsLRJ6twX"
      }
    },
    {
      "cell_type": "code",
      "source": [
        "# WIP currently it doesn't work\n",
        "import matplotlib.pyplot as plt\n",
        "from sklearn.ensemble import RandomForestClassifier\n",
        "\n",
        "rf = RandomForestClassifier()\n",
        "rf.fit(X_train,y_train)\n",
        "\n",
        "def plot_feature_importances(model):\n",
        "    fig_scale = 0.9\n",
        "    n_features = X_train.shape[1]\n",
        "    plt.figure(figsize=(7*fig_scale,5.4*fig_scale))\n",
        "    plt.barh(range(n_features), model.feature_importances_, align='center')\n",
        "    plt.yticks(np.arange(n_features), all_features)\n",
        "    plt.xlabel(\"Feature importance\")\n",
        "    plt.ylabel(\"Feature\")\n",
        "    plt.ylim(-1, n_features)"
      ],
      "metadata": {
        "id": "LChQqhIZrlrh"
      },
      "execution_count": null,
      "outputs": []
    },
    {
      "cell_type": "markdown",
      "source": [
        "### Split the dataset into windows"
      ],
      "metadata": {
        "id": "tZORfFeIsTJz"
      }
    },
    {
      "cell_type": "code",
      "source": [
        "from sktime.split import SlidingWindowSplitter\n",
        "\n",
        "splitted_dfs, window_length, step_length = [], 10, 7\n",
        "splitter = SlidingWindowSplitter(window_length=window_length, step_length=step_length)\n",
        "splitted_dfs = [ splitter.split(df)[0] for df in dfs] # We are ignoring the forecasting horizon\n",
        "splitted_dfs = np.concatenate(splitted_dfs, axis=0 )\n",
        "\n",
        "print(f\"Length of windowed dataset: {len(splitted_dfs)}\")"
      ],
      "metadata": {
        "colab": {
          "base_uri": "https://localhost:8080/",
          "height": 332
        },
        "id": "dFN8Sg2KTYSE",
        "outputId": "2d3377fd-adb0-41d9-94fa-b5a58c736f78"
      },
      "execution_count": null,
      "outputs": [
        {
          "output_type": "error",
          "ename": "TypeError",
          "evalue": "'generator' object is not subscriptable",
          "traceback": [
            "\u001b[0;31m---------------------------------------------------------------------------\u001b[0m",
            "\u001b[0;31mTypeError\u001b[0m                                 Traceback (most recent call last)",
            "\u001b[0;32m<ipython-input-48-4ff5e9eccac1>\u001b[0m in \u001b[0;36m<cell line: 6>\u001b[0;34m()\u001b[0m\n\u001b[1;32m      4\u001b[0m \u001b[0msplitted_dfs\u001b[0m\u001b[0;34m,\u001b[0m \u001b[0mwindow_length\u001b[0m\u001b[0;34m,\u001b[0m \u001b[0mstep_length\u001b[0m \u001b[0;34m=\u001b[0m \u001b[0;34m[\u001b[0m\u001b[0;34m]\u001b[0m\u001b[0;34m,\u001b[0m \u001b[0;36m10\u001b[0m\u001b[0;34m,\u001b[0m \u001b[0;36m7\u001b[0m\u001b[0;34m\u001b[0m\u001b[0;34m\u001b[0m\u001b[0m\n\u001b[1;32m      5\u001b[0m \u001b[0msplitter\u001b[0m \u001b[0;34m=\u001b[0m \u001b[0mSlidingWindowSplitter\u001b[0m\u001b[0;34m(\u001b[0m\u001b[0mwindow_length\u001b[0m\u001b[0;34m=\u001b[0m\u001b[0mwindow_length\u001b[0m\u001b[0;34m,\u001b[0m \u001b[0mstep_length\u001b[0m\u001b[0;34m=\u001b[0m\u001b[0mstep_length\u001b[0m\u001b[0;34m)\u001b[0m\u001b[0;34m\u001b[0m\u001b[0;34m\u001b[0m\u001b[0m\n\u001b[0;32m----> 6\u001b[0;31m \u001b[0msplitted_dfs\u001b[0m \u001b[0;34m=\u001b[0m \u001b[0;34m[\u001b[0m \u001b[0msplitter\u001b[0m\u001b[0;34m.\u001b[0m\u001b[0msplit\u001b[0m\u001b[0;34m(\u001b[0m\u001b[0mdf\u001b[0m\u001b[0;34m)\u001b[0m\u001b[0;34m[\u001b[0m\u001b[0;36m0\u001b[0m\u001b[0;34m]\u001b[0m \u001b[0;32mfor\u001b[0m \u001b[0mdf\u001b[0m \u001b[0;32min\u001b[0m \u001b[0mdfs\u001b[0m\u001b[0;34m]\u001b[0m\u001b[0;34m\u001b[0m\u001b[0;34m\u001b[0m\u001b[0m\n\u001b[0m\u001b[1;32m      7\u001b[0m \u001b[0msplitted_dfs\u001b[0m \u001b[0;34m=\u001b[0m \u001b[0mnp\u001b[0m\u001b[0;34m.\u001b[0m\u001b[0mconcatenate\u001b[0m\u001b[0;34m(\u001b[0m\u001b[0msplitted_dfs\u001b[0m\u001b[0;34m,\u001b[0m \u001b[0maxis\u001b[0m\u001b[0;34m=\u001b[0m\u001b[0;36m0\u001b[0m \u001b[0;34m)\u001b[0m\u001b[0;34m\u001b[0m\u001b[0;34m\u001b[0m\u001b[0m\n\u001b[1;32m      8\u001b[0m \u001b[0;34m\u001b[0m\u001b[0m\n",
            "\u001b[0;32m<ipython-input-48-4ff5e9eccac1>\u001b[0m in \u001b[0;36m<listcomp>\u001b[0;34m(.0)\u001b[0m\n\u001b[1;32m      4\u001b[0m \u001b[0msplitted_dfs\u001b[0m\u001b[0;34m,\u001b[0m \u001b[0mwindow_length\u001b[0m\u001b[0;34m,\u001b[0m \u001b[0mstep_length\u001b[0m \u001b[0;34m=\u001b[0m \u001b[0;34m[\u001b[0m\u001b[0;34m]\u001b[0m\u001b[0;34m,\u001b[0m \u001b[0;36m10\u001b[0m\u001b[0;34m,\u001b[0m \u001b[0;36m7\u001b[0m\u001b[0;34m\u001b[0m\u001b[0;34m\u001b[0m\u001b[0m\n\u001b[1;32m      5\u001b[0m \u001b[0msplitter\u001b[0m \u001b[0;34m=\u001b[0m \u001b[0mSlidingWindowSplitter\u001b[0m\u001b[0;34m(\u001b[0m\u001b[0mwindow_length\u001b[0m\u001b[0;34m=\u001b[0m\u001b[0mwindow_length\u001b[0m\u001b[0;34m,\u001b[0m \u001b[0mstep_length\u001b[0m\u001b[0;34m=\u001b[0m\u001b[0mstep_length\u001b[0m\u001b[0;34m)\u001b[0m\u001b[0;34m\u001b[0m\u001b[0;34m\u001b[0m\u001b[0m\n\u001b[0;32m----> 6\u001b[0;31m \u001b[0msplitted_dfs\u001b[0m \u001b[0;34m=\u001b[0m \u001b[0;34m[\u001b[0m \u001b[0msplitter\u001b[0m\u001b[0;34m.\u001b[0m\u001b[0msplit\u001b[0m\u001b[0;34m(\u001b[0m\u001b[0mdf\u001b[0m\u001b[0;34m)\u001b[0m\u001b[0;34m[\u001b[0m\u001b[0;36m0\u001b[0m\u001b[0;34m]\u001b[0m \u001b[0;32mfor\u001b[0m \u001b[0mdf\u001b[0m \u001b[0;32min\u001b[0m \u001b[0mdfs\u001b[0m\u001b[0;34m]\u001b[0m\u001b[0;34m\u001b[0m\u001b[0;34m\u001b[0m\u001b[0m\n\u001b[0m\u001b[1;32m      7\u001b[0m \u001b[0msplitted_dfs\u001b[0m \u001b[0;34m=\u001b[0m \u001b[0mnp\u001b[0m\u001b[0;34m.\u001b[0m\u001b[0mconcatenate\u001b[0m\u001b[0;34m(\u001b[0m\u001b[0msplitted_dfs\u001b[0m\u001b[0;34m,\u001b[0m \u001b[0maxis\u001b[0m\u001b[0;34m=\u001b[0m\u001b[0;36m0\u001b[0m \u001b[0;34m)\u001b[0m\u001b[0;34m\u001b[0m\u001b[0;34m\u001b[0m\u001b[0m\n\u001b[1;32m      8\u001b[0m \u001b[0;34m\u001b[0m\u001b[0m\n",
            "\u001b[0;31mTypeError\u001b[0m: 'generator' object is not subscriptable"
          ]
        }
      ]
    },
    {
      "cell_type": "code",
      "source": [
        "# Create a feature_mask with the n performing best features and then apply the feature_mask to all of our data"
      ],
      "metadata": {
        "id": "k2WreF8jsgdV"
      },
      "execution_count": null,
      "outputs": []
    },
    {
      "cell_type": "markdown",
      "source": [
        "### Multi-Indexed Pandas Dataframe (sktime Panel)"
      ],
      "metadata": {
        "id": "N1_zSKdKrybu"
      }
    },
    {
      "cell_type": "code",
      "execution_count": null,
      "metadata": {
        "colab": {
          "base_uri": "https://localhost:8080/"
        },
        "id": "m0BsGLcFtA_q",
        "outputId": "e39dab9c-0a79-422b-f246-0e3c06e8a29d"
      },
      "outputs": [
        {
          "output_type": "stream",
          "name": "stdout",
          "text": [
            "(96000, 22)\n",
            "(96000, 20)\n"
          ]
        }
      ],
      "source": [
        "# Finally let's create a multiIndexed pandas.Dataframe so that we can use our data with the sktime library\n",
        "_dfs = []\n",
        "for i, npVals in enumerate(new_dfs):\n",
        "  df = pd.DataFrame(npVals,columns=feature_mask)\n",
        "  df.insert(0, \"flight\", [ i for _ in range(len(df))], True)\n",
        "  df.insert(1, \"step\", [ a for a in range(len(df))], True)\n",
        "  _dfs.append(df)\n",
        "dfs = pd.concat(_dfs)\n",
        "\n",
        "# Set the 2 Indexes (only flight is unique)\n",
        "print(f\"Before: {dfs.shape}\")\n",
        "dfs = dfs.drop_duplicates(subset=['flight', 'step'], keep='last')\n",
        "dfs = dfs.set_index([\"flight\", \"step\"])\n",
        "print(f\"After: {dfs.shape}\")"
      ]
    },
    {
      "cell_type": "markdown",
      "metadata": {
        "id": "U-rpr02NwwbN"
      },
      "source": [
        "# Testing Models:"
      ]
    },
    {
      "cell_type": "code",
      "execution_count": null,
      "metadata": {
        "id": "5nkzUSDs68z6"
      },
      "outputs": [],
      "source": [
        "# list all classifiers in sktime\n",
        "#from sktime.registry import all_estimators\n",
        "#all_estimators(\"classifier\", as_dataframe=True) # , filter_tags={\"capability:unequal_length\":TrueNN"
      ]
    },
    {
      "cell_type": "code",
      "execution_count": null,
      "metadata": {
        "id": "fs85Yee5546j"
      },
      "outputs": [],
      "source": [
        "# from sktime.datatypes import MTYPE_REGISTER\n",
        "# pd.DataFrame(MTYPE_REGISTER)"
      ]
    },
    {
      "cell_type": "code",
      "execution_count": null,
      "metadata": {
        "id": "kx-Q31Es4qN7"
      },
      "outputs": [],
      "source": [
        "# from sktime.split import temporal_train_test_split\n",
        "# from sktime.datatypes import check_raise\n",
        "#\n",
        "# from sklearn.pipeline import Pipeline\n",
        "# from sktime.transformations.panel.padder import PaddingTransformer\n",
        "# from sktime.transformations.panel.compose import ColumnConcatenator\n",
        "# from sktime.transformations.panel.interpolate import TSInterpolator\n",
        "#\n",
        "# check_raise(dfs, mtype=\"pd-multiindex\")\n",
        "# check_raise(y_time_series, mtype='np.ndarray')\n",
        "# dfs =  PaddingTransformer().fit_transform(dfs)\n",
        "# y_train, y_test, X_train, X_test  = temporal_train_test_split(X=dfs,y=y_time_series, test_size=15)"
      ]
    },
    {
      "cell_type": "code",
      "execution_count": null,
      "metadata": {
        "colab": {
          "base_uri": "https://localhost:8080/"
        },
        "id": "b_XtirFiwvvw",
        "outputId": "2e70ca9e-d9a4-4f58-af7a-ce9b339ca973"
      },
      "outputs": [
        {
          "output_type": "stream",
          "name": "stderr",
          "text": [
            "/usr/local/lib/python3.10/dist-packages/sktime/base/_base_panel.py:542: UserWarning: only single label seen in y passed to fit of classifier CNNClassifier\n",
            "  warn(\n"
          ]
        },
        {
          "output_type": "execute_result",
          "data": {
            "text/plain": [
              "0.3333333333333333"
            ]
          },
          "metadata": {},
          "execution_count": 14
        }
      ],
      "source": [
        "from sktime.classification.interval_based import TimeSeriesForestClassifier\n",
        "from sktime.classification.feature_based import RandomIntervalClassifier\n",
        "from sktime.classification.deep_learning.cnn import CNNClassifier\n",
        "\n",
        "from sklearn.pipeline import Pipeline\n",
        "from sktime.transformations.panel.padder import PaddingTransformer\n",
        "from sktime.transformations.panel.compose import ColumnConcatenator\n",
        "from sktime.transformations.panel.interpolate import TSInterpolator\n",
        "\n",
        "cnn = CNNClassifier(n_epochs=2000, batch_size=4, kernel_size=3, avg_pool_size=3, n_conv_layers=3, verbose=True, loss='binary_crossentropy')\n",
        "cnn.fit(X_train, y_train)\n",
        "cnn.score(X_test,y_test)\n",
        "\n",
        "#clf = Pipeline([\n",
        "#    (\"transform\", TSInterpolator(50)),\n",
        "#     (\"concatenate\", ColumnConcatenator()),\n",
        "#     (\"classify\", TimeSeriesForestClassifier(n_estimators=100)),\n",
        "#    (\"transform\", PaddingTransformer()),\n",
        "#    (\"classify\", RandomIntervalClassifier(n_intervals=10)),\n",
        "#])\n",
        "#clf.fit(X_train, y_train)\n",
        "#clf.score(X_test,y_test)"
      ]
    },
    {
      "cell_type": "code",
      "execution_count": null,
      "metadata": {
        "colab": {
          "base_uri": "https://localhost:8080/"
        },
        "id": "nh03M8Wy7ZIN",
        "outputId": "2024558c-1585-479e-867c-d6f06ff0b33e"
      },
      "outputs": [
        {
          "output_type": "stream",
          "name": "stderr",
          "text": [
            "/usr/local/lib/python3.10/dist-packages/sktime/base/_base_panel.py:542: UserWarning: only single label seen in y passed to fit of classifier SimpleRNNClassifier\n",
            "  warn(\n"
          ]
        },
        {
          "output_type": "execute_result",
          "data": {
            "text/plain": [
              "0.3333333333333333"
            ]
          },
          "metadata": {},
          "execution_count": 16
        }
      ],
      "source": [
        "from sktime.classification.deep_learning.rnn import SimpleRNNClassifier\n",
        "from sklearn.model_selection import LearningCurveDisplay\n",
        "\n",
        "rnn = SimpleRNNClassifier(n_epochs=20, batch_size=20)\n",
        "rnn.fit(X_train, y_train)\n",
        "rnn.score(X_test, y_test)"
      ]
    }
  ],
  "metadata": {
    "colab": {
      "provenance": [],
      "include_colab_link": true
    },
    "kernelspec": {
      "display_name": "Python 3",
      "name": "python3"
    },
    "language_info": {
      "name": "python"
    }
  },
  "nbformat": 4,
  "nbformat_minor": 0
}